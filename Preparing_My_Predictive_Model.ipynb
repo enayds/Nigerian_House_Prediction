{
 "cells": [
  {
   "cell_type": "code",
   "execution_count": 1,
   "id": "c4d96874",
   "metadata": {},
   "outputs": [],
   "source": [
    "import pandas as pd\n",
    "import numpy as np\n",
    "import sklearn \n",
    "from sklearn.linear_model import LinearRegression as lr\n",
    "from sklearn.model_selection import train_test_split as tts, cross_val_score"
   ]
  },
  {
   "cell_type": "code",
   "execution_count": 2,
   "id": "25135bc5",
   "metadata": {},
   "outputs": [],
   "source": [
    "data = pd.read_csv('C:/Users/EGBUNA/Jiji_web_data/jiji_house_data(engineered).csv')"
   ]
  },
  {
   "cell_type": "markdown",
   "id": "60bfe3ec",
   "metadata": {},
   "source": [
    "## first creat a function for cross validataion and model fitting\n"
   ]
  },
  {
   "cell_type": "code",
   "execution_count": 3,
   "id": "91883c01",
   "metadata": {},
   "outputs": [],
   "source": [
    "\n",
    "def trained(model, x, y):\n",
    "    X_train,X_test,y_train,y_test = tts(X,np.log(y), test_size = 0.2, random_state = 42)\n",
    "    model.fit(X_train, y_train)\n",
    "    pred = model.predict(X_test)\n",
    "    cvs = cross_val_score(model, X_train, y_train, scoring = 'neg_mean_absolute_error', cv = 10)\n",
    "    print('mean = ', np.mean(cvs))\n",
    "    print('std = ', np.std(cvs))\n",
    "    return model"
   ]
  },
  {
   "cell_type": "markdown",
   "id": "2513f091",
   "metadata": {},
   "source": [
    "## using LinearRegression to check our model"
   ]
  },
  {
   "cell_type": "code",
   "execution_count": 4,
   "id": "60a1e95e",
   "metadata": {},
   "outputs": [
    {
     "name": "stdout",
     "output_type": "stream",
     "text": [
      "mean =  -0.04527072349418293\n",
      "std =  0.006603782700596411\n"
     ]
    },
    {
     "data": {
      "text/plain": [
       "LinearRegression()"
      ]
     },
     "execution_count": 4,
     "metadata": {},
     "output_type": "execute_result"
    }
   ],
   "source": [
    "from sklearn.linear_model import LinearRegression as LR\n",
    "model = LR()\n",
    "X,y = data.drop(['price'], axis = 1), data.price\n",
    "trained(model, X,y)"
   ]
  },
  {
   "cell_type": "markdown",
   "id": "399d19d4",
   "metadata": {},
   "source": [
    "## using GridSearchCV for model tunning"
   ]
  },
  {
   "cell_type": "code",
   "execution_count": 5,
   "id": "8a28300d",
   "metadata": {},
   "outputs": [
    {
     "data": {
      "text/plain": [
       "GridSearchCV(cv=5, estimator=RandomForestRegressor(),\n",
       "             param_grid={'max_depth': [7, 9, 11, 13, 15, 17],\n",
       "                         'n_estimators': [100, 200, 300, 400, 500]})"
      ]
     },
     "execution_count": 5,
     "metadata": {},
     "output_type": "execute_result"
    }
   ],
   "source": [
    "from sklearn.model_selection import GridSearchCV\n",
    "from sklearn.ensemble import RandomForestRegressor\n",
    "clf = GridSearchCV(RandomForestRegressor(),param_grid = {'n_estimators' : [100,200,300,400,500],'max_depth': [7,9,11,13,15,17]}, cv = 5, return_train_score = False)\n",
    "X_train,X_test,y_train,y_test = tts(X,y,test_size = 0.2, random_state = 42)\n",
    "clf.fit(X_train, y_train)"
   ]
  },
  {
   "cell_type": "code",
   "execution_count": 6,
   "id": "d9438189",
   "metadata": {},
   "outputs": [
    {
     "data": {
      "text/plain": [
       "{'max_depth': 7, 'n_estimators': 300}"
      ]
     },
     "execution_count": 6,
     "metadata": {},
     "output_type": "execute_result"
    }
   ],
   "source": [
    "clf.best_params_"
   ]
  },
  {
   "cell_type": "markdown",
   "id": "d8561331",
   "metadata": {},
   "source": [
    "## using Random Forest Regressor to check our model"
   ]
  },
  {
   "cell_type": "code",
   "execution_count": 7,
   "id": "24968160",
   "metadata": {},
   "outputs": [
    {
     "name": "stdout",
     "output_type": "stream",
     "text": [
      "mean =  -0.03962469810788373\n",
      "std =  0.00443395846175076\n"
     ]
    },
    {
     "data": {
      "text/plain": [
       "RandomForestRegressor(max_depth=11)"
      ]
     },
     "execution_count": 7,
     "metadata": {},
     "output_type": "execute_result"
    }
   ],
   "source": [
    "\n",
    "model = RandomForestRegressor(n_estimators = 100, max_depth = 11)\n",
    "trained(model, X,y)"
   ]
  },
  {
   "cell_type": "code",
   "execution_count": 17,
   "id": "c31f89b6",
   "metadata": {},
   "outputs": [
    {
     "name": "stdout",
     "output_type": "stream",
     "text": [
      "mean =  -0.03957826116640015\n",
      "std =  0.003709165648313345\n"
     ]
    },
    {
     "data": {
      "text/plain": [
       "RandomForestRegressor(max_depth=7, n_estimators=400)"
      ]
     },
     "execution_count": 17,
     "metadata": {},
     "output_type": "execute_result"
    }
   ],
   "source": [
    "model = RandomForestRegressor(n_estimators = 400, max_depth = 7)\n",
    "trained(model, X,y)"
   ]
  },
  {
   "cell_type": "code",
   "execution_count": null,
   "id": "3e54aeed",
   "metadata": {},
   "outputs": [],
   "source": []
  },
  {
   "cell_type": "markdown",
   "id": "d5b35fd4",
   "metadata": {},
   "source": [
    "## using StackingRegressor Regressor to check our model"
   ]
  },
  {
   "cell_type": "code",
   "execution_count": 9,
   "id": "dbfc8fb7",
   "metadata": {
    "collapsed": true
   },
   "outputs": [
    {
     "name": "stdout",
     "output_type": "stream",
     "text": [
      "mean =  -0.04246813694406033\n",
      "std =  0.004917054022437533\n"
     ]
    },
    {
     "data": {
      "text/plain": [
       "StackingRegressor(cv=5,\n",
       "                  estimators=[('knn', KNeighborsRegressor()),\n",
       "                              ('cart', DecisionTreeRegressor(max_depth=15)),\n",
       "                              ('svm', SVR()),\n",
       "                              ('linear_Regression', LinearRegression())],\n",
       "                  final_estimator=RandomForestRegressor(max_depth=7,\n",
       "                                                        n_estimators=300))"
      ]
     },
     "execution_count": 9,
     "metadata": {},
     "output_type": "execute_result"
    }
   ],
   "source": [
    "## creating my stacking algorithms \n",
    "from sklearn.linear_model import LinearRegression\n",
    "from sklearn.neighbors import KNeighborsRegressor\n",
    "from sklearn.tree import DecisionTreeRegressor\n",
    "from sklearn.svm import SVR\n",
    "from sklearn.ensemble import StackingRegressor\n",
    "# define the base models\n",
    "level0 = list()\n",
    "level0.append(('knn', KNeighborsRegressor()))\n",
    "level0.append(('cart', DecisionTreeRegressor(max_depth = 15)))\n",
    "level0.append(('svm', SVR()))\n",
    "level0.append(('linear_Regression', LinearRegression()))\n",
    "# define meta learner model\n",
    "level1 = RandomForestRegressor(n_estimators = 300, max_depth = 7)\n",
    "# define the stacking ensemble\n",
    "model = StackingRegressor(estimators=level0, final_estimator=level1, cv=5)\n",
    "trained(model,X,y)"
   ]
  },
  {
   "cell_type": "code",
   "execution_count": 16,
   "id": "92790198",
   "metadata": {},
   "outputs": [
    {
     "name": "stdout",
     "output_type": "stream",
     "text": [
      "mean =  -0.03965814325938169\n",
      "std =  0.0038481002395931384\n"
     ]
    },
    {
     "data": {
      "text/plain": [
       "RandomForestRegressor(max_depth=7, n_estimators=300)"
      ]
     },
     "execution_count": 16,
     "metadata": {},
     "output_type": "execute_result"
    }
   ],
   "source": [
    "\n",
    "model = RandomForestRegressor(n_estimators = 300, max_depth = 7)\n",
    "trained(model, X,y)"
   ]
  },
  {
   "cell_type": "code",
   "execution_count": null,
   "id": "1b7d7f84",
   "metadata": {},
   "outputs": [],
   "source": []
  },
  {
   "cell_type": "markdown",
   "id": "492b5466",
   "metadata": {},
   "source": [
    "## i'll be using the random forest model with n_estimators of 400 and max_depth of 7"
   ]
  },
  {
   "cell_type": "code",
   "execution_count": 18,
   "id": "7ad0a1fe",
   "metadata": {},
   "outputs": [],
   "source": [
    "predict = model.predict(X_test)\n"
   ]
  },
  {
   "cell_type": "markdown",
   "id": "05f7432d",
   "metadata": {},
   "source": [
    "### revert it back to normal price and check the diffrence between the actual value and predicted value "
   ]
  },
  {
   "cell_type": "code",
   "execution_count": 19,
   "id": "b718f904",
   "metadata": {},
   "outputs": [],
   "source": [
    "pred = np.exp(np.exp(predict))"
   ]
  },
  {
   "cell_type": "code",
   "execution_count": 20,
   "id": "5323b864",
   "metadata": {},
   "outputs": [
    {
     "data": {
      "text/plain": [
       "array([  810803.,   360160.,  7131713.,   993592.,  4284974.,   408361.,\n",
       "         671871.,   866469.,  1889351.,  2233528.,   256125.,   750741.,\n",
       "        2133380.,  2508311.,  1858493.,  6657751.,   563290.,  1601422.,\n",
       "         676860.,  5373567.,  1010794.,  1152488., 10512658.,   875856.,\n",
       "         938951.,  1372027.,  2526550.,  3022897.,   562669.,  3047299.,\n",
       "         651568.,   743396.,  3910098.,  2002000.,  1103097.,  1137483.,\n",
       "         243811.,   448114.,  4055040.,  1037468.,  3200455.,   872350.,\n",
       "        1970003.,  8728546.,  9373816.,   468755.,  2360420., 14418048.,\n",
       "        7413262., 15226515.,   621703.,  2711382.,  7744134.,  9126591.,\n",
       "        2782479., 11037506.,   354844.,  9909589.,   668929.,  3395260.,\n",
       "         659264.,  1434759.,  1206083.,   452771., 22732990.,  4039625.,\n",
       "         813102.,   507551.,   671871.,   447149., 11375512.,  1152488.,\n",
       "        1715832., 12287798.,   454053.,   214569.,   980252.,  9909589.,\n",
       "         223758.,  1354863.,  2069995.,  1350356.,  3239201.,  3395260.,\n",
       "        3200455.,  3643089.,   545884.,  1774265.,   836505.,  2966496.,\n",
       "         214569.,   607053.,   882603.,  3948157.,  5369575.,  6197874.,\n",
       "         282998.,  3451236.,   691831.,  1623465.,  1246983.,  1286875.,\n",
       "        6488005.,   660666.,   532062.,  5369575.,  1260310.,  4256928.,\n",
       "        2705837.,  1556117.,  4103221.,   357102.,   390209.,  5191016.,\n",
       "        1298911.,  7131713.,   232592.,  3623029.,  1832664.,  2377995.,\n",
       "         334676.,  1204480.,  3823967.,  1194266.,   269622.,  4414244.,\n",
       "        4277769.,  7080843.,   573906.,   970889.,   268598.,   332698.,\n",
       "        3901141.,  1646521.,  5136640.,   503491.])"
      ]
     },
     "execution_count": 20,
     "metadata": {},
     "output_type": "execute_result"
    }
   ],
   "source": [
    "np.round(pred)"
   ]
  },
  {
   "cell_type": "code",
   "execution_count": 21,
   "id": "892b113a",
   "metadata": {},
   "outputs": [],
   "source": [
    "actual = np.exp(y_test)"
   ]
  },
  {
   "cell_type": "code",
   "execution_count": 22,
   "id": "1b8d4d67",
   "metadata": {},
   "outputs": [],
   "source": [
    "index = y_test.index"
   ]
  },
  {
   "cell_type": "code",
   "execution_count": 23,
   "id": "c6e0ff9e",
   "metadata": {},
   "outputs": [
    {
     "data": {
      "text/html": [
       "<div>\n",
       "<style scoped>\n",
       "    .dataframe tbody tr th:only-of-type {\n",
       "        vertical-align: middle;\n",
       "    }\n",
       "\n",
       "    .dataframe tbody tr th {\n",
       "        vertical-align: top;\n",
       "    }\n",
       "\n",
       "    .dataframe thead th {\n",
       "        text-align: right;\n",
       "    }\n",
       "</style>\n",
       "<table border=\"1\" class=\"dataframe\">\n",
       "  <thead>\n",
       "    <tr style=\"text-align: right;\">\n",
       "      <th></th>\n",
       "      <th>actual</th>\n",
       "      <th>predicted</th>\n",
       "      <th>difference</th>\n",
       "    </tr>\n",
       "  </thead>\n",
       "  <tbody>\n",
       "    <tr>\n",
       "      <th>641</th>\n",
       "      <td>600000.0</td>\n",
       "      <td>810803.0</td>\n",
       "      <td>210803.0</td>\n",
       "    </tr>\n",
       "    <tr>\n",
       "      <th>302</th>\n",
       "      <td>1700000.0</td>\n",
       "      <td>360160.0</td>\n",
       "      <td>1339840.0</td>\n",
       "    </tr>\n",
       "    <tr>\n",
       "      <th>369</th>\n",
       "      <td>8000000.0</td>\n",
       "      <td>7131713.0</td>\n",
       "      <td>868287.0</td>\n",
       "    </tr>\n",
       "    <tr>\n",
       "      <th>493</th>\n",
       "      <td>10800000.0</td>\n",
       "      <td>993592.0</td>\n",
       "      <td>9806408.0</td>\n",
       "    </tr>\n",
       "    <tr>\n",
       "      <th>579</th>\n",
       "      <td>10000000.0</td>\n",
       "      <td>4284974.0</td>\n",
       "      <td>5715026.0</td>\n",
       "    </tr>\n",
       "    <tr>\n",
       "      <th>...</th>\n",
       "      <td>...</td>\n",
       "      <td>...</td>\n",
       "      <td>...</td>\n",
       "    </tr>\n",
       "    <tr>\n",
       "      <th>51</th>\n",
       "      <td>720000.0</td>\n",
       "      <td>332698.0</td>\n",
       "      <td>387302.0</td>\n",
       "    </tr>\n",
       "    <tr>\n",
       "      <th>204</th>\n",
       "      <td>1800000.0</td>\n",
       "      <td>3901141.0</td>\n",
       "      <td>2101141.0</td>\n",
       "    </tr>\n",
       "    <tr>\n",
       "      <th>544</th>\n",
       "      <td>4800000.0</td>\n",
       "      <td>1646521.0</td>\n",
       "      <td>3153479.0</td>\n",
       "    </tr>\n",
       "    <tr>\n",
       "      <th>428</th>\n",
       "      <td>10000000.0</td>\n",
       "      <td>5136640.0</td>\n",
       "      <td>4863360.0</td>\n",
       "    </tr>\n",
       "    <tr>\n",
       "      <th>247</th>\n",
       "      <td>600000.0</td>\n",
       "      <td>503491.0</td>\n",
       "      <td>96509.0</td>\n",
       "    </tr>\n",
       "  </tbody>\n",
       "</table>\n",
       "<p>136 rows × 3 columns</p>\n",
       "</div>"
      ],
      "text/plain": [
       "         actual  predicted  difference\n",
       "641    600000.0   810803.0    210803.0\n",
       "302   1700000.0   360160.0   1339840.0\n",
       "369   8000000.0  7131713.0    868287.0\n",
       "493  10800000.0   993592.0   9806408.0\n",
       "579  10000000.0  4284974.0   5715026.0\n",
       "..          ...        ...         ...\n",
       "51     720000.0   332698.0    387302.0\n",
       "204   1800000.0  3901141.0   2101141.0\n",
       "544   4800000.0  1646521.0   3153479.0\n",
       "428  10000000.0  5136640.0   4863360.0\n",
       "247    600000.0   503491.0     96509.0\n",
       "\n",
       "[136 rows x 3 columns]"
      ]
     },
     "execution_count": 23,
     "metadata": {},
     "output_type": "execute_result"
    }
   ],
   "source": [
    "new_data = pd.DataFrame({'actual':actual, 'predicted':np.round(pred)})\n",
    "new_data['difference'] = np.abs(new_data.actual - np.round(new_data.predicted))\n",
    "new_data"
   ]
  },
  {
   "cell_type": "code",
   "execution_count": 24,
   "id": "2b19956d",
   "metadata": {},
   "outputs": [
    {
     "data": {
      "text/html": [
       "<div>\n",
       "<style scoped>\n",
       "    .dataframe tbody tr th:only-of-type {\n",
       "        vertical-align: middle;\n",
       "    }\n",
       "\n",
       "    .dataframe tbody tr th {\n",
       "        vertical-align: top;\n",
       "    }\n",
       "\n",
       "    .dataframe thead th {\n",
       "        text-align: right;\n",
       "    }\n",
       "</style>\n",
       "<table border=\"1\" class=\"dataframe\">\n",
       "  <thead>\n",
       "    <tr style=\"text-align: right;\">\n",
       "      <th></th>\n",
       "      <th>actual</th>\n",
       "      <th>predicted</th>\n",
       "      <th>difference</th>\n",
       "    </tr>\n",
       "  </thead>\n",
       "  <tbody>\n",
       "    <tr>\n",
       "      <th>641</th>\n",
       "      <td>600000.0</td>\n",
       "      <td>810803.0</td>\n",
       "      <td>210803.0</td>\n",
       "    </tr>\n",
       "    <tr>\n",
       "      <th>302</th>\n",
       "      <td>1700000.0</td>\n",
       "      <td>360160.0</td>\n",
       "      <td>1339840.0</td>\n",
       "    </tr>\n",
       "    <tr>\n",
       "      <th>369</th>\n",
       "      <td>8000000.0</td>\n",
       "      <td>7131713.0</td>\n",
       "      <td>868287.0</td>\n",
       "    </tr>\n",
       "    <tr>\n",
       "      <th>493</th>\n",
       "      <td>10800000.0</td>\n",
       "      <td>993592.0</td>\n",
       "      <td>9806408.0</td>\n",
       "    </tr>\n",
       "    <tr>\n",
       "      <th>579</th>\n",
       "      <td>10000000.0</td>\n",
       "      <td>4284974.0</td>\n",
       "      <td>5715026.0</td>\n",
       "    </tr>\n",
       "    <tr>\n",
       "      <th>54</th>\n",
       "      <td>230000.0</td>\n",
       "      <td>408361.0</td>\n",
       "      <td>178361.0</td>\n",
       "    </tr>\n",
       "    <tr>\n",
       "      <th>645</th>\n",
       "      <td>1500000.0</td>\n",
       "      <td>671871.0</td>\n",
       "      <td>828129.0</td>\n",
       "    </tr>\n",
       "    <tr>\n",
       "      <th>257</th>\n",
       "      <td>400000.0</td>\n",
       "      <td>866469.0</td>\n",
       "      <td>466469.0</td>\n",
       "    </tr>\n",
       "    <tr>\n",
       "      <th>663</th>\n",
       "      <td>1500000.0</td>\n",
       "      <td>1889351.0</td>\n",
       "      <td>389351.0</td>\n",
       "    </tr>\n",
       "    <tr>\n",
       "      <th>478</th>\n",
       "      <td>1700000.0</td>\n",
       "      <td>2233528.0</td>\n",
       "      <td>533528.0</td>\n",
       "    </tr>\n",
       "    <tr>\n",
       "      <th>55</th>\n",
       "      <td>72000.0</td>\n",
       "      <td>256125.0</td>\n",
       "      <td>184125.0</td>\n",
       "    </tr>\n",
       "    <tr>\n",
       "      <th>639</th>\n",
       "      <td>800000.0</td>\n",
       "      <td>750741.0</td>\n",
       "      <td>49259.0</td>\n",
       "    </tr>\n",
       "    <tr>\n",
       "      <th>481</th>\n",
       "      <td>1800000.0</td>\n",
       "      <td>2133380.0</td>\n",
       "      <td>333380.0</td>\n",
       "    </tr>\n",
       "    <tr>\n",
       "      <th>77</th>\n",
       "      <td>250000.0</td>\n",
       "      <td>2508311.0</td>\n",
       "      <td>2258311.0</td>\n",
       "    </tr>\n",
       "    <tr>\n",
       "      <th>235</th>\n",
       "      <td>2000000.0</td>\n",
       "      <td>1858493.0</td>\n",
       "      <td>141507.0</td>\n",
       "    </tr>\n",
       "    <tr>\n",
       "      <th>277</th>\n",
       "      <td>12000000.0</td>\n",
       "      <td>6657751.0</td>\n",
       "      <td>5342249.0</td>\n",
       "    </tr>\n",
       "    <tr>\n",
       "      <th>304</th>\n",
       "      <td>450000.0</td>\n",
       "      <td>563290.0</td>\n",
       "      <td>113290.0</td>\n",
       "    </tr>\n",
       "    <tr>\n",
       "      <th>630</th>\n",
       "      <td>800000.0</td>\n",
       "      <td>1601422.0</td>\n",
       "      <td>801422.0</td>\n",
       "    </tr>\n",
       "    <tr>\n",
       "      <th>90</th>\n",
       "      <td>450000.0</td>\n",
       "      <td>676860.0</td>\n",
       "      <td>226860.0</td>\n",
       "    </tr>\n",
       "    <tr>\n",
       "      <th>457</th>\n",
       "      <td>4500000.0</td>\n",
       "      <td>5373567.0</td>\n",
       "      <td>873567.0</td>\n",
       "    </tr>\n",
       "  </tbody>\n",
       "</table>\n",
       "</div>"
      ],
      "text/plain": [
       "         actual  predicted  difference\n",
       "641    600000.0   810803.0    210803.0\n",
       "302   1700000.0   360160.0   1339840.0\n",
       "369   8000000.0  7131713.0    868287.0\n",
       "493  10800000.0   993592.0   9806408.0\n",
       "579  10000000.0  4284974.0   5715026.0\n",
       "54     230000.0   408361.0    178361.0\n",
       "645   1500000.0   671871.0    828129.0\n",
       "257    400000.0   866469.0    466469.0\n",
       "663   1500000.0  1889351.0    389351.0\n",
       "478   1700000.0  2233528.0    533528.0\n",
       "55      72000.0   256125.0    184125.0\n",
       "639    800000.0   750741.0     49259.0\n",
       "481   1800000.0  2133380.0    333380.0\n",
       "77     250000.0  2508311.0   2258311.0\n",
       "235   2000000.0  1858493.0    141507.0\n",
       "277  12000000.0  6657751.0   5342249.0\n",
       "304    450000.0   563290.0    113290.0\n",
       "630    800000.0  1601422.0    801422.0\n",
       "90     450000.0   676860.0    226860.0\n",
       "457   4500000.0  5373567.0    873567.0"
      ]
     },
     "execution_count": 24,
     "metadata": {},
     "output_type": "execute_result"
    }
   ],
   "source": [
    "new_data.head(20)"
   ]
  },
  {
   "cell_type": "code",
   "execution_count": null,
   "id": "76e96a4f",
   "metadata": {},
   "outputs": [],
   "source": []
  },
  {
   "cell_type": "markdown",
   "id": "c5e8352b",
   "metadata": {},
   "source": [
    "## saving the model to a Pickle file"
   ]
  },
  {
   "cell_type": "code",
   "execution_count": 25,
   "id": "b52f443e",
   "metadata": {},
   "outputs": [
    {
     "data": {
      "text/plain": [
       "['/Users/EGBUNA/jiji_web_data/jiji_prediction_model_new.pkl']"
      ]
     },
     "execution_count": 25,
     "metadata": {},
     "output_type": "execute_result"
    }
   ],
   "source": [
    "import joblib\n",
    "joblib.dump(model, '/Users/EGBUNA/jiji_web_data/jiji_prediction_model_new.pkl')"
   ]
  },
  {
   "cell_type": "code",
   "execution_count": null,
   "id": "cc2aaee3",
   "metadata": {},
   "outputs": [],
   "source": [
    "joblib.load('/Users/EGBUNA/jiji_web_data/jiji_prediction_model_new.pkl')"
   ]
  },
  {
   "cell_type": "code",
   "execution_count": null,
   "id": "191d0c1f",
   "metadata": {},
   "outputs": [],
   "source": [
    "data.columns"
   ]
  },
  {
   "cell_type": "code",
   "execution_count": null,
   "id": "7394b193",
   "metadata": {},
   "outputs": [],
   "source": []
  }
 ],
 "metadata": {
  "kernelspec": {
   "display_name": "Python 3",
   "language": "python",
   "name": "python3"
  },
  "language_info": {
   "codemirror_mode": {
    "name": "ipython",
    "version": 3
   },
   "file_extension": ".py",
   "mimetype": "text/x-python",
   "name": "python",
   "nbconvert_exporter": "python",
   "pygments_lexer": "ipython3",
   "version": "3.8.8"
  }
 },
 "nbformat": 4,
 "nbformat_minor": 5
}
