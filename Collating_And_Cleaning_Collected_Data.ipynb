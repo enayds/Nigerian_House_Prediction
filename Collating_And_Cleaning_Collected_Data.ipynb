{
 "cells": [
  {
   "cell_type": "code",
   "execution_count": 1,
   "id": "38df11d6",
   "metadata": {},
   "outputs": [],
   "source": [
    "import pandas as pd\n",
    "import numpy as np\n",
    "import re\n",
    "import warnings\n",
    "warnings.filterwarnings('ignore')"
   ]
  },
  {
   "cell_type": "markdown",
   "id": "a39d0b0b",
   "metadata": {},
   "source": [
    "## My data was collected over diffrent sessions thats why they are in seperate files"
   ]
  },
  {
   "cell_type": "code",
   "execution_count": 2,
   "id": "16abcea4",
   "metadata": {},
   "outputs": [],
   "source": [
    "# reading all house_data files collected \n",
    "data1 = pd.read_csv('C:/Users/EGBUNA/Jiji_web_data/1_bedroom_new.csv')\n",
    "data2 = pd.read_csv('C:/Users/EGBUNA/Jiji_web_data/one_bedroom_houses.csv')\n",
    "data3 = pd.read_csv('C:/Users/EGBUNA/Jiji_web_data/2_bedroom.csv')\n",
    "data4 = pd.read_csv('C:/Users/EGBUNA/Jiji_web_data/2bedroom_new.csv')\n",
    "data5 = pd.read_csv('C:/Users/EGBUNA/Jiji_web_data/2bedroom_new_2.csv')\n",
    "data6 = pd.read_csv('C:/Users/EGBUNA/Jiji_web_data/3bedroom.csv')\n",
    "data7 = pd.read_csv('C:/Users/EGBUNA/Jiji_web_data/owerri_3bedroom.csv')\n",
    "data8 = pd.read_csv('C:/Users/EGBUNA/Jiji_web_data/1bedroom_abj.csv')\n",
    "data9 = pd.read_csv('C:/Users/EGBUNA/Jiji_web_data/1bedroom_owerri.csv')\n",
    "data10 = pd.read_csv('C:/Users/EGBUNA/Jiji_web_data/5bedroom.csv')\n",
    "data11 = pd.read_csv('C:/Users/EGBUNA/Jiji_web_data/5bedroom_latest.csv')\n",
    "data12 = pd.read_csv('C:/Users/EGBUNA/Jiji_web_data/4bedrooms.csv')\n",
    "data13 = pd.read_csv('C:/Users/EGBUNA/Jiji_web_data/new_collections.csv')\n"
   ]
  },
  {
   "cell_type": "code",
   "execution_count": 3,
   "id": "37b3bdc1",
   "metadata": {},
   "outputs": [
    {
     "name": "stdout",
     "output_type": "stream",
     "text": [
      "(676, 25)\n"
     ]
    }
   ],
   "source": [
    "# concatinating each file into a single file to then work with\n",
    "\n",
    "data = pd.concat([data1, data2, data3, data4, data5, data6, data7,data8, data9, data10, data11, data12, data13], axis = 0)\n",
    "data.reset_index(drop = True)\n",
    "data.columns = data.columns.str.lower() # changing all the upper case column names to lower case\n",
    "print(data.shape)\n"
   ]
  },
  {
   "cell_type": "code",
   "execution_count": 4,
   "id": "670ac200",
   "metadata": {
    "scrolled": false
   },
   "outputs": [
    {
     "data": {
      "text/html": [
       "<div>\n",
       "<style scoped>\n",
       "    .dataframe tbody tr th:only-of-type {\n",
       "        vertical-align: middle;\n",
       "    }\n",
       "\n",
       "    .dataframe tbody tr th {\n",
       "        vertical-align: top;\n",
       "    }\n",
       "\n",
       "    .dataframe thead th {\n",
       "        text-align: right;\n",
       "    }\n",
       "</style>\n",
       "<table border=\"1\" class=\"dataframe\">\n",
       "  <thead>\n",
       "    <tr style=\"text-align: right;\">\n",
       "      <th></th>\n",
       "      <th>price</th>\n",
       "      <th>location</th>\n",
       "      <th>house_type</th>\n",
       "      <th>rooms</th>\n",
       "      <th>bathrooms</th>\n",
       "      <th>rent_duration</th>\n",
       "      <th>property address</th>\n",
       "      <th>estate name</th>\n",
       "      <th>property size</th>\n",
       "      <th>condition</th>\n",
       "      <th>...</th>\n",
       "      <th>legal and agreement fee</th>\n",
       "      <th>caution fee</th>\n",
       "      <th>housing quality</th>\n",
       "      <th>total rooms</th>\n",
       "      <th>parking space</th>\n",
       "      <th>smoking</th>\n",
       "      <th>parties</th>\n",
       "      <th>broker fee</th>\n",
       "      <th>new property</th>\n",
       "      <th>furnished</th>\n",
       "    </tr>\n",
       "  </thead>\n",
       "  <tbody>\n",
       "    <tr>\n",
       "      <th>0</th>\n",
       "      <td>₦ 450,000</td>\n",
       "      <td>Enugu, Enugu / Enugu State</td>\n",
       "      <td>Apartment</td>\n",
       "      <td>1 bedroom</td>\n",
       "      <td>2 bathrooms</td>\n",
       "      <td>per annum</td>\n",
       "      <td>new heaven extension</td>\n",
       "      <td>Good is good</td>\n",
       "      <td>600 sqm</td>\n",
       "      <td>Newly Built</td>\n",
       "      <td>...</td>\n",
       "      <td>NaN</td>\n",
       "      <td>NaN</td>\n",
       "      <td>NaN</td>\n",
       "      <td>NaN</td>\n",
       "      <td>NaN</td>\n",
       "      <td>NaN</td>\n",
       "      <td>NaN</td>\n",
       "      <td>NaN</td>\n",
       "      <td>NaN</td>\n",
       "      <td>NaN</td>\n",
       "    </tr>\n",
       "    <tr>\n",
       "      <th>1</th>\n",
       "      <td>₦ 300,000</td>\n",
       "      <td>Anambra, Awka</td>\n",
       "      <td>Apartment</td>\n",
       "      <td>1 bedroom</td>\n",
       "      <td>2 bathrooms</td>\n",
       "      <td>per annum</td>\n",
       "      <td>Ifite Awka</td>\n",
       "      <td>Ifite Awka</td>\n",
       "      <td>500 sqm</td>\n",
       "      <td>Newly Built</td>\n",
       "      <td>...</td>\n",
       "      <td>NaN</td>\n",
       "      <td>NaN</td>\n",
       "      <td>NaN</td>\n",
       "      <td>NaN</td>\n",
       "      <td>NaN</td>\n",
       "      <td>NaN</td>\n",
       "      <td>NaN</td>\n",
       "      <td>NaN</td>\n",
       "      <td>NaN</td>\n",
       "      <td>NaN</td>\n",
       "    </tr>\n",
       "    <tr>\n",
       "      <th>2</th>\n",
       "      <td>₦ 200,000</td>\n",
       "      <td>Ogun, Ifo</td>\n",
       "      <td>Studio Apartment</td>\n",
       "      <td>1 bedroom</td>\n",
       "      <td>1 bathroom</td>\n",
       "      <td>per annum</td>\n",
       "      <td>18 adebayo</td>\n",
       "      <td>ifedayo</td>\n",
       "      <td>600 sqm</td>\n",
       "      <td>Fairly Used</td>\n",
       "      <td>...</td>\n",
       "      <td>NaN</td>\n",
       "      <td>NaN</td>\n",
       "      <td>NaN</td>\n",
       "      <td>NaN</td>\n",
       "      <td>NaN</td>\n",
       "      <td>NaN</td>\n",
       "      <td>NaN</td>\n",
       "      <td>NaN</td>\n",
       "      <td>NaN</td>\n",
       "      <td>NaN</td>\n",
       "    </tr>\n",
       "    <tr>\n",
       "      <th>3</th>\n",
       "      <td>₦ 1,000,000</td>\n",
       "      <td>Lagos, Ajah</td>\n",
       "      <td>Duplex</td>\n",
       "      <td>1 bedroom</td>\n",
       "      <td>2 bathrooms</td>\n",
       "      <td>per quarter</td>\n",
       "      <td>BROWN NEW ROOM AND PALOUR SELF IN LEKKI SCHEME...</td>\n",
       "      <td>LEKKI SCHEME 2,ABRAHAM ADESANYA AJAH</td>\n",
       "      <td>450 sqm</td>\n",
       "      <td>Newly Built</td>\n",
       "      <td>...</td>\n",
       "      <td>100000.0</td>\n",
       "      <td>100000.0</td>\n",
       "      <td>NaN</td>\n",
       "      <td>NaN</td>\n",
       "      <td>NaN</td>\n",
       "      <td>NaN</td>\n",
       "      <td>NaN</td>\n",
       "      <td>NaN</td>\n",
       "      <td>NaN</td>\n",
       "      <td>NaN</td>\n",
       "    </tr>\n",
       "    <tr>\n",
       "      <th>4</th>\n",
       "      <td>₦ 300,000</td>\n",
       "      <td>none</td>\n",
       "      <td>Apartment</td>\n",
       "      <td>1 bedroom</td>\n",
       "      <td>2 bathrooms</td>\n",
       "      <td>per quarter</td>\n",
       "      <td>Marian</td>\n",
       "      <td>smart property</td>\n",
       "      <td>15 sqm</td>\n",
       "      <td>Fairly Used</td>\n",
       "      <td>...</td>\n",
       "      <td>NaN</td>\n",
       "      <td>NaN</td>\n",
       "      <td>NaN</td>\n",
       "      <td>NaN</td>\n",
       "      <td>NaN</td>\n",
       "      <td>NaN</td>\n",
       "      <td>NaN</td>\n",
       "      <td>NaN</td>\n",
       "      <td>NaN</td>\n",
       "      <td>NaN</td>\n",
       "    </tr>\n",
       "  </tbody>\n",
       "</table>\n",
       "<p>5 rows × 25 columns</p>\n",
       "</div>"
      ],
      "text/plain": [
       "         price                    location        house_type      rooms  \\\n",
       "0    ₦ 450,000  Enugu, Enugu / Enugu State         Apartment  1 bedroom   \n",
       "1    ₦ 300,000               Anambra, Awka         Apartment  1 bedroom   \n",
       "2    ₦ 200,000                   Ogun, Ifo  Studio Apartment  1 bedroom   \n",
       "3  ₦ 1,000,000                 Lagos, Ajah            Duplex  1 bedroom   \n",
       "4    ₦ 300,000                        none         Apartment  1 bedroom   \n",
       "\n",
       "     bathrooms rent_duration  \\\n",
       "0  2 bathrooms     per annum   \n",
       "1  2 bathrooms     per annum   \n",
       "2   1 bathroom     per annum   \n",
       "3  2 bathrooms   per quarter   \n",
       "4  2 bathrooms   per quarter   \n",
       "\n",
       "                                    property address  \\\n",
       "0                               new heaven extension   \n",
       "1                                         Ifite Awka   \n",
       "2                                         18 adebayo   \n",
       "3  BROWN NEW ROOM AND PALOUR SELF IN LEKKI SCHEME...   \n",
       "4                                             Marian   \n",
       "\n",
       "                            estate name property size    condition  ...  \\\n",
       "0                          Good is good       600 sqm  Newly Built  ...   \n",
       "1                            Ifite Awka       500 sqm  Newly Built  ...   \n",
       "2                               ifedayo       600 sqm  Fairly Used  ...   \n",
       "3  LEKKI SCHEME 2,ABRAHAM ADESANYA AJAH       450 sqm  Newly Built  ...   \n",
       "4                        smart property        15 sqm  Fairly Used  ...   \n",
       "\n",
       "  legal and agreement fee caution fee housing quality total rooms  \\\n",
       "0                     NaN         NaN             NaN         NaN   \n",
       "1                     NaN         NaN             NaN         NaN   \n",
       "2                     NaN         NaN             NaN         NaN   \n",
       "3                100000.0    100000.0             NaN         NaN   \n",
       "4                     NaN         NaN             NaN         NaN   \n",
       "\n",
       "   parking space  smoking  parties broker fee new property furnished  \n",
       "0            NaN      NaN      NaN        NaN          NaN       NaN  \n",
       "1            NaN      NaN      NaN        NaN          NaN       NaN  \n",
       "2            NaN      NaN      NaN        NaN          NaN       NaN  \n",
       "3            NaN      NaN      NaN        NaN          NaN       NaN  \n",
       "4            NaN      NaN      NaN        NaN          NaN       NaN  \n",
       "\n",
       "[5 rows x 25 columns]"
      ]
     },
     "execution_count": 4,
     "metadata": {},
     "output_type": "execute_result"
    }
   ],
   "source": [
    "data.head()"
   ]
  },
  {
   "cell_type": "code",
   "execution_count": 10,
   "id": "b6120125",
   "metadata": {},
   "outputs": [
    {
     "data": {
      "text/plain": [
       "4 bedrooms    53\n",
       "5 bedrooms    50\n",
       "3 bedrooms    45\n",
       "2 bedrooms    36\n",
       "1 bedroom     28\n",
       "Name: rooms, dtype: int64"
      ]
     },
     "execution_count": 10,
     "metadata": {},
     "output_type": "execute_result"
    }
   ],
   "source": [
    "data.rooms.loc[data.location.str.contains('Lagos')].value_counts()"
   ]
  },
  {
   "cell_type": "code",
   "execution_count": 5,
   "id": "f7bfd5fb",
   "metadata": {},
   "outputs": [
    {
     "data": {
      "text/plain": [
       "'\\ncolumns that needs cleaning :\\nPRICE column\\nROOMS column\\nBATHROOMS colunms\\nPROPERTY SIZE (MAYBE A USEFUL COLUMN, IF NOT THEN WE DROP IT)\\nI be dropping the propety size since its not present in all houses\\nMERGE ANUALLY and PER ANNUM VALUES IN RENT DURATION COLUMN\\nMERGE FURNISHING AND FURNISHED INTO ONE COMMON COLUMN AND THEN DROP FURNISHING COLUMN\\nMERGE CONDITION AND NEW PROPERTY COLUMNS INTO ONE COMMON COLUMNS AND THEN DROP NEW PROPERTY COLUMN\\nCOLLECT DESIRED FEATURES FROM THE FACILITIES COLUMN BEFORE DROPPING IT\\n\\n'"
      ]
     },
     "execution_count": 5,
     "metadata": {},
     "output_type": "execute_result"
    }
   ],
   "source": [
    "## we need to clean the values of unwanted symbols and words\n",
    "\n",
    "'''\n",
    "columns that needs cleaning :\n",
    "PRICE column\n",
    "ROOMS column\n",
    "BATHROOMS colunms\n",
    "PROPERTY SIZE (MAYBE A USEFUL COLUMN, IF NOT THEN WE DROP IT)\n",
    "I be dropping the propety size since its not present in all houses\n",
    "MERGE ANUALLY and PER ANNUM VALUES IN RENT DURATION COLUMN\n",
    "MERGE FURNISHING AND FURNISHED INTO ONE COMMON COLUMN AND THEN DROP FURNISHING COLUMN\n",
    "MERGE CONDITION AND NEW PROPERTY COLUMNS INTO ONE COMMON COLUMNS AND THEN DROP NEW PROPERTY COLUMN\n",
    "COLLECT DESIRED FEATURES FROM THE FACILITIES COLUMN BEFORE DROPPING IT\n",
    "\n",
    "'''"
   ]
  },
  {
   "cell_type": "code",
   "execution_count": 6,
   "id": "92370f92",
   "metadata": {},
   "outputs": [],
   "source": [
    "# creating a functionto remove the unwanted letter/symbol from each price value\n",
    "def remove(data):\n",
    "    for i in range(len(data)):\n",
    "        temp =''\n",
    "        for j in data.iloc[i]:\n",
    "            if j in [' ', ',', '₦']:\n",
    "                continue\n",
    "            else:\n",
    "                temp = temp + str(j)\n",
    "        data.iloc[i] = temp\n",
    "    return pd.to_numeric(data)\n",
    "    "
   ]
  },
  {
   "cell_type": "code",
   "execution_count": 7,
   "id": "e374f4be",
   "metadata": {},
   "outputs": [],
   "source": [
    "data.price = remove(data.price)"
   ]
  },
  {
   "cell_type": "code",
   "execution_count": 8,
   "id": "6c3d7372",
   "metadata": {},
   "outputs": [
    {
     "data": {
      "text/plain": [
       "0"
      ]
     },
     "execution_count": 8,
     "metadata": {},
     "output_type": "execute_result"
    }
   ],
   "source": [
    "data['full_address'] = data.location + ' ' + data['property address']\n",
    "data.full_address.fillna('none',inplace =True)\n",
    "for i in range(len(data.full_address)):\n",
    "    if data.full_address.iloc[i] == 'none':\n",
    "        data.full_address.iloc[i] =data.location.iloc[i]\n",
    "\n",
    "data.full_address = data.full_address.str.lower()\n",
    "data.full_address.isnull().sum()"
   ]
  },
  {
   "cell_type": "code",
   "execution_count": 9,
   "id": "8466f1a5",
   "metadata": {
    "scrolled": true
   },
   "outputs": [
    {
     "data": {
      "text/plain": [
       "array(['enugu, enugu / enugu state new heaven extension',\n",
       "       'anambra, awka ifite awka', 'ogun, ifo 18 adebayo',\n",
       "       'lagos, ajah brown new room and palour self in lekki scheme 2,ajah',\n",
       "       'none marian', 'none arthur eze avenue awka.',\n",
       "       'ogun, obafemi-owode abule oko magboro, ogun state',\n",
       "       'none alakahia, obio / akpor lga. rivers state', 'none ifite awka',\n",
       "       'none nza street , gra enugu', 'lagos, isolo, ago palace avenue',\n",
       "       'kaduna, kaduna / kaduna state phase 1, barnawa',\n",
       "       \"rivers, obio-akpor centenary estate's eneka\",\n",
       "       'lagos, ajah unity estate along badore road,ajah',\n",
       "       'osun, osogbo a room and self contain at fountain area oshogbo',\n",
       "       'oyo, ido located immediatly after awotan junction', 'none atimbo',\n",
       "       'none satellite town', 'enugu, enugu / enugu state ogui road',\n",
       "       'none atimbo off nyangasang',\n",
       "       'lagos, lekki, lekki phase 1 akin onitiri cole street,',\n",
       "       'anambra, awka ichida street', 'lagos, lekki chevron',\n",
       "       'none kosta hostel, close to nnamdi azikiwe university awka',\n",
       "       'none ifite awka anambra state',\n",
       "       'enugu, enugu / enugu state off independence layout',\n",
       "       'none book foundation ifite awka anambra state',\n",
       "       'nasarawa, karu-nasarawa aso maraba',\n",
       "       'kaduna, kaduna / kaduna state behind northern noodles company',\n",
       "       'lagos, ikoyi old ikoyi',\n",
       "       'kaduna, kaduna / kaduna state mahuta extension',\n",
       "       'lagos, yaba via herbert macaulay', 'oyo, oluyole jankata kuola',\n",
       "       'none elewuro', 'none araromi akesan igando',\n",
       "       'lagos, ibeju, bogije bogije road',\n",
       "       'kaduna, kaduna / kaduna state maigero',\n",
       "       'lagos, ikoyi, osborne foreshore estate osborne foreshore estate',\n",
       "       'lagos, lekki, ikota ikota villa',\n",
       "       'lagos, ajah, sangotedo sharp room and parlour mini flat at silver land estate s',\n",
       "       'lagos, yaba, akoka obayan street, akoka, yaba',\n",
       "       'lagos, ajah, sangotedo brand new room and parlour mini flat at silverland estate',\n",
       "       'oyo, oluyole kuola jankata', 'kaduna, chikun barnawa',\n",
       "       'none ajegunle area off asa dam',\n",
       "       'abuja, lugbe district pyakassa lugbe', 'none isutiroad',\n",
       "       'nasarawa, karu-nasarawa beside lapai estate, karu, mararaba,',\n",
       "       'none ijolu community, behind school of health, ilese',\n",
       "       'none at the back of roban store ind.layout.',\n",
       "       'kaduna, chikun clean self contain at barnawa high cost kd',\n",
       "       'lagos, lekki pump and sell on addo road after blenco supermarket ajah',\n",
       "       'lagos, ajah, ado / ajah rock stone estate along badore road ajah',\n",
       "       'cross river, calabar behind crutech staff quarters',\n",
       "       'none palace road', 'enugu, enugu / enugu state abakpa enugu',\n",
       "       'enugu, enugu / enugu state newheaven',\n",
       "       'lagos, ajah, off lekki-epe expressway abijoh',\n",
       "       'lagos, ajah, off lekki-epe expressway tera annex estate',\n",
       "       'oyo, ido kuola', 'lagos, lekki, osapa london osapa london',\n",
       "       'none gra by government house, awka',\n",
       "       'lagos, ilashe no 20 adediwura street oluodo',\n",
       "       'rivers, obio-akpor rumuehiewor estate rukpokwu',\n",
       "       'none gra phase 8, rupakurushi new layout',\n",
       "       'lagos, gbagada, phase 1 / gbagada off pedro, gbagada phase 1 extension,lagos',\n",
       "       'lagos, ibeju, ibeju-agbe ayeibami ibeju lekki',\n",
       "       'lagos, ibeju room and parlor',\n",
       "       'lagos, ibeju, awoyaya awoyaya by new roads',\n",
       "       'lagos, amuwo-odofin divine estate',\n",
       "       'lagos, ikotun/igando, igando / ikotun/igando akesan',\n",
       "       'nasarawa, karu-nasarawa one man village by dunamis church adeyi',\n",
       "       'rivers, obio-akpor this property is located at eliozu',\n",
       "       'lagos, lekki lekki phase 1',\n",
       "       'lagos, victoria island oju olobun street, victoria island',\n",
       "       'lagos, isolo, ago palace ago', 'none behind polytechnic ibadan',\n",
       "       'none 18b, segun jegede street, ilupeju- magboro, ,ogun stste',\n",
       "       'none fo1', 'none f14', 'none unity street egan road iyesi otta',\n",
       "       'cross river, calabar marian road',\n",
       "       'lagos, ibeju ibeju lekki aroromi ibeju lekki',\n",
       "       'cross river, calabar federal housing estate',\n",
       "       'imo, owerri tansi by spibath orji flyover owerri',\n",
       "       'lagos, isolo, ago palace off ago palace way',\n",
       "       'cross river, calabar 167 goldie by mount zion',\n",
       "       'cross river, calabar lemna',\n",
       "       'cross river, calabar satellite town',\n",
       "       'cross river, calabar tinapa road',\n",
       "       'cross river, calabar paliamentary extension',\n",
       "       'cross river, calabar akaifa',\n",
       "       'lagos, ikeja, adeniyi jones abc bustop',\n",
       "       'lagos, victoria island off idejo victoria island',\n",
       "       'lagos, isolo, ago palace ago palace way',\n",
       "       'lagos, amuwo-odofin start time',\n",
       "       'lagos, agboyi/ketu alapere ketu lagos',\n",
       "       'oyo, oluyole alimi street', 'cross river, calabar ikot ansa',\n",
       "       'lagos, ibeju, badore badore',\n",
       "       'rivers, obio-akpor eliozu portharcourt',\n",
       "       'none y junction okpuno awka,',\n",
       "       'none ifite by book foundation. awka', 'none nibo',\n",
       "       'lagos, ajah, ado / ajah okeira bridge bus stop along addo road',\n",
       "       'lagos, isolo, ago palace startimes', 'none rumudara',\n",
       "       'none umubelle awka.',\n",
       "       'rivers, obio-akpor off eliozu portharcourt',\n",
       "       'anambra, awka okpuno awka', 'none 12, rumuoji',\n",
       "       'rivers, obio-akpor ada george road axis',\n",
       "       'lagos, isolo, ago palace grandmate',\n",
       "       'lagos, isolo, ago palace greenfield',\n",
       "       'lagos, ajah after blenco supermarket, sangotedo axis, ajah, lekki.',\n",
       "       'lagos, ajah, sangotedo olonkola',\n",
       "       'lagos, ajah, ado / ajah remlek badore road, ajah',\n",
       "       'nasarawa, karu-nasarawa city college by mtn mask abacha road extension',\n",
       "       'lagos, agboyi/ketu ketu', 'anambra, awka aroma',\n",
       "       'lagos, agboyi/ketu alapere', 'lagos, ipaja ayobo',\n",
       "       'none odili road', 'none rumuoji',\n",
       "       'lagos, kosofe, ketu-ikosi ikosi-ketu',\n",
       "       'rivers, obio-akpor freedom estate federal light rukpokwu',\n",
       "       'none off sars road/ mandela estate ph rivers state',\n",
       "       'ogun, obafemi-owode arepo',\n",
       "       'rivers, port-harcourt woji by circular road',\n",
       "       'rivers, port-harcourt stadium road',\n",
       "       'enugu, enugu / enugu state 2 bedroom flat all ensuite at l g a 🌟',\n",
       "       'anambra, awka nkwele awka',\n",
       "       'rivers, port-harcourt odili road, portharcourt',\n",
       "       'lagos, ajah, olokonla estate around olokonla, after lbs, ajah.',\n",
       "       'rivers, obio-akpor sars road', 'none nta axis',\n",
       "       'rivers, port-harcourt peter odili',\n",
       "       \"rivers, obio-akpor sars junction happy bite's\",\n",
       "       'enugu, enugu / enugu state nice 2 bedroom flat all ensuite with running water inside it',\n",
       "       'lagos, victoria island victoria island',\n",
       "       'rivers, port-harcourt pepperoni eneka road',\n",
       "       'none rukpokwu/eneka road, eneka',\n",
       "       'rivers, obio-akpor mandela estate federal light sars road',\n",
       "       'none nkwelle awka', 'none nta road by obiri ikwerre junction.',\n",
       "       'rivers, port-harcourt shell cooperative eliozu',\n",
       "       'kaduna, kaduna / kaduna state nafdac, kaduna',\n",
       "       'lagos, lekki richmond garden gate2, ikate, lekki',\n",
       "       'lagos, egbe idimu, idimu off idimu ejigbo road near chriatland int sch',\n",
       "       'lagos, amuwo-odofin lakeview',\n",
       "       'rivers, obio-akpor akwaka sars road rumuodumaya',\n",
       "       'rivers, port-harcourt ada george', 'none new road by ada george',\n",
       "       'none eliozu eneka road', 'lagos, ajah, sangotedo abijo',\n",
       "       'anambra, awka inec road near cosmila okpuno',\n",
       "       'rivers, port-harcourt iwofe',\n",
       "       'rivers, port-harcourt brand new 2bedroom with federal light in timaya estate',\n",
       "       'none eliozu', 'rivers, port-harcourt shell cooperative estate',\n",
       "       'lagos, ikorodu okeota ibeshe', 'lagos, victoria island saduku',\n",
       "       'lagos, amuwo-odofin amuwo apple junction',\n",
       "       'lagos, lekki, ikate ikate', 'none off alao akala expressway',\n",
       "       'imo, owerri behind saga suite new owerri',\n",
       "       'lagos, gbagada, medina abiola okeke',\n",
       "       'lagos, ikeja, omole phase 1 omole phase 1',\n",
       "       'none nta apara link road',\n",
       "       'kaduna, kaduna / kaduna state kaduna south',\n",
       "       'lagos, lekki, osapa london by acadia estate osapa',\n",
       "       'none 8 iyabo osifeso street, abijo',\n",
       "       'lagos, lekki, ikota lekki county', 'lagos, ipaja baruwa ipaja',\n",
       "       'borno, guzamala guzape', 'lagos, ibeju thar anex sangotedo',\n",
       "       'enugu, enugu / enugu state newheaven extension',\n",
       "       'none auchi sabo power line', 'lagos, ikoyi off 2nd avenue',\n",
       "       'lagos, lekki, lekki phase 2 lbs',\n",
       "       'lagos, lekki, ikota 3bedroom apartment for rent',\n",
       "       'lagos, victoria island',\n",
       "       'lagos, lekki, ologolo 3bedroom flat/apartment for rent',\n",
       "       'imo, owerri saga suite, new owerri, imo state',\n",
       "       'none even estate badore', 'lagos, lekki off freedom way , lekki',\n",
       "       'none idowu estate,adewumi adegbesan strt,fit global school ajah',\n",
       "       'lagos, ajah, sangotedo sharp 3 bedroom flat at silver land estate sangotedo',\n",
       "       'lagos, ipaja bada area ayobo.', 'lagos, ajah sangoterdo',\n",
       "       'lagos, ikoyi banana island',\n",
       "       'lagos, lekki, lekki phase 2 prime way',\n",
       "       'lagos, victoria island, victoria island extension off adeola odeku',\n",
       "       'none umuoramma by capital city awka.', 'none first mkt ifite',\n",
       "       'none aguoye estate by ziks avenue awka',\n",
       "       'lagos, isolo, okota ago palace way okota lagos',\n",
       "       'lagos, lekki, lekki phase 1 lekki',\n",
       "       'lagos, lekki, lekki phase 1 lekki 1, lagos',\n",
       "       'lagos, amuwo-odofin amuwo odofin',\n",
       "       'lagos, lekki orchid hotel road',\n",
       "       'lagos, amuwo-odofin liberty estate',\n",
       "       'oyo, egbeda, egbeda / egbeda egbeda',\n",
       "       'none community estate ,trans ekulu', 'rivers, port-harcourt',\n",
       "       'anambra, awka okuno awka', 'none trans nkisi 33',\n",
       "       'none book foundation',\n",
       "       'ogun, obafemi-owode lagos ibadan express way, 3mins from redemption camp',\n",
       "       'lagos, ikoyi',\n",
       "       'rivers, port-harcourt, gra phase 2 / port-harcourt new gra',\n",
       "       'none commissioners quarters awka.',\n",
       "       'none commissioners qtrs awka',\n",
       "       'lagos, ajah, lekki gardens estate abraham adesanya',\n",
       "       'lagos, lekki off fola osibo lekki phase 1',\n",
       "       'lagos, ajah, canaan estate lagos business school',\n",
       "       'lagos, ipaja, ayobo asipa ayobo',\n",
       "       'lagos, isolo, okota green field estate amuwo odofin',\n",
       "       'rivers, port-harcourt old gra ph',\n",
       "       'anambra, awka near government house axis',\n",
       "       'none behind uba by ziks avenue awka', 'none aguoye estate awka',\n",
       "       'none amaenyi awka', 'lagos, ikoyi, banana island ikoyi lagos',\n",
       "       'lagos, kosofe, ketu-alapere bola hassan',\n",
       "       'anambra, awka secretariet', 'none old ifite rd awka',\n",
       "       'none jorburg hotel okpuno', 'lagos, ajah, olokonla ogidan',\n",
       "       'lagos, ikoyi ikoyi',\n",
       "       'lagos, victoria island, 1004 victoria island',\n",
       "       'imo, owerri naze no.1 human race', 'ogun, obafemi-owode magboro',\n",
       "       'none awka anambra state', 'lagos, ikoyi, gerard road ikoyi',\n",
       "       'none rumuodara area', 'lagos, ajah, thomas estate danny a',\n",
       "       'rivers, port-harcourt naf harmony estate off g u ake road air force eliozu link rd',\n",
       "       'none nkwelle estate', 'anambra, awka awka',\n",
       "       'rivers, port-harcourt shell cooperative estate eliozu',\n",
       "       'rivers, port-harcourt new gra',\n",
       "       'imo, owerri prof avenue spilbert owerri.',\n",
       "       'imo, owerri new city new owerri', 'imo, owerri',\n",
       "       'imo, owerri located off port harcourt road',\n",
       "       'abuja, asokoro asokoro extension', 'abuja, asokoro asokoro abuja',\n",
       "       'abuja, gwarinpa, life camp efab city estate',\n",
       "       'abuja, jahi jahi district',\n",
       "       'abuja, durumi durumi by american international school',\n",
       "       'abuja, nyanya nyanya', 'abuja, lokogoma lokogoma tarred road 🛣️',\n",
       "       'abuja, karu a neat 1bedroom flat in abacha road for rent',\n",
       "       'abuja, jahi jahi',\n",
       "       'none fafu estate, off turkish nile university junction',\n",
       "       'abuja, jahi room and palour for rent in jahi community',\n",
       "       'none lokogoma', 'none aa1 kuje', 'none abdul avenue',\n",
       "       'imo, owerri mcc road',\n",
       "       'imo, owerri behind graceland estate, owerri',\n",
       "       'imo, owerri located in a good neighborhood',\n",
       "       'imo, owerri located around spilbat owerri',\n",
       "       'imo, owerri located at ikenegbu',\n",
       "       'imo, owerri located at amakohia', 'imo, owerri located in owerri',\n",
       "       'imo, owerri naze, owerri imo state', 'none ihiagwa',\n",
       "       'imo, owerri big tree nekede',\n",
       "       'imo, owerri located within concord axis',\n",
       "       'abuja, asokoro 21a justice sowemimo stree, asokoro, abuja.',\n",
       "       'abuja, gwarinpa 7th avenue in gwarinpa', 'abuja, maitama maitama',\n",
       "       'abuja, maitama off gana street',\n",
       "       'abuja, lokogoma lokogoma district, abuja',\n",
       "       'abuja, gwarinpa 6th avenue gwarinpa estate',\n",
       "       'abuja, gwarinpa gwarinpa estate', 'abuja, asokoro asokoro',\n",
       "       'abuja, maitama maitama main', 'abuja, asokoro lord lugard',\n",
       "       'abuja, maitama off ibb boulevard', 'abuja, wuse 2 aso villa',\n",
       "       'abuja, maitama aso drive maitama',\n",
       "       'lagos, ikoyi, banana island ikoyi',\n",
       "       'lagos, ibeju, abijo abijo gra', 'lagos, lekki ikota',\n",
       "       'lagos, lekki, ikota ikota',\n",
       "       'lagos, lekki, ikota secuted estate ikota', 'none north4th damija',\n",
       "       'enugu, enugu / enugu state golf estate gra',\n",
       "       'none centinary city',\n",
       "       'lagos, lekki, lekki phase 1 off admiralty road lekki phase 1',\n",
       "       'lagos, lekki, osapa london osapa',\n",
       "       'rivers, obio-akpor this property is located within tank junction rumukwurushi',\n",
       "       'enugu, enugu / enugu state wtc estate',\n",
       "       'rivers, obio-akpor this property is at eneka road off rumuodara',\n",
       "       'enugu, enugu / enugu state gra enugu close to shoprite',\n",
       "       'enugu, enugu / enugu state nice 5 bedroom duplex for rent at corridor layout',\n",
       "       'lagos, lekki, chevron lekki',\n",
       "       'lagos, ikoyi ikoyi off banana road',\n",
       "       'lagos, lekki, ikota dandy street',\n",
       "       'lagos, lekki, osapa london motan street',\n",
       "       'lagos, ikeja, adeniyi jones a newly built executiv 5 bedroom semidetached duplex with bq',\n",
       "       'none green land estate', 'enugu, enugu / enugu state zoo estate',\n",
       "       'enugu, enugu / enugu state diamond estate gra',\n",
       "       'enugu, enugu / enugu state corridor layout',\n",
       "       'enugu, enugu / enugu state golf estate',\n",
       "       'lagos, ojodu, yakoyo/alagbole premier estate otun akute',\n",
       "       'enugu, enugu / enugu state liberty estate independence layout',\n",
       "       'none premier layout',\n",
       "       'enugu, enugu / enugu state premier layout (goshen estate axis (',\n",
       "       'lagos, lekki, osapa london lekki, lagos',\n",
       "       'lagos, lekki, jakande victory park estate, jakande lekki',\n",
       "       'lagos, lekki, osapa london eletu',\n",
       "       'lagos, ikoyi ikoyi off banana rd by olori mojisola',\n",
       "       'abuja, wuse 2 wuse2', 'abuja, maitama maitama district abuja',\n",
       "       'enugu, enugu / enugu state premium layout back of goshen estate',\n",
       "       'rivers, port-harcourt g.r.a',\n",
       "       'enugu, enugu / enugu state zoo estate gra',\n",
       "       'lagos, victoria island oniru, victoria island',\n",
       "       'enugu, enugu / enugu state gra enugu',\n",
       "       'bayelsa, yenagoa palm avenue road off okaka estate',\n",
       "       'lagos, lekki, chevron saintly road',\n",
       "       'enugu, enugu / enugu state sharp 4 bedroom duplex for rent at golf estate',\n",
       "       'rivers, port-harcourt old gra',\n",
       "       'enugu, enugu / enugu state newly built 5 bedroom duplex for rent at independence layout',\n",
       "       'lagos, lekki, chevron by chevron toll gate',\n",
       "       'lagos, lekki lekki phase1',\n",
       "       'lagos, lekki, ikota 5bedroom fully detached duplex for rent',\n",
       "       'none gudu district after eterna filling station',\n",
       "       'abuja, wuse wuse zone 5', 'rivers, port-harcourt alcon road',\n",
       "       'lagos, lekki, ikota harris drive by vgc',\n",
       "       'rivers, port-harcourt, rumuogba behind cocaine estate',\n",
       "       'lagos, lekki, lekki phase 2 chevron',\n",
       "       'rivers, port-harcourt woji', 'lagos, ajah maroko bu mobil road',\n",
       "       'rivers, port-harcourt peter odili estate',\n",
       "       'lagos, lekki, lekki phase 2 ogombo',\n",
       "       'lagos, lekki lekki phase one',\n",
       "       'none road 12 admiralty way lekki phrase1',\n",
       "       'lagos, lekki, chevron chevron drive',\n",
       "       'lagos, lekki, osapa london osapa lekki lagos',\n",
       "       'lagos, ajah sangotedo', 'lagos, magodo',\n",
       "       'lagos, lekki, lekki phase 1 off admiralty way, lekki phase 1',\n",
       "       'lagos, ikoyi, old ikoyi ikoyi parkview estate',\n",
       "       'lagos, lekki, ikate-elegushi off kusenla road',\n",
       "       'rivers, port-harcourt port harcourt',\n",
       "       'lagos, lekki not far from admiralty way, lekki phase 1.',\n",
       "       'lagos, ikeja, adeniyi jones adeniyi jones ikeja',\n",
       "       'lagos, ajah, thomas estate inside thomas estate ajah',\n",
       "       'lagos, lekki chevron drive',\n",
       "       'lagos, lekki, lekki phase 2 gbenga ademulegun close',\n",
       "       'lagos, lekki chevron lekki lagos', 'lagos, lekki ologolo',\n",
       "       'lagos, lekki chevron drive, lekki',\n",
       "       'lagos, victoria island off adeola odeoku street',\n",
       "       'lagos, lekki, chevron no 4 tulip haven estate chevron lekki',\n",
       "       'lagos, ikoyi, ikoyi s.w victoria island',\n",
       "       'oyo, oluyole gwani street', 'none new heaven extension',\n",
       "       'none rotimi abiru street', 'lagos, magodo magodo phase 1',\n",
       "       'lagos, lekki, lekki phase 1 osapa london', 'none orchid road',\n",
       "       'lagos, apapa, apapa g.r.a no 2b rycroft street, apapa gra',\n",
       "       'lagos, lekki, lekki expressway jose maria estate road lekki phase1',\n",
       "       'lagos, ikoyi, banana island banana island',\n",
       "       'none 25 omega clinic ada george',\n",
       "       'none 73 radio estate nta road port harcourt',\n",
       "       'none 24 kings view estate g.u ake eliozu',\n",
       "       'none 31 abacha road gra phase 3',\n",
       "       'lagos, lekki, lekki phase 1 4 bedroom duplex in chevron lagos with bq',\n",
       "       'lagos, lekki, chevron mo 16 schetilina close chevron alternative route chevron',\n",
       "       'lagos, ogudu, ogudu gra ramat , ogudu',\n",
       "       'none 31 location nta road', 'lagos, ikoyi, old ikoyi ikoyi',\n",
       "       'abuja, utako utako',\n",
       "       'abuja, lugbe district, fha federal housing estate new site',\n",
       "       'enugu, enugu / enugu state nza street independence layout',\n",
       "       'lagos, lekki, ikate elegushi', 'lagos, ikoyi ikoyi, lagos',\n",
       "       'none eliozu-eneka road', 'none emmannemeka street awka',\n",
       "       'rivers, obio-akpor this property is within big treat by rukpokwu',\n",
       "       'rivers, port-harcourt genesis estate woji',\n",
       "       'rivers, port-harcourt mercyland off nta rd',\n",
       "       'lagos, victoria island, kofo abayomi kofo abayomi',\n",
       "       'lagos, lekki, lekki phase 1 lekki phase 1 lagos',\n",
       "       'lagos, lekki, chevron bera estate chevron lekki lagos',\n",
       "       'lagos, lekki, lekki phase 1 lekki phase1',\n",
       "       'lagos, ikeja, ikeja gra rev ogunbiyi',\n",
       "       'lagos, lekki ikate lekki phase 1',\n",
       "       'none 4 fon street eliada layout',\n",
       "       'enugu, enugu / enugu state 4 bedroom flat at new heaven good for commercial business',\n",
       "       'rivers, port-harcourt brand new 3bedroom duplex with federal light in gra',\n",
       "       'rivers, port-harcourt naf harmony estate eliozu portharcourt',\n",
       "       'lagos, ojodu, isheri north newly built 4bedrooms semi detached duplex in opic isheri f',\n",
       "       'rivers, port-harcourt exotic 4bedroom duplex in eagle land off agip',\n",
       "       'rivers, port-harcourt ahuoda estate',\n",
       "       'imo, owerri located in new owerri',\n",
       "       'imo, owerri located at new owerri',\n",
       "       'imo, owerri located at concord axis',\n",
       "       'imo, owerri located in new owerri, concord axis.',\n",
       "       'abuja, maitama osun cresent',\n",
       "       'abuja, maitama no.34 osun cresent, maitama abuja',\n",
       "       'abuja, galadimawa brains n hammer galadimawa round about',\n",
       "       'abuja, dakwo district', 'abuja, mabushi by vio',\n",
       "       'abuja, gwarinpa', 'abuja, utako okonjo iwuala',\n",
       "       'abuja, jahi jahi by gilmore',\n",
       "       'abuja, lokogoma urban shelter estate',\n",
       "       'none kanma estate, behind penthouse estate, lugbe accross abujafc',\n",
       "       'abuja, gwarinpa 1st avenue gwarinpa',\n",
       "       'abuja, gwarinpa 2nd avenue gwarinpa',\n",
       "       'none river park estate, airport road abuja.',\n",
       "       'lagos, lekki, ikate-elegushi lekki lagos',\n",
       "       'lagos, lekki orchid road by. 2nd toll gate lekki lagos',\n",
       "       'lagos, ikoyi, banana island banana island ikoyi, lagos',\n",
       "       'lagos, ikeja works road',\n",
       "       'lagos, lekki, lekki phase 2 by novara shoprite lekki ajah lagos',\n",
       "       'none 4a, c close, ogun state', 'lagos, lekki',\n",
       "       'lagos, ajah, crown estate estate around crown estate, sangotedo axis, ajah, lekki.',\n",
       "       'none akala express', 'enugu, enugu / enugu state gra',\n",
       "       'lagos, ajah near lbs, ajah lekki',\n",
       "       'lagos, ajah, olokonla after lbs, olokonla, ajah axis, lekki.',\n",
       "       'abuja, guzape district guzape close to coza church',\n",
       "       'lagos, lekki, lekki phase 2 lake view estate, (adjacent vgc),ajah, lagos',\n",
       "       'lagos, lekki, lekki phase 2 eleganza',\n",
       "       'none ogunlaja drive , majek area',\n",
       "       'enugu, enugu / enugu state trans ekulu',\n",
       "       'lagos, ikoyi, old ikoyi parkview ikoyi',\n",
       "       'enugu, enugu / enugu state fidelity estate',\n",
       "       'none imalete estate opp beach wood estate',\n",
       "       'lagos, lekki, lekki phase 1 the rock drive.',\n",
       "       'lagos, magodo, gra phase 2 shangisha magodo gra 2 shangisha',\n",
       "       'lagos, ikeja muiz banire street, ikeja gra',\n",
       "       'lagos, ajah ikota gra, behind mega chicken',\n",
       "       'lagos, ikorodu, agric ,fiwakesi street agbede agric ikorodu',\n",
       "       'abuja, jabi jabi', 'lagos, lekki, ikota ikota gra estate',\n",
       "       'lagos, ajah unity estate, badore, ajah',\n",
       "       'lagos, ibeju, awoyaya awoyaya ajah by new roads',\n",
       "       'lagos, ikorodu', 'lagos, lekki elegushi royal estate ilasan.',\n",
       "       'enugu, enugu / enugu state new heaven', 'lagos, ajah', 'none 106',\n",
       "       'rivers, port-harcourt off nta', 'rivers, port-harcourt gra ph',\n",
       "       'rivers, port-harcourt, gra phase 1 / port-harcourt gra ph',\n",
       "       'rivers, port-harcourt shell cooperative estate off eliozu',\n",
       "       'rivers, port-harcourt, trans amadi odili road trans amadi in port-harcourt',\n",
       "       'imo, owerri located at egbeada housing estate',\n",
       "       'imo, owerri located within spilbat axis, owerri',\n",
       "       'imo, owerri located at futo main',\n",
       "       'imo, owerri behind concord hotel new owerri',\n",
       "       'imo, owerri federal housing owerri', 'imo, owerri concord axis',\n",
       "       'imo, owerri federal housing umuguma', 'abuja, wuye #name?',\n",
       "       'abuja, guzape district guzape',\n",
       "       'abuja, katampe, katampe (main) katampe main',\n",
       "       'abuja, galadimawa galadimawa',\n",
       "       'abuja, guzape district before coza church',\n",
       "       'abuja, gudu behind gaat school, gudu',\n",
       "       \"abuja, durumi before american int'l school\",\n",
       "       'enugu, enugu / enugu state thinkers corner, behind ac drugs',\n",
       "       'enugu, enugu / enugu state thinkers corner',\n",
       "       'enugu, enugu / enugu state goshen estate',\n",
       "       'enugu, enugu / enugu state new layout',\n",
       "       'enugu, enugu / enugu state independence layout',\n",
       "       'enugu, enugu / enugu state 2 bedroom flat',\n",
       "       'enugu, enugu / enugu state trans ekulu opposite cbn quaters',\n",
       "       'enugu, enugu / enugu state golf estate enugu',\n",
       "       'enugu, enugu / enugu state golf extension',\n",
       "       'enugu, enugu / enugu state new haven ext',\n",
       "       'rivers, obio-akpor mandela estate sars road',\n",
       "       'rivers, obio-akpor akwaka rumuodumaya potharcourt',\n",
       "       'rivers, port-harcourt rumuibekwe estate ph',\n",
       "       'rivers, obio-akpor alakahia',\n",
       "       'rivers, obio-akpor alakahia / choba',\n",
       "       'rivers, obio-akpor this property is opposite naf base eliozu',\n",
       "       'rivers, port-harcourt woji estate',\n",
       "       'rivers, port-harcourt hill view estate off ph/aba expressway rumuogba phc',\n",
       "       'rivers, port-harcourt naf harmony estate',\n",
       "       'rivers, port-harcourt, trans amadi phase ii',\n",
       "       'rivers, obio-akpor this property is located off rumuodara junction',\n",
       "       'rivers, obio-akpor this property is at off rumuodara junction',\n",
       "       'rivers, obio-akpor this property is located at nkpogu within lng',\n",
       "       'rivers, obio-akpor this property is located at mkpogu transamadi',\n",
       "       'rivers, obio-akpor this property is within tank junction east west road'],\n",
       "      dtype=object)"
      ]
     },
     "execution_count": 9,
     "metadata": {},
     "output_type": "execute_result"
    }
   ],
   "source": [
    "data['full_address'].unique()"
   ]
  },
  {
   "cell_type": "code",
   "execution_count": 10,
   "id": "e23f9ef4",
   "metadata": {},
   "outputs": [],
   "source": [
    "'''\n",
    "want to divide the houses into urban, semi urban and rural areas\n",
    "to do that i'll have to fetch list of urban areas in each of these states and put them in a list\n",
    "''' \n",
    "semi_urban = '''port harcourt, owerri, enugu, ajah, surulere, ogudu, magodo, ikeja, isolo, ago palace, calabar, lugbe, jahi, yenegoa, apapa, jabi, lokogoma, kuje, karu, mabushi, durumi, gudu, guzape, galadimawa, gwarinpa'''.split(', ')\n",
    "\n",
    "\n",
    "urban = '''lekki, victoria island, ikoyi, banana island, asokoko, maitama, wuse, garki, utako'''.split(', ')\n",
    "\n",
    "\n",
    "data['area'] = data.full_address.copy()\n",
    "for i in range(len(data.full_address)):\n",
    "    for place in urban:\n",
    "        if re.search(place, data.full_address.iloc[i]):\n",
    "            data.area.iloc[i] = 'urban'\n",
    "            break\n",
    "\n",
    "            \n",
    "    for place in semi_urban:\n",
    "        if re.search(place, data.full_address.iloc[i]):\n",
    "            data.area.iloc[i] = 'semi_urban'\n",
    "            break\n",
    "data.area = data.area.apply(lambda x: 'rural' if x not in ['semi_urban', 'urban'] else  x)"
   ]
  },
  {
   "cell_type": "code",
   "execution_count": 11,
   "id": "cb3e4c7a",
   "metadata": {
    "scrolled": false
   },
   "outputs": [
    {
     "data": {
      "text/plain": [
       "rural         294\n",
       "semi_urban    243\n",
       "urban         139\n",
       "Name: area, dtype: int64"
      ]
     },
     "execution_count": 11,
     "metadata": {},
     "output_type": "execute_result"
    }
   ],
   "source": [
    "data.area.value_counts()"
   ]
  },
  {
   "cell_type": "code",
   "execution_count": 12,
   "id": "437d56e9",
   "metadata": {},
   "outputs": [
    {
     "data": {
      "text/plain": [
       "<AxesSubplot:xlabel='rooms,area'>"
      ]
     },
     "execution_count": 12,
     "metadata": {},
     "output_type": "execute_result"
    },
    {
     "data": {
      "image/png": "[encoded data removed]",
      "text/plain": [
       "<Figure size 432x288 with 1 Axes>"
      ]
     },
     "metadata": {
      "needs_background": "light"
     },
     "output_type": "display_data"
    }
   ],
   "source": [
    "data.groupby(['rooms','area'])['price'].median().sort_values().plot(kind = 'bar')"
   ]
  },
  {
   "cell_type": "code",
   "execution_count": 13,
   "id": "85af6e2d",
   "metadata": {},
   "outputs": [],
   "source": [
    "data.drop(['full_address'], axis = 1, inplace = True)"
   ]
  },
  {
   "cell_type": "code",
   "execution_count": 14,
   "id": "eee4fbab",
   "metadata": {},
   "outputs": [
    {
     "data": {
      "text/html": [
       "<div>\n",
       "<style scoped>\n",
       "    .dataframe tbody tr th:only-of-type {\n",
       "        vertical-align: middle;\n",
       "    }\n",
       "\n",
       "    .dataframe tbody tr th {\n",
       "        vertical-align: top;\n",
       "    }\n",
       "\n",
       "    .dataframe thead th {\n",
       "        text-align: right;\n",
       "    }\n",
       "</style>\n",
       "<table border=\"1\" class=\"dataframe\">\n",
       "  <thead>\n",
       "    <tr style=\"text-align: right;\">\n",
       "      <th></th>\n",
       "      <th>price</th>\n",
       "      <th>agency fee</th>\n",
       "      <th>legal and agreement fee</th>\n",
       "      <th>caution fee</th>\n",
       "    </tr>\n",
       "  </thead>\n",
       "  <tbody>\n",
       "    <tr>\n",
       "      <th>count</th>\n",
       "      <td>6.760000e+02</td>\n",
       "      <td>159.000000</td>\n",
       "      <td>1.460000e+02</td>\n",
       "      <td>107.000000</td>\n",
       "    </tr>\n",
       "    <tr>\n",
       "      <th>mean</th>\n",
       "      <td>3.514248e+06</td>\n",
       "      <td>131773.553459</td>\n",
       "      <td>1.190653e+05</td>\n",
       "      <td>92402.663551</td>\n",
       "    </tr>\n",
       "    <tr>\n",
       "      <th>std</th>\n",
       "      <td>5.611369e+06</td>\n",
       "      <td>189223.891248</td>\n",
       "      <td>1.905449e+05</td>\n",
       "      <td>125806.169318</td>\n",
       "    </tr>\n",
       "    <tr>\n",
       "      <th>min</th>\n",
       "      <td>1.000000e+04</td>\n",
       "      <td>5.000000</td>\n",
       "      <td>5.000000e+00</td>\n",
       "      <td>0.000000</td>\n",
       "    </tr>\n",
       "    <tr>\n",
       "      <th>25%</th>\n",
       "      <td>6.000000e+05</td>\n",
       "      <td>50.000000</td>\n",
       "      <td>5.000000e+01</td>\n",
       "      <td>2650.000000</td>\n",
       "    </tr>\n",
       "    <tr>\n",
       "      <th>50%</th>\n",
       "      <td>1.500000e+06</td>\n",
       "      <td>50000.000000</td>\n",
       "      <td>5.000000e+04</td>\n",
       "      <td>50000.000000</td>\n",
       "    </tr>\n",
       "    <tr>\n",
       "      <th>75%</th>\n",
       "      <td>3.850000e+06</td>\n",
       "      <td>200000.000000</td>\n",
       "      <td>1.500000e+05</td>\n",
       "      <td>100000.000000</td>\n",
       "    </tr>\n",
       "    <tr>\n",
       "      <th>max</th>\n",
       "      <td>6.000000e+07</td>\n",
       "      <td>1000000.000000</td>\n",
       "      <td>1.250000e+06</td>\n",
       "      <td>1000000.000000</td>\n",
       "    </tr>\n",
       "  </tbody>\n",
       "</table>\n",
       "</div>"
      ],
      "text/plain": [
       "              price      agency fee  legal and agreement fee     caution fee\n",
       "count  6.760000e+02      159.000000             1.460000e+02      107.000000\n",
       "mean   3.514248e+06   131773.553459             1.190653e+05    92402.663551\n",
       "std    5.611369e+06   189223.891248             1.905449e+05   125806.169318\n",
       "min    1.000000e+04        5.000000             5.000000e+00        0.000000\n",
       "25%    6.000000e+05       50.000000             5.000000e+01     2650.000000\n",
       "50%    1.500000e+06    50000.000000             5.000000e+04    50000.000000\n",
       "75%    3.850000e+06   200000.000000             1.500000e+05   100000.000000\n",
       "max    6.000000e+07  1000000.000000             1.250000e+06  1000000.000000"
      ]
     },
     "execution_count": 14,
     "metadata": {},
     "output_type": "execute_result"
    }
   ],
   "source": [
    "data.describe()"
   ]
  },
  {
   "cell_type": "code",
   "execution_count": 15,
   "id": "5ee13318",
   "metadata": {},
   "outputs": [
    {
     "name": "stdout",
     "output_type": "stream",
     "text": [
      "<class 'pandas.core.frame.DataFrame'>\n",
      "Int64Index: 676 entries, 0 to 77\n",
      "Data columns (total 26 columns):\n",
      " #   Column                   Non-Null Count  Dtype  \n",
      "---  ------                   --------------  -----  \n",
      " 0   price                    676 non-null    int64  \n",
      " 1   location                 676 non-null    object \n",
      " 2   house_type               676 non-null    object \n",
      " 3   rooms                    676 non-null    object \n",
      " 4   bathrooms                676 non-null    object \n",
      " 5   rent_duration            676 non-null    object \n",
      " 6   property address         615 non-null    object \n",
      " 7   estate name              362 non-null    object \n",
      " 8   property size            297 non-null    object \n",
      " 9   condition                588 non-null    object \n",
      " 10  furnishing               654 non-null    object \n",
      " 11  pets                     360 non-null    object \n",
      " 12  facilities               468 non-null    object \n",
      " 13  service charge           134 non-null    object \n",
      " 14  agency fee               159 non-null    float64\n",
      " 15  legal and agreement fee  146 non-null    float64\n",
      " 16  caution fee              107 non-null    float64\n",
      " 17  housing quality          38 non-null     object \n",
      " 18  total rooms              94 non-null     object \n",
      " 19  parking space            91 non-null     object \n",
      " 20  smoking                  43 non-null     object \n",
      " 21  parties                  43 non-null     object \n",
      " 22  broker fee               52 non-null     object \n",
      " 23  new property             49 non-null     object \n",
      " 24  furnished                22 non-null     object \n",
      " 25  area                     676 non-null    object \n",
      "dtypes: float64(3), int64(1), object(22)\n",
      "memory usage: 142.6+ KB\n"
     ]
    }
   ],
   "source": [
    "data.info()"
   ]
  },
  {
   "cell_type": "code",
   "execution_count": 16,
   "id": "19785d1a",
   "metadata": {},
   "outputs": [
    {
     "data": {
      "text/plain": [
       "4    167\n",
       "3    135\n",
       "5    129\n",
       "2    122\n",
       "1    120\n",
       "7      2\n",
       "6      1\n",
       "Name: rooms, dtype: int64"
      ]
     },
     "execution_count": 16,
     "metadata": {},
     "output_type": "execute_result"
    }
   ],
   "source": [
    "## from the rooms column, we are to remove the string values present\n",
    "data.rooms = data.rooms.apply(lambda x: x[0])\n",
    "data.rooms = pd.to_numeric(data.rooms)\n",
    "data.rooms.value_counts()"
   ]
  },
  {
   "cell_type": "code",
   "execution_count": 17,
   "id": "1421e035",
   "metadata": {},
   "outputs": [
    {
     "data": {
      "text/plain": [
       "5    221\n",
       "3    146\n",
       "4    139\n",
       "1     85\n",
       "2     85\n",
       "Name: bathrooms, dtype: int64"
      ]
     },
     "execution_count": 17,
     "metadata": {},
     "output_type": "execute_result"
    }
   ],
   "source": [
    "## we do the same thing for the bathrooms columns\n",
    "data.bathrooms = data.bathrooms.apply(lambda x: x[0])\n",
    "data.bathrooms = pd.to_numeric(data.bathrooms)\n",
    "data.bathrooms.value_counts()"
   ]
  },
  {
   "cell_type": "code",
   "execution_count": 18,
   "id": "8a10b8f5",
   "metadata": {},
   "outputs": [
    {
     "data": {
      "text/plain": [
       "379"
      ]
     },
     "execution_count": 18,
     "metadata": {},
     "output_type": "execute_result"
    }
   ],
   "source": [
    "data['property size'].isnull().sum()"
   ]
  },
  {
   "cell_type": "code",
   "execution_count": 19,
   "id": "8012dda3",
   "metadata": {},
   "outputs": [
    {
     "data": {
      "text/plain": [
       "array(['Enugu, Enugu / Enugu State', 'Anambra, Awka', 'Ogun, Ifo',\n",
       "       'Lagos, Ajah', 'none', 'Ogun, Obafemi-Owode',\n",
       "       'Lagos, Isolo, Ago Palace', 'Kaduna, Kaduna / Kaduna State',\n",
       "       'Rivers, Obio-Akpor', 'Osun, Osogbo', 'Oyo, Ido',\n",
       "       'Lagos, Lekki, Lekki Phase 1', 'Lagos, Lekki',\n",
       "       'Nasarawa, Karu-Nasarawa', 'Lagos, Ikoyi', 'Lagos, Yaba',\n",
       "       'Oyo, Oluyole', 'Lagos, Ibeju, Bogije',\n",
       "       'Lagos, Ikoyi, Osborne Foreshore Estate', 'Lagos, Lekki, Ikota',\n",
       "       'Lagos, Ajah, Sangotedo', 'Lagos, Yaba, Akoka', 'Kaduna, Chikun',\n",
       "       'Abuja, Lugbe District', 'Lagos, Ajah, Ado / Ajah',\n",
       "       'Cross River, Calabar', 'Lagos, Ajah, Off Lekki-Epe Expressway',\n",
       "       'Lagos, Lekki, Osapa london', 'Lagos, Ilashe',\n",
       "       'Lagos, Gbagada, Phase 1 / Gbagada', 'Lagos, Ibeju, Ibeju-Agbe',\n",
       "       'Lagos, Ibeju', 'Lagos, Ibeju, Awoyaya', 'Lagos, Amuwo-Odofin',\n",
       "       'Lagos, Ikotun/Igando, Igando / Ikotun/Igando',\n",
       "       'Lagos, Victoria Island', 'Imo, Owerri',\n",
       "       'Lagos, Ikeja, Adeniyi Jones', 'Lagos, Agboyi/Ketu',\n",
       "       'Lagos, Ibeju, Badore', 'Lagos, Ipaja',\n",
       "       'Lagos, Kosofe, Ketu-Ikosi', 'Rivers, Port-Harcourt',\n",
       "       'Lagos, Ajah, Olokonla', 'Lagos, Egbe Idimu, Idimu',\n",
       "       'Lagos, Ikorodu', 'Lagos, Lekki, Ikate', 'Lagos, Gbagada, Medina',\n",
       "       'Lagos, Ikeja, Omole Phase 1', 'Borno, Guzamala',\n",
       "       'Lagos, Lekki, Lekki Phase 2', 'Lagos, Lekki, Ologolo',\n",
       "       'Lagos, Victoria Island, Victoria Island Extension',\n",
       "       'Lagos, Isolo, Okota', 'Oyo, Egbeda, Egbeda / Egbeda',\n",
       "       'Rivers, Port-Harcourt, GRA Phase 2 / Port-Harcourt',\n",
       "       'Lagos, Ajah, Lekki Gardens Estate', 'Lagos, Ajah, Canaan Estate',\n",
       "       'Lagos, Ipaja, Ayobo', 'Lagos, Ikoyi, Banana Island',\n",
       "       'Lagos, Kosofe, Ketu-Alapere', 'Lagos, Victoria Island, 1004',\n",
       "       'Lagos, Ikoyi, Gerard Road', 'Lagos, Ajah, Thomas Estate',\n",
       "       'Abuja, Asokoro', 'Abuja, Gwarinpa, Life Camp', 'Abuja, Jahi',\n",
       "       'Abuja, Durumi', 'Abuja, Nyanya', 'Abuja, Lokogoma', 'Abuja, Karu',\n",
       "       'Abuja, Gwarinpa', 'Abuja, Maitama', 'Abuja, Wuse 2',\n",
       "       'Lagos, Ibeju, Abijo', 'Lagos, Lekki, Chevron',\n",
       "       'Lagos, Ojodu, Yakoyo/Alagbole', 'Lagos, Lekki, Jakande',\n",
       "       'Bayelsa, Yenagoa', 'Abuja, Wuse',\n",
       "       'Rivers, Port-Harcourt, Rumuogba', 'Lagos, Magodo',\n",
       "       'Lagos, Ikoyi, Old Ikoyi', 'Lagos, Lekki, Ikate-Elegushi',\n",
       "       'Lagos, Ikoyi, Ikoyi S.W', 'Lagos, Apapa, Apapa G.R.A',\n",
       "       'Lagos, Lekki, Lekki Expressway', 'Lagos, Ogudu, Ogudu GRA',\n",
       "       'Abuja, Utako', 'Abuja, Lugbe District, FHA',\n",
       "       'Lagos, Victoria Island, Kofo Abayomi', 'Lagos, Ikeja, Ikeja GRA',\n",
       "       'Lagos, Ojodu, Isheri North', 'Abuja, Galadimawa',\n",
       "       'Abuja, Dakwo District', 'Abuja, Mabushi', 'Lagos, Ikeja',\n",
       "       'Lagos, Ajah, Crown Estate', 'Abuja, Guzape District',\n",
       "       'Lagos, Magodo, GRA Phase 2 Shangisha', 'Lagos, Ikorodu, Agric',\n",
       "       'Abuja, Jabi',\n",
       "       'Rivers, Port-Harcourt, GRA Phase 1 / Port-Harcourt',\n",
       "       'Rivers, Port-Harcourt, Trans Amadi', 'Abuja, Wuye',\n",
       "       'Abuja, Katampe, Katampe (Main)', 'Abuja, Gudu'], dtype=object)"
      ]
     },
     "execution_count": 19,
     "metadata": {},
     "output_type": "execute_result"
    }
   ],
   "source": [
    "data.location.unique()"
   ]
  },
  {
   "cell_type": "markdown",
   "id": "ecfa7114",
   "metadata": {},
   "source": [
    "## we have to merge ANNUALLY and  PER ANNUM into one value"
   ]
  },
  {
   "cell_type": "code",
   "execution_count": 20,
   "id": "10416f96",
   "metadata": {
    "scrolled": false
   },
   "outputs": [
    {
     "data": {
      "text/plain": [
       "per annum      589\n",
       "per quarter     84\n",
       "per month        3\n",
       "Name: rent_duration, dtype: int64"
      ]
     },
     "execution_count": 20,
     "metadata": {},
     "output_type": "execute_result"
    }
   ],
   "source": [
    "data.rent_duration.unique()\n",
    "\n",
    "data.rent_duration.iloc[data.rent_duration == 'anually'] = 'per annum'\n",
    "data.rent_duration.value_counts()"
   ]
  },
  {
   "cell_type": "code",
   "execution_count": null,
   "id": "10dd9937",
   "metadata": {},
   "outputs": [],
   "source": []
  },
  {
   "cell_type": "markdown",
   "id": "39969ff3",
   "metadata": {},
   "source": [
    "## we have to merge NEW PROPERTY AND CONDITION column together"
   ]
  },
  {
   "cell_type": "code",
   "execution_count": 21,
   "id": "d5370dda",
   "metadata": {},
   "outputs": [
    {
     "data": {
      "text/plain": [
       "Newly Built    383\n",
       "Fairly Used    170\n",
       "Renovated       32\n",
       "Old              3\n",
       "Name: condition, dtype: int64"
      ]
     },
     "execution_count": 21,
     "metadata": {},
     "output_type": "execute_result"
    }
   ],
   "source": [
    "\n",
    "data.condition.value_counts()"
   ]
  },
  {
   "cell_type": "code",
   "execution_count": 22,
   "id": "9c262a3f",
   "metadata": {
    "scrolled": false
   },
   "outputs": [
    {
     "data": {
      "text/plain": [
       "Newly Built    383\n",
       "Fairly Used    258\n",
       "Renovated       32\n",
       "Old              3\n",
       "Name: condition, dtype: int64"
      ]
     },
     "execution_count": 22,
     "metadata": {},
     "output_type": "execute_result"
    }
   ],
   "source": [
    "data.condition.fillna('Fairly Used', inplace = True)\n",
    "data.condition.value_counts()"
   ]
  },
  {
   "cell_type": "code",
   "execution_count": 23,
   "id": "78128f85",
   "metadata": {},
   "outputs": [
    {
     "data": {
      "text/plain": [
       "Newly Built    423\n",
       "Fairly Used    218\n",
       "Renovated       32\n",
       "Old              3\n",
       "Name: condition, dtype: int64"
      ]
     },
     "execution_count": 23,
     "metadata": {},
     "output_type": "execute_result"
    }
   ],
   "source": [
    "data.reset_index(inplace = True) # we first reset the index of the dataframe to avoid error\n",
    "index = data['new property'].loc[data['new property'] == 'Yes'].index\n",
    "for i in index:\n",
    "    data.condition.iloc[i] = 'Newly Built'\n",
    "\n",
    "no_index = data['new property'].loc[data['new property'] == 'No'].index    \n",
    "for i in no_index:\n",
    "    data.condition.iloc[i] = 'Fairly Used'\n",
    "data.condition.value_counts()"
   ]
  },
  {
   "cell_type": "markdown",
   "id": "a265b919",
   "metadata": {},
   "source": [
    "## also merging the FURNISHED AND FURNISHING column"
   ]
  },
  {
   "cell_type": "code",
   "execution_count": 24,
   "id": "8e9091c6",
   "metadata": {
    "scrolled": true
   },
   "outputs": [
    {
     "name": "stdout",
     "output_type": "stream",
     "text": [
      "Semi-Furnished    248\n",
      "Unfurnished       226\n",
      "Furnished         202\n",
      "Name: furnishing, dtype: int64\n"
     ]
    }
   ],
   "source": [
    "# no need to reset index since we've already done that above\n",
    "index = data.furnished.loc[data.furnished == 'Yes'].index\n",
    "for i in index:\n",
    "    data.furnishing.iloc[i] = 'Furnished'\n",
    "print(data.furnishing.value_counts())"
   ]
  },
  {
   "cell_type": "markdown",
   "id": "59ab54f6",
   "metadata": {},
   "source": [
    "## extracting house facilities from the FACILITIES colum"
   ]
  },
  {
   "cell_type": "code",
   "execution_count": 25,
   "id": "88e2a667",
   "metadata": {
    "scrolled": true
   },
   "outputs": [
    {
     "data": {
      "text/plain": [
       "array(['Balcony,Chandelier,24 Hours Electricity,Dishwasher,Pop Ceiling,Tiled Floor,Wardrobe,Dining Area,Pre Paid Meter,Hot Water,Kitchen Cabinets',\n",
       "       '24 Hours Electricity,Dining Area,Balcony,Kitchen Cabinets',\n",
       "       'Pre Paid Meter,Tiled Floor,Dishwasher,Kitchen Shelf,24 Hours Electricity',\n",
       "       'Balcony,Chandelier,Dining Area,Wardrobe,Wi-Fi,Pop Ceiling,Hot Water,Kitchen Shelf,Pre Paid Meter,Dishwasher,24 Hours Electricity,Kitchen Cabinets,Tiled Floor',\n",
       "       'Balcony,24 Hours Electricity,Kitchen Shelf,Dining Area,Kitchen Cabinets',\n",
       "       nan,\n",
       "       'Apartment,Dishwasher,Tiled Floor,Wardrobe,Kitchen Cabinets,Balcony',\n",
       "       'Tiled Floor,Kitchen Cabinets,Balcony,24 Hours Electricity,Pre Paid Meter,Wardrobe',\n",
       "       'Tiled Floor,Dishwasher,Kitchen Shelf,Pre Paid Meter',\n",
       "       'Chandelier,Pop Ceiling,24 Hours Electricity,Tiled Floor,Air Conditioning,Dishwasher,Dining Area,Balcony,Kitchen Cabinets,Pre Paid Meter,Wardrobe,Kitchen Shelf,Hot Water',\n",
       "       'Dishwasher,Pop Ceiling,Dining Area,Wardrobe,Tiled Floor,Wi-Fi,Balcony,Pre Paid Meter,Kitchen Cabinets,Kitchen Shelf',\n",
       "       'Dining Area,Hot Water,Chandelier,Kitchen Cabinets,Kitchen Shelf,Balcony,Dishwasher,Pop Ceiling,24 Hours Electricity,Air Conditioning',\n",
       "       'Dishwasher,Pre Paid Meter,Kitchen Shelf,Tiled Floor,Kitchen Cabinets',\n",
       "       '24 Hours Electricity,Kitchen Cabinets,Balcony,Kitchen Shelf',\n",
       "       'Dining Area,24 Hours Electricity,Kitchen Cabinets,Balcony,Kitchen Shelf',\n",
       "       'Dining Area,Pop Ceiling,Pre Paid Meter,Wardrobe,Tiled Floor,Balcony,Kitchen Shelf,Kitchen Cabinets,24 Hours Electricity',\n",
       "       'Kitchen Cabinets,24 Hours Electricity,Dining Area,Balcony,Kitchen Shelf',\n",
       "       'Hot Water,Tiled Floor,Wardrobe,Kitchen Cabinets,Pre Paid Meter,Apartment,Balcony,Pop Ceiling,Kitchen Shelf',\n",
       "       'Tiled Floor,24 Hours Electricity,Wi-Fi,Pre Paid Meter,Wardrobe,Balcony,Dining Area',\n",
       "       'Balcony,Kitchen Cabinets,Tiled Floor,Kitchen Shelf,Pre Paid Meter,Dining Area,Dishwasher,Pop Ceiling,Hot Water,TV',\n",
       "       'Balcony,Tiled Floor,24 Hours Electricity,Wardrobe',\n",
       "       '24 Hours Electricity,Tiled Floor,Balcony,Hot Water',\n",
       "       'Kitchen Shelf,Dishwasher,Pre Paid Meter,24 Hours Electricity,Tiled Floor,Pop Ceiling',\n",
       "       'Balcony,Hot Water,Kitchen Cabinets,Pre Paid Meter,24 Hours Electricity,Pop Ceiling,Wardrobe,Tiled Floor',\n",
       "       '24 Hours Electricity,Balcony,Tiled Floor,Wardrobe',\n",
       "       '24 Hours Electricity,Dining Area,Kitchen Shelf,Pre Paid Meter,Tiled Floor',\n",
       "       'Kitchen Cabinets,Kitchen Shelf,24 Hours Electricity,Hot Water,Pre Paid Meter,Tiled Floor,Dishwasher,Pop Ceiling,Dining Area',\n",
       "       'Kitchen Shelf,Dishwasher,Hot Water,Kitchen Cabinets,24 Hours Electricity,Pre Paid Meter,Wardrobe',\n",
       "       'Kitchen Cabinets,Pre Paid Meter,Tiled Floor,Balcony,Kitchen Shelf,Pop Ceiling',\n",
       "       'Balcony,24 Hours Electricity,Dishwasher,Pre Paid Meter,Tiled Floor,Kitchen Shelf',\n",
       "       'Pop Ceiling,Tiled Floor,Wardrobe,Kitchen Shelf,Kitchen Cabinets,24 Hours Electricity,Air Conditioning',\n",
       "       'Pop Ceiling,Kitchen Shelf,Pre Paid Meter,Tiled Floor,Apartment,Wardrobe',\n",
       "       '24 Hours Electricity,Pre Paid Meter,Tiled Floor,Dishwasher',\n",
       "       '24 Hours Electricity,Air Conditioning,Dining Area,Hot Water,Kitchen Cabinets,Kitchen Shelf,Microwave,Pop Ceiling,Pre Paid Meter,Refrigerator,Tiled Floor,TV,Wardrobe,Wi-Fi',\n",
       "       'Wardrobe,24 Hours Electricity,Pop Ceiling,Kitchen Cabinets,Pre Paid Meter,Tiled Floor,Hot Water,Kitchen Shelf',\n",
       "       'Balcony,Kitchen Cabinets,Tiled Floor,Apartment,Dishwasher,Kitchen Shelf',\n",
       "       'Kitchen Shelf,Tiled Floor,Hot Water,Dishwasher,Apartment',\n",
       "       'Dishwasher,24 Hours Electricity,Pre Paid Meter,Apartment,Tiled Floor',\n",
       "       'Pop Ceiling,Hot Water,Balcony,Kitchen Cabinets,Pre Paid Meter,Wardrobe,Kitchen Shelf,24 Hours Electricity,Tiled Floor',\n",
       "       '24 Hours Electricity,Kitchen Cabinets,Dishwasher,Apartment',\n",
       "       'Kitchen Cabinets,Hot Water,Pre Paid Meter,Wardrobe,Apartment,Tiled Floor,Balcony,Kitchen Shelf',\n",
       "       'Kitchen Cabinets,Kitchen Shelf,Refrigerator,TV,Balcony,Pop Ceiling,Dining Area,Air Conditioning,Pre Paid Meter,24 Hours Electricity,Tiled Floor,Apartment',\n",
       "       'Balcony,Pre Paid Meter,24 Hours Electricity,Dishwasher',\n",
       "       'Kitchen Cabinets,Kitchen Shelf,Pop Ceiling,Pre Paid Meter,TV,Wardrobe,Balcony',\n",
       "       'Pre Paid Meter,Kitchen Cabinets,Hot Water,Kitchen Shelf,Tiled Floor,Wardrobe,Balcony',\n",
       "       'Tiled Floor,Dishwasher,Pop Ceiling,Wi-Fi,Chandelier,Pre Paid Meter,24 Hours Electricity,Balcony',\n",
       "       'Hot Water,Dining Area,Pre Paid Meter,Tiled Floor,Pop Ceiling,Balcony,Kitchen Shelf,Wi-Fi,Kitchen Cabinets,Dishwasher,24 Hours Electricity,Wardrobe,Chandelier',\n",
       "       'Pre Paid Meter,24 Hours Electricity',\n",
       "       'Wardrobe,Balcony,Tiled Floor', 'Balcony,Apartment,Dishwasher',\n",
       "       'Pre Paid Meter,24 Hours Electricity,Tiled Floor,Apartment,Dishwasher',\n",
       "       'Dining Area,Balcony,Pre Paid Meter,Apartment,Kitchen Cabinets,Air Conditioning,Tiled Floor,24 Hours Electricity,Dishwasher,Kitchen Shelf,Hot Water,Pop Ceiling,Wardrobe,Chandelier',\n",
       "       '24 Hours Electricity,Chandelier,Tiled Floor,Wardrobe,Pop Ceiling,Balcony,Dining Area,Dishwasher,Kitchen Cabinets,Hot Water,Kitchen Shelf',\n",
       "       'Tiled Floor,Balcony,Pre Paid Meter,Kitchen Cabinets,Hot Water,Wardrobe,Pop Ceiling',\n",
       "       'Apartment,Pop Ceiling,24 Hours Electricity,Kitchen Cabinets,Chandelier,Pre Paid Meter,Kitchen Shelf,Dishwasher,Hot Water,Balcony,Dining Area',\n",
       "       'Apartment,Balcony,Dining Area,Kitchen Cabinets,Pop Ceiling,Pre Paid Meter,Tiled Floor,Wardrobe',\n",
       "       'Dishwasher',\n",
       "       'Hot Water,Tiled Floor,Wardrobe,Balcony,Kitchen Shelf,Dishwasher,Chandelier,Kitchen Cabinets,Pop Ceiling',\n",
       "       'Pop Ceiling,Dishwasher,Kitchen Shelf,Dining Area,TV,Wi-Fi,Balcony,Kitchen Cabinets,Tiled Floor,Chandelier',\n",
       "       'Pop Ceiling,Tiled Floor,Kitchen Cabinets,Pre Paid Meter,Balcony,Hot Water',\n",
       "       '24 Hours Electricity,Dining Area,Kitchen Shelf,Pop Ceiling,Pre Paid Meter,Tiled Floor',\n",
       "       'Tiled Floor,Hot Water,Balcony,24 Hours Electricity,Pop Ceiling,Kitchen Cabinets,Pre Paid Meter,Wardrobe',\n",
       "       'Wardrobe,Kitchen Shelf,Balcony,Tiled Floor',\n",
       "       'TV,Dining Area,Pop Ceiling,Wardrobe,Kitchen Cabinets,Refrigerator,Hot Water,Tiled Floor,Apartment,24 Hours Electricity,Kitchen Shelf,Microwave,Chandelier,Balcony,Dishwasher,Air Conditioning,Pre Paid Meter',\n",
       "       'Tiled Floor,Air Conditioning,Kitchen Shelf,Pre Paid Meter,Hot Water,Pop Ceiling,Kitchen Cabinets,Wardrobe',\n",
       "       '24 Hours Electricity,Chandelier,TV,Balcony,Pop Ceiling,Pre Paid Meter,Dining Area,Kitchen Shelf,Dishwasher,Tiled Floor,Refrigerator,Apartment,Kitchen Cabinets,Wardrobe,Hot Water,Microwave,Air Conditioning',\n",
       "       'Hot Water,Apartment,Kitchen Cabinets,Wardrobe,24 Hours Electricity,Dining Area,Pop Ceiling,Tiled Floor,Kitchen Shelf,Balcony,Pre Paid Meter',\n",
       "       'Apartment,Balcony,Chandelier,Dining Area,Hot Water,Kitchen Cabinets,Kitchen Shelf,Microwave,Pop Ceiling,Pre Paid Meter,Tiled Floor,Wardrobe,Wi-Fi,24 Hours Electricity',\n",
       "       'Kitchen Cabinets,Tiled Floor,Pop Ceiling,Wardrobe,Kitchen Shelf',\n",
       "       'Chandelier,Tiled Floor,Kitchen Shelf,Pop Ceiling,Kitchen Cabinets,Hot Water,Wardrobe,24 Hours Electricity,Dining Area,Pre Paid Meter,Apartment,Balcony',\n",
       "       'Wardrobe,Hot Water,Dining Area,24 Hours Electricity,Apartment,Kitchen Shelf,Tiled Floor,Chandelier,Pop Ceiling,Pre Paid Meter,Balcony,Kitchen Cabinets',\n",
       "       'Balcony,24 Hours Electricity,Kitchen Cabinets,Tiled Floor',\n",
       "       'Hot Water',\n",
       "       'Kitchen Cabinets,Hot Water,Air Conditioning,Balcony,Chandelier,Dishwasher,Dining Area,Kitchen Shelf',\n",
       "       'Balcony,Air Conditioning,Dining Area,Kitchen Shelf,Tiled Floor,Hot Water,Wardrobe,Pre Paid Meter',\n",
       "       '24 Hours Electricity,Hot Water,Balcony,Pre Paid Meter,Dining Area,Kitchen Cabinets,Wardrobe,Pop Ceiling,Tiled Floor,Chandelier',\n",
       "       'Balcony,Dining Area,Pre Paid Meter,Wardrobe,Tiled Floor',\n",
       "       'Pre Paid Meter,Tiled Floor,Kitchen Cabinets,Wardrobe,Balcony',\n",
       "       'Pop Ceiling,Pre Paid Meter,Wardrobe,Dining Area,Balcony,Tiled Floor',\n",
       "       'Pre Paid Meter,Tiled Floor,Balcony,Dining Area,Kitchen Cabinets,Wardrobe,Dishwasher,Pop Ceiling',\n",
       "       'Kitchen Shelf,Balcony,Hot Water,Tiled Floor,Dining Area,Pop Ceiling,Wardrobe,Kitchen Cabinets',\n",
       "       'Pop Ceiling,Kitchen Cabinets,Pre Paid Meter,Dining Area,Wardrobe',\n",
       "       'Kitchen Cabinets,Kitchen Shelf,Apartment,Pop Ceiling,Hot Water,Microwave,Dishwasher,Chandelier,Balcony,Dining Area',\n",
       "       'Pre Paid Meter,Dishwasher,Apartment,Kitchen Shelf,Pop Ceiling,Hot Water,Chandelier,Tiled Floor,Kitchen Cabinets,24 Hours Electricity,Wardrobe,Balcony,Dining Area',\n",
       "       '24 Hours Electricity,Pop Ceiling,Kitchen Cabinets,Wardrobe,Apartment,Hot Water,Dining Area,Dishwasher,Kitchen Shelf,Chandelier,Tiled Floor,Balcony',\n",
       "       'Hot Water,Kitchen Shelf,Tiled Floor,Balcony,24 Hours Electricity,Wardrobe,Pre Paid Meter,Apartment,Kitchen Cabinets',\n",
       "       'Balcony,Air Conditioning,Pre Paid Meter,Kitchen Cabinets,Dining Area,24 Hours Electricity,Chandelier,Tiled Floor,Wardrobe,Dishwasher,Hot Water,Pop Ceiling,Kitchen Shelf',\n",
       "       'Microwave,Pre Paid Meter,Kitchen Shelf,Balcony,Dining Area,Wardrobe,Tiled Floor',\n",
       "       'Balcony,Dining Area,Kitchen Shelf,Wardrobe,Pop Ceiling,Pre Paid Meter,Tiled Floor,Chandelier,Kitchen Cabinets,Dishwasher,Hot Water',\n",
       "       'Balcony,24 Hours Electricity,Pre Paid Meter,Wardrobe,Tiled Floor,Pop Ceiling,Kitchen Cabinets,Hot Water,Chandelier,Dining Area,Kitchen Shelf',\n",
       "       'Wardrobe,Dining Area,Kitchen Cabinets,24 Hours Electricity,Pre Paid Meter,Kitchen Shelf,Pop Ceiling,Tiled Floor,Balcony,Dishwasher',\n",
       "       'Pop Ceiling,Balcony,Wi-Fi,24 Hours Electricity,Pre Paid Meter,Wardrobe,Dining Area,Tiled Floor,Kitchen Cabinets',\n",
       "       'Dining Area,24 Hours Electricity,Wi-Fi,Wardrobe,Balcony,Pre Paid Meter,Tiled Floor',\n",
       "       'Kitchen Cabinets,Balcony,Wardrobe,Pre Paid Meter,Tiled Floor,Dining Area',\n",
       "       '24 Hours Electricity,Dining Area,Balcony,Kitchen Shelf,Kitchen Cabinets,Pop Ceiling,Pre Paid Meter,Apartment,Hot Water,Wardrobe,Tiled Floor',\n",
       "       '24 Hours Electricity,Balcony,Dining Area,Dishwasher,Hot Water,Pop Ceiling,Pre Paid Meter,Tiled Floor,Wardrobe,Kitchen Cabinets',\n",
       "       'Pre Paid Meter,Dining Area,Wardrobe,Tiled Floor,Dishwasher,24 Hours Electricity,Balcony',\n",
       "       'Wardrobe,Pre Paid Meter,24 Hours Electricity,Hot Water,Dining Area,Kitchen Cabinets,Kitchen Shelf,Tiled Floor,Balcony,Pop Ceiling,Chandelier',\n",
       "       'Apartment,Balcony,24 Hours Electricity,Pre Paid Meter,Pop Ceiling,Tiled Floor,Wi-Fi,Wardrobe,Hot Water,Kitchen Cabinets,Dining Area',\n",
       "       'Pop Ceiling,Tiled Floor,Kitchen Cabinets,Balcony,Wardrobe,Dining Area',\n",
       "       '24 Hours Electricity,Tiled Floor,Kitchen Cabinets,Pre Paid Meter,Dining Area,Hot Water,Balcony,Pop Ceiling,Apartment,Kitchen Shelf,Wardrobe',\n",
       "       'Tiled Floor,Pop Ceiling,Hot Water,Balcony,Dining Area,Pre Paid Meter,Kitchen Shelf,Kitchen Cabinets,Wardrobe,Chandelier,24 Hours Electricity,Apartment',\n",
       "       'Pop Ceiling,Wardrobe,Kitchen Cabinets,Dining Area,Hot Water,Tiled Floor,Balcony',\n",
       "       '24 Hours Electricity,Apartment,Balcony,Chandelier,Dishwasher,Hot Water,Kitchen Cabinets,Kitchen Shelf,Pop Ceiling,Pre Paid Meter,Tiled Floor,Wardrobe',\n",
       "       'Hot Water,Kitchen Shelf,Apartment,Dining Area,24 Hours Electricity,Kitchen Cabinets,Wardrobe,Balcony,Tiled Floor,Pop Ceiling',\n",
       "       'Pre Paid Meter,Tiled Floor,Wardrobe,Dining Area,Pop Ceiling,Balcony,Wi-Fi,24 Hours Electricity,Apartment',\n",
       "       'Dining Area,Pop Ceiling,Kitchen Shelf,Chandelier,Hot Water,Tiled Floor,Apartment,Kitchen Cabinets,Wardrobe,Balcony,24 Hours Electricity',\n",
       "       'Balcony,Wardrobe,Kitchen Cabinets,Pop Ceiling,Chandelier,Dining Area,Apartment,Kitchen Shelf,Tiled Floor,Pre Paid Meter,Hot Water,Dishwasher,24 Hours Electricity',\n",
       "       'Hot Water,Wardrobe,Balcony,Microwave,Dishwasher,Chandelier,TV,Dining Area,Refrigerator,Air Conditioning,Kitchen Shelf,24 Hours Electricity,Pop Ceiling,Tiled Floor,Kitchen Cabinets,Pre Paid Meter',\n",
       "       'Kitchen Cabinets,Hot Water,Balcony,Tiled Floor,Dining Area,Kitchen Shelf,Wardrobe',\n",
       "       'Pop Ceiling',\n",
       "       '24 Hours Electricity,Dining Area,Pre Paid Meter,Chandelier,Pop Ceiling,Tiled Floor,Microwave,Refrigerator,Air Conditioning,Balcony,Dishwasher,TV,Wi-Fi,Wardrobe,Hot Water,Kitchen Cabinets,Kitchen Shelf',\n",
       "       'Kitchen Shelf,24 Hours Electricity,Tiled Floor,Kitchen Cabinets,Pop Ceiling,Hot Water,Wardrobe,Dining Area,Chandelier,Apartment,Pre Paid Meter,Balcony',\n",
       "       'Wardrobe,Balcony,Dishwasher,Hot Water,Kitchen Cabinets,Dining Area,Tiled Floor,24 Hours Electricity,Pre Paid Meter',\n",
       "       'Dishwasher,Apartment,Wardrobe,Wi-Fi,24 Hours Electricity,Hot Water,Air Conditioning,Chandelier,Tiled Floor,Kitchen Shelf,Pop Ceiling,Pre Paid Meter,Kitchen Cabinets,Balcony,Dining Area',\n",
       "       'Balcony,Kitchen Cabinets,Dining Area,24 Hours Electricity,Kitchen Shelf,Chandelier',\n",
       "       '24 Hours Electricity,Pre Paid Meter,Kitchen Cabinets,Balcony,Tiled Floor,Wardrobe,Kitchen Shelf,Pop Ceiling,Hot Water,Chandelier,Dining Area',\n",
       "       'Kitchen Shelf,Wi-Fi,Air Conditioning,Dining Area,Chandelier,Refrigerator,24 Hours Electricity,Dishwasher,Kitchen Cabinets,Tiled Floor,Pop Ceiling,Hot Water,TV,Pre Paid Meter,Balcony,Microwave,Wardrobe',\n",
       "       'Tiled Floor,Dining Area,Pop Ceiling,Wardrobe,Balcony,Dishwasher,Hot Water,24 Hours Electricity,Pre Paid Meter',\n",
       "       'Air Conditioning,24 Hours Electricity,Balcony,Chandelier,Dining Area,Dishwasher,Hot Water,Kitchen Cabinets,Kitchen Shelf,Microwave,Pop Ceiling,Refrigerator,TV,Tiled Floor,Wardrobe,Wi-Fi',\n",
       "       'Pre Paid Meter,Tiled Floor,Kitchen Cabinets,Balcony,Dining Area,Kitchen Shelf,Pop Ceiling,Wardrobe,24 Hours Electricity,Hot Water',\n",
       "       'Wi-Fi,Balcony,24 Hours Electricity,Pop Ceiling,Tiled Floor',\n",
       "       'Dining Area,Balcony,Kitchen Cabinets,Kitchen Shelf,24 Hours Electricity,Hot Water,Tiled Floor,Dishwasher,Pop Ceiling,Wardrobe',\n",
       "       'Wardrobe,Dining Area,Kitchen Cabinets,Pop Ceiling,Tiled Floor,Balcony,24 Hours Electricity,Pre Paid Meter,Kitchen Shelf',\n",
       "       'Microwave,Kitchen Cabinets,Pre Paid Meter,Refrigerator,TV,Wardrobe,Chandelier,Dishwasher,Balcony,Apartment,Kitchen Shelf,Hot Water,24 Hours Electricity,Dining Area,Pop Ceiling,Tiled Floor,Air Conditioning',\n",
       "       'Pop Ceiling,Balcony,Kitchen Shelf,Kitchen Cabinets,Dishwasher,Tiled Floor,Wardrobe,Dining Area',\n",
       "       'Hot Water,Pop Ceiling,Kitchen Cabinets,Wardrobe,Kitchen Shelf,Chandelier,24 Hours Electricity,Apartment,Pre Paid Meter,Balcony,Tiled Floor,Dining Area',\n",
       "       'Wi-Fi,24 Hours Electricity,Dishwasher',\n",
       "       'Pop Ceiling,Kitchen Cabinets,Balcony,Pre Paid Meter,Tiled Floor,Hot Water,Kitchen Shelf,Wardrobe,Dining Area',\n",
       "       'Balcony,Chandelier,Pre Paid Meter,Tiled Floor,Wardrobe,Kitchen Cabinets,Pop Ceiling,Apartment,Hot Water,Dining Area,Kitchen Shelf,24 Hours Electricity',\n",
       "       'Pop Ceiling,Dishwasher,Kitchen Shelf,Kitchen Cabinets,Balcony,24 Hours Electricity',\n",
       "       'Tiled Floor,Hot Water,24 Hours Electricity,TV,Balcony,Kitchen Cabinets,Pop Ceiling,Dining Area,Kitchen Shelf,Pre Paid Meter',\n",
       "       'Balcony,Wardrobe,Pop Ceiling,Tiled Floor,Kitchen Shelf,Dining Area,24 Hours Electricity,Pre Paid Meter,Hot Water,Kitchen Cabinets',\n",
       "       'Tiled Floor,Dining Area,Kitchen Shelf,Pop Ceiling,Wardrobe,Chandelier',\n",
       "       'Balcony,Hot Water,Wardrobe,Dishwasher,Kitchen Shelf,24 Hours Electricity,Pre Paid Meter,Chandelier,Dining Area,Microwave,Tiled Floor,Kitchen Cabinets,Pop Ceiling,Apartment',\n",
       "       'Dishwasher,Apartment,Hot Water,Kitchen Cabinets,24 Hours Electricity,Balcony,Wardrobe,Pop Ceiling,Chandelier,Tiled Floor,Kitchen Shelf,Dining Area',\n",
       "       '24 Hours Electricity,Balcony,Wardrobe,Microwave,Tiled Floor,Hot Water,Kitchen Cabinets,Kitchen Shelf,Pop Ceiling,Dining Area,Pre Paid Meter',\n",
       "       'Tiled Floor,Wardrobe,Balcony,Kitchen Cabinets,Dining Area,Pre Paid Meter,Pop Ceiling,Kitchen Shelf,Hot Water',\n",
       "       'Tiled Floor,Pop Ceiling,Dining Area,Wardrobe,Kitchen Cabinets,Kitchen Shelf,Balcony,Pre Paid Meter',\n",
       "       '24 Hours Electricity',\n",
       "       'Dining Area,Pop Ceiling,Chandelier,24 Hours Electricity,Kitchen Cabinets,Pre Paid Meter,Kitchen Shelf,Tiled Floor,Wardrobe,Balcony',\n",
       "       'Pre Paid Meter',\n",
       "       'Kitchen Shelf,Dining Area,Kitchen Cabinets,Hot Water,Pre Paid Meter,Pop Ceiling,24 Hours Electricity,Chandelier',\n",
       "       'Kitchen Cabinets,Tiled Floor,Wardrobe,Pre Paid Meter,Kitchen Shelf,Pop Ceiling,Balcony,Dining Area,Hot Water',\n",
       "       '24 Hours Electricity,Kitchen Cabinets,Pre Paid Meter,Balcony,Dining Area,Tiled Floor',\n",
       "       '24 Hours Electricity,Air Conditioning,Apartment,Balcony,Chandelier,Dining Area,Hot Water,Kitchen Cabinets,Kitchen Shelf,Microwave,Dishwasher,Pop Ceiling,Refrigerator,Pre Paid Meter,Tiled Floor,Wardrobe',\n",
       "       'Kitchen Shelf,Kitchen Cabinets,Hot Water,Pop Ceiling,Tiled Floor,Balcony',\n",
       "       'Apartment,Balcony,Kitchen Shelf,Chandelier,Wardrobe,24 Hours Electricity,Pop Ceiling,Kitchen Cabinets,Dining Area',\n",
       "       'Kitchen Cabinets,Wardrobe,Tiled Floor,Balcony,24 Hours Electricity,Apartment,Kitchen Shelf',\n",
       "       'Hot Water,Pre Paid Meter,Tiled Floor,24 Hours Electricity,Dishwasher,Wardrobe,Pop Ceiling,Balcony,Kitchen Cabinets,Chandelier,Apartment,Dining Area',\n",
       "       'Apartment,Balcony,Tiled Floor,Pop Ceiling,Dining Area,Hot Water,Pre Paid Meter',\n",
       "       'Kitchen Shelf,Kitchen Cabinets,Tiled Floor,Microwave,Balcony,Dining Area,Apartment,Pre Paid Meter,Pop Ceiling,Dishwasher,Chandelier,Wardrobe,Hot Water',\n",
       "       'Pre Paid Meter,Hot Water,Apartment,Wardrobe,Kitchen Cabinets,Tiled Floor',\n",
       "       'Kitchen Cabinets,Kitchen Shelf,Balcony,Tiled Floor,Wardrobe,Dining Area',\n",
       "       'Dining Area,24 Hours Electricity,Pop Ceiling,Balcony,Wardrobe,Tiled Floor',\n",
       "       'Dining Area,Pre Paid Meter,Tiled Floor,Kitchen Shelf,Balcony,Apartment,Wardrobe,Kitchen Cabinets,Pop Ceiling',\n",
       "       'Dining Area,Tiled Floor,Chandelier,24 Hours Electricity,Pre Paid Meter,Pop Ceiling,Balcony,Apartment,Hot Water,Wardrobe,Kitchen Shelf,Kitchen Cabinets,Dishwasher',\n",
       "       'Wi-Fi,24 Hours Electricity,Wardrobe,Tiled Floor',\n",
       "       'Balcony,Wardrobe,Wi-Fi,Dining Area,Kitchen Cabinets,24 Hours Electricity',\n",
       "       'Pre Paid Meter,24 Hours Electricity,Kitchen Cabinets,Wardrobe',\n",
       "       'Wardrobe,Pop Ceiling,Tiled Floor,Kitchen Shelf,Microwave,Pre Paid Meter,Air Conditioning,Kitchen Cabinets,24 Hours Electricity,Balcony,Hot Water,Dining Area',\n",
       "       'Kitchen Shelf,Wardrobe,Balcony,Pop Ceiling,Kitchen Cabinets,Hot Water,Tiled Floor,Dining Area,Chandelier,Pre Paid Meter',\n",
       "       'Pre Paid Meter,Chandelier,Dining Area,Kitchen Cabinets,Wardrobe,24 Hours Electricity,Balcony,Hot Water,Kitchen Shelf,Apartment,Pop Ceiling,Tiled Floor',\n",
       "       'Tiled Floor,Chandelier,Pop Ceiling,Dining Area,Kitchen Shelf,Apartment,Pre Paid Meter,Kitchen Cabinets,Wardrobe,Balcony,Dishwasher,Hot Water',\n",
       "       'Hot Water,Kitchen Shelf,Air Conditioning,Balcony,Wardrobe,24 Hours Electricity,Apartment,Dining Area,Pre Paid Meter,Tiled Floor,Kitchen Cabinets,Chandelier,Pop Ceiling',\n",
       "       'Tiled Floor,Kitchen Shelf,Kitchen Cabinets,Refrigerator,Apartment,24 Hours Electricity,Wardrobe,Pop Ceiling,Hot Water,Pre Paid Meter',\n",
       "       'Balcony,Tiled Floor,Pre Paid Meter,Dining Area,Wardrobe,Kitchen Shelf,24 Hours Electricity,Kitchen Cabinets,Hot Water',\n",
       "       'Kitchen Cabinets,Pop Ceiling,Kitchen Shelf,Tiled Floor,24 Hours Electricity',\n",
       "       'Wardrobe,Dining Area,24 Hours Electricity,Balcony,Wi-Fi,Pre Paid Meter,Tiled Floor',\n",
       "       '24 Hours Electricity,Balcony,Dining Area',\n",
       "       'Hot Water,Dishwasher,Balcony,Refrigerator,Tiled Floor,24 Hours Electricity,Chandelier,Wardrobe,Pop Ceiling,Pre Paid Meter,Air Conditioning,Kitchen Cabinets,Dining Area',\n",
       "       'Balcony,Wi-Fi,24 Hours Electricity',\n",
       "       'Wi-Fi,Wardrobe,Dining Area,24 Hours Electricity,Balcony,Pop Ceiling',\n",
       "       'Pre Paid Meter,24 Hours Electricity,Dining Area,Wi-Fi,Tiled Floor,Kitchen Shelf,Pop Ceiling,Wardrobe,Balcony',\n",
       "       'Balcony,Microwave,Pre Paid Meter,Kitchen Cabinets,Pop Ceiling,Tiled Floor,Kitchen Shelf,Refrigerator,Hot Water,Dining Area,Chandelier,Wardrobe',\n",
       "       'Tiled Floor,Dining Area,Apartment,24 Hours Electricity,Wardrobe,Air Conditioning,Kitchen Cabinets,Kitchen Shelf,Hot Water,Pre Paid Meter,Balcony,Pop Ceiling',\n",
       "       'Pre Paid Meter,Apartment,Air Conditioning,24 Hours Electricity,Tiled Floor,Hot Water,Dining Area,Wi-Fi,Balcony,Wardrobe,Kitchen Shelf,Kitchen Cabinets',\n",
       "       'Wi-Fi,24 Hours Electricity,Dining Area,Balcony,Pre Paid Meter',\n",
       "       '24 Hours Electricity,Dining Area,Wardrobe,Kitchen Cabinets,Pre Paid Meter,Balcony',\n",
       "       '24 Hours Electricity,Air Conditioning,Dining Area,Balcony,Hot Water,Apartment,Kitchen Shelf,Dishwasher,Microwave,Chandelier',\n",
       "       'Pre Paid Meter,Wardrobe,Balcony,24 Hours Electricity,Dining Area,Tiled Floor,Kitchen Shelf,Pop Ceiling',\n",
       "       'Balcony,Hot Water,Kitchen Shelf,Apartment,Chandelier,Wi-Fi,Dishwasher,Dining Area,Wardrobe,Pre Paid Meter,Kitchen Cabinets,24 Hours Electricity,Tiled Floor',\n",
       "       'Kitchen Shelf,Balcony,24 Hours Electricity,Kitchen Cabinets,Tiled Floor,Pop Ceiling,Wardrobe,Pre Paid Meter,Wi-Fi,Dining Area',\n",
       "       'Dining Area,24 Hours Electricity,Pre Paid Meter,Wardrobe,Kitchen Shelf,Tiled Floor,Pop Ceiling,Kitchen Cabinets,Balcony,Hot Water',\n",
       "       'Kitchen Cabinets,Wi-Fi,Kitchen Shelf,Apartment,Balcony,Tiled Floor,Wardrobe,24 Hours Electricity,Pre Paid Meter,Dining Area',\n",
       "       'Balcony,Dining Area,Tiled Floor,Wardrobe,Wi-Fi,Kitchen Cabinets,24 Hours Electricity',\n",
       "       'Kitchen Shelf,Hot Water,Refrigerator,Air Conditioning,Balcony,Wardrobe,24 Hours Electricity,Pop Ceiling,TV,Dining Area,Kitchen Cabinets,Tiled Floor,Pre Paid Meter,Microwave',\n",
       "       'Dining Area,Pre Paid Meter,24 Hours Electricity,Wardrobe,Pop Ceiling,Chandelier,Hot Water,Kitchen Cabinets,Balcony,Tiled Floor',\n",
       "       'Dining Area,Kitchen Cabinets,Tiled Floor,Wardrobe,Apartment,Kitchen Shelf,Balcony,Dishwasher',\n",
       "       '24 Hours Electricity,Wardrobe,Balcony,Tiled Floor,Dining Area,Kitchen Cabinets,Pop Ceiling,Pre Paid Meter,Kitchen Shelf',\n",
       "       'Wi-Fi,Wardrobe,Balcony,Dining Area,Kitchen Shelf,Pop Ceiling,Kitchen Cabinets,24 Hours Electricity,Tiled Floor',\n",
       "       'Dishwasher,Pop Ceiling,Balcony,Tiled Floor,Hot Water,Kitchen Cabinets,Wardrobe,Dining Area,Chandelier,Pre Paid Meter,Kitchen Shelf',\n",
       "       'Tiled Floor,Pre Paid Meter,Dining Area,Balcony,Kitchen Shelf,24 Hours Electricity,Wardrobe,Kitchen Cabinets,Hot Water',\n",
       "       'Balcony,Dining Area,Dishwasher,Wardrobe,Apartment,Kitchen Cabinets,Kitchen Shelf',\n",
       "       'Tiled Floor,Pre Paid Meter,Hot Water,Kitchen Shelf,Kitchen Cabinets,Dishwasher,Chandelier,Apartment,Microwave,Balcony,Dining Area,Pop Ceiling,Wardrobe',\n",
       "       'Wardrobe,Chandelier,Pre Paid Meter,24 Hours Electricity,Tiled Floor,Dining Area,Kitchen Shelf,Hot Water,Pop Ceiling,Balcony,Kitchen Cabinets',\n",
       "       'Dining Area,Kitchen Shelf,Kitchen Cabinets,Wardrobe,Tiled Floor,Pre Paid Meter,24 Hours Electricity,Balcony,Dishwasher,Pop Ceiling',\n",
       "       'Hot Water,Kitchen Shelf,Tiled Floor,Dining Area,Dishwasher,24 Hours Electricity,Kitchen Cabinets,Pop Ceiling,Balcony,Wardrobe,Pre Paid Meter',\n",
       "       '24 Hours Electricity,Air Conditioning',\n",
       "       'Wardrobe,24 Hours Electricity,Wi-Fi,Air Conditioning,Tiled Floor,Balcony,Kitchen Cabinets,Dining Area,Kitchen Shelf,Pop Ceiling,Pre Paid Meter',\n",
       "       'Kitchen Cabinets,Kitchen Shelf,Tiled Floor,Wardrobe,Dining Area,Apartment,Balcony',\n",
       "       '24 Hours Electricity,Chandelier,Kitchen Cabinets,Tiled Floor,Wardrobe,Hot Water,Apartment,Balcony,Pop Ceiling,Dining Area,Pre Paid Meter',\n",
       "       'Balcony,Dining Area,Kitchen Cabinets,Kitchen Shelf,Pop Ceiling,Tiled Floor,Wardrobe',\n",
       "       'Kitchen Shelf,24 Hours Electricity,Balcony,Tiled Floor,Pre Paid Meter,Chandelier,Refrigerator,Microwave,TV,Kitchen Cabinets,Air Conditioning,Wi-Fi,Dishwasher,Hot Water,Dining Area,Wardrobe,Pop Ceiling',\n",
       "       'Kitchen Cabinets,Pre Paid Meter,Tiled Floor,Wardrobe,Balcony,Pop Ceiling',\n",
       "       'Hot Water,Wardrobe,Pop Ceiling,Dining Area,Kitchen Shelf,Kitchen Cabinets,Pre Paid Meter,Balcony,Tiled Floor,Apartment,Chandelier',\n",
       "       'Tiled Floor,Chandelier,Dining Area,Hot Water,Pre Paid Meter,Apartment,Air Conditioning,24 Hours Electricity,Kitchen Shelf,Wardrobe,TV,Balcony,Kitchen Cabinets,Microwave,Dishwasher,Pop Ceiling',\n",
       "       'Pre Paid Meter,Tiled Floor,Kitchen Shelf,Wardrobe,Balcony',\n",
       "       '24 Hours Electricity,Wardrobe,Kitchen Cabinets,Hot Water,Kitchen Shelf,Tiled Floor,Pop Ceiling',\n",
       "       'Pre Paid Meter,Wardrobe,Kitchen Cabinets,Balcony,Tiled Floor,Kitchen Shelf,Pop Ceiling',\n",
       "       'Microwave,Tiled Floor,TV,Refrigerator,Air Conditioning,Kitchen Cabinets,Pop Ceiling,Wardrobe,Hot Water',\n",
       "       '24 Hours Electricity,Dishwasher,Hot Water,Kitchen Cabinets,Kitchen Shelf,Pop Ceiling,Pre Paid Meter,Tiled Floor',\n",
       "       'Kitchen Cabinets,Pre Paid Meter,Tiled Floor,Wardrobe',\n",
       "       'Balcony,Hot Water,24 Hours Electricity,Wardrobe,Kitchen Cabinets,Pop Ceiling,Tiled Floor,Chandelier,Dining Area',\n",
       "       'Tiled Floor,Apartment,Pop Ceiling,Wardrobe',\n",
       "       '24 Hours Electricity,Balcony,Kitchen Cabinets,Kitchen Shelf,Pop Ceiling,Tiled Floor',\n",
       "       'Tiled Floor,Kitchen Cabinets,Kitchen Shelf,Balcony,Wardrobe,Dining Area',\n",
       "       'Tiled Floor,Balcony',\n",
       "       'Pre Paid Meter,Balcony,Tiled Floor,Wardrobe,Pop Ceiling',\n",
       "       'Balcony,Dining Area,Hot Water,Kitchen Cabinets,Pop Ceiling,Pre Paid Meter,Tiled Floor,Wardrobe',\n",
       "       'Chandelier,Air Conditioning,Dishwasher,Kitchen Shelf,Pop Ceiling,Kitchen Cabinets,Hot Water,Balcony,Dining Area,Refrigerator,Microwave,Wardrobe,Tiled Floor,Pre Paid Meter',\n",
       "       'Balcony,Dining Area,Pop Ceiling,Hot Water,Wardrobe,Tiled Floor,Chandelier,Kitchen Shelf,Pre Paid Meter,Kitchen Cabinets',\n",
       "       'Hot Water,Dishwasher',\n",
       "       'Kitchen Shelf,Hot Water,Air Conditioning,Kitchen Cabinets,Dishwasher,Wardrobe,Chandelier,Tiled Floor,Dining Area,Pre Paid Meter',\n",
       "       'Chandelier,24 Hours Electricity,Microwave,Hot Water,Dining Area,Tiled Floor,Kitchen Cabinets,Pre Paid Meter,Wardrobe,Air Conditioning,Balcony,Pop Ceiling,Dishwasher,Kitchen Shelf',\n",
       "       'Air Conditioning,Hot Water,Dishwasher,Microwave,Refrigerator',\n",
       "       'Kitchen Cabinets,Chandelier,Pop Ceiling,Pre Paid Meter,Air Conditioning,Microwave,TV,Dining Area,Kitchen Shelf,24 Hours Electricity,Tiled Floor,Dishwasher,Hot Water,Refrigerator,Balcony,Wardrobe',\n",
       "       'Dishwasher,Microwave,Pop Ceiling,Balcony,Hot Water,Pre Paid Meter,Chandelier,Air Conditioning,Kitchen Shelf,Dining Area,Kitchen Cabinets,Wardrobe,Tiled Floor',\n",
       "       'Tiled Floor,Dining Area,Chandelier,Dishwasher,Pop Ceiling,Kitchen Cabinets,Wardrobe,Air Conditioning,24 Hours Electricity,Kitchen Shelf,Microwave,Hot Water,Pre Paid Meter,Balcony,Refrigerator',\n",
       "       'Balcony,Kitchen Shelf,Pre Paid Meter,Pop Ceiling,Wardrobe,Hot Water,Kitchen Cabinets,Microwave,Dishwasher,Refrigerator,Chandelier,Dining Area,Tiled Floor',\n",
       "       'Hot Water,Wardrobe,Dining Area,Pre Paid Meter,Chandelier,Kitchen Cabinets,Kitchen Shelf,Balcony,Air Conditioning,Tiled Floor,Dishwasher,Pop Ceiling',\n",
       "       'Tiled Floor,Wardrobe,Balcony,Dining Area',\n",
       "       'Kitchen Cabinets,Kitchen Shelf,Tiled Floor,Microwave,Pop Ceiling,Chandelier,Pre Paid Meter,Wardrobe,24 Hours Electricity,Hot Water,Refrigerator,Dining Area,Dishwasher,Balcony',\n",
       "       'Chandelier,Apartment,Wardrobe,Microwave,24 Hours Electricity,Pre Paid Meter,Refrigerator,Kitchen Cabinets,Balcony,Air Conditioning,Tiled Floor,Dining Area,Pop Ceiling',\n",
       "       'Pre Paid Meter,Kitchen Cabinets,Pop Ceiling,Wardrobe,Apartment,Hot Water,Balcony,Kitchen Shelf,Tiled Floor,Chandelier,Dining Area,Dishwasher',\n",
       "       'Kitchen Shelf,Pre Paid Meter,Pop Ceiling,Hot Water,Tiled Floor,Balcony,Wardrobe,Chandelier,Apartment,Kitchen Cabinets,Dining Area',\n",
       "       'Kitchen Shelf,Apartment,Chandelier,Pre Paid Meter,Pop Ceiling,Tiled Floor,Balcony,Dining Area,Wardrobe,Hot Water,Kitchen Cabinets',\n",
       "       'Kitchen Cabinets,Dining Area,24 Hours Electricity,Pre Paid Meter,Apartment,Balcony',\n",
       "       'Apartment,Dining Area,24 Hours Electricity,Tiled Floor,Hot Water,Kitchen Shelf,Kitchen Cabinets,Pop Ceiling,Wardrobe,Balcony,Pre Paid Meter,Chandelier',\n",
       "       'Pre Paid Meter,Pop Ceiling,Kitchen Cabinets,24 Hours Electricity,Hot Water,Wardrobe,Tiled Floor,Kitchen Shelf,Balcony,Dining Area',\n",
       "       '24 Hours Electricity,Balcony,Chandelier,Dining Area,Hot Water,Kitchen Cabinets,Kitchen Shelf,Pre Paid Meter',\n",
       "       'Dining Area,Kitchen Cabinets,Pop Ceiling,Hot Water,Tiled Floor,Wardrobe',\n",
       "       'Wardrobe,Chandelier,Kitchen Cabinets,24 Hours Electricity,Pop Ceiling,Tiled Floor,Hot Water,Pre Paid Meter',\n",
       "       'Dining Area,Pop Ceiling,24 Hours Electricity,Kitchen Cabinets,Hot Water,Tiled Floor,Wardrobe,Balcony',\n",
       "       'Hot Water,Tiled Floor,Wardrobe,Apartment,24 Hours Electricity,Balcony,Dining Area,Pop Ceiling,Kitchen Shelf,Chandelier,Pre Paid Meter,Kitchen Cabinets',\n",
       "       'Apartment,Dining Area,Balcony,Pre Paid Meter,Hot Water,Kitchen Shelf,Kitchen Cabinets,Tiled Floor,Wardrobe,Pop Ceiling,24 Hours Electricity',\n",
       "       'Dining Area,Wardrobe,Pop Ceiling,Balcony,Kitchen Cabinets,Hot Water,Dishwasher,Tiled Floor,24 Hours Electricity,Pre Paid Meter',\n",
       "       'Hot Water,Tiled Floor,Chandelier,Kitchen Cabinets,Dining Area,Kitchen Shelf,Balcony,Pre Paid Meter,Pop Ceiling,Wardrobe',\n",
       "       'Hot Water,Dishwasher,Microwave,Dining Area,Balcony,Kitchen Shelf,Wi-Fi,Pre Paid Meter,Kitchen Cabinets,Tiled Floor,Refrigerator,Apartment,Pop Ceiling,Chandelier,Wardrobe,Air Conditioning',\n",
       "       'Hot Water,Chandelier,Dining Area,Tiled Floor,Dishwasher,Pop Ceiling,Pre Paid Meter,Microwave,Wardrobe,Kitchen Cabinets,Kitchen Shelf,Balcony',\n",
       "       'Pre Paid Meter,Dishwasher,Kitchen Shelf,Microwave,Kitchen Cabinets,Tiled Floor,Wardrobe,Balcony,Chandelier,Dining Area,Hot Water,Pop Ceiling',\n",
       "       'Apartment,Kitchen Cabinets,Chandelier,Hot Water,Dining Area,Balcony,Pre Paid Meter,Wardrobe,24 Hours Electricity,Tiled Floor,Dishwasher,Microwave,Air Conditioning,Kitchen Shelf,Pop Ceiling',\n",
       "       'Kitchen Shelf,Tiled Floor,Wardrobe,Pop Ceiling,Balcony,Dining Area,24 Hours Electricity,Hot Water,Chandelier,Kitchen Cabinets',\n",
       "       'Wardrobe,Balcony,Pop Ceiling,Kitchen Shelf,Tiled Floor,Chandelier,TV,Apartment,Dining Area,Kitchen Cabinets,Pre Paid Meter,24 Hours Electricity,Hot Water',\n",
       "       'Apartment,Hot Water,Kitchen Cabinets,Balcony,24 Hours Electricity,Chandelier,Dining Area,Kitchen Shelf,Pre Paid Meter,Pop Ceiling,TV,Dishwasher,Tiled Floor,Wardrobe',\n",
       "       'Chandelier,Dining Area,Pop Ceiling,24 Hours Electricity,Tiled Floor,Wardrobe,Pre Paid Meter,Balcony,Hot Water,Kitchen Cabinets',\n",
       "       'Hot Water,Tiled Floor,Chandelier,Kitchen Shelf,Air Conditioning,Dishwasher,Balcony,Pre Paid Meter,Dining Area,Wardrobe,Pop Ceiling,24 Hours Electricity,Kitchen Cabinets',\n",
       "       'Air Conditioning,Balcony,Wardrobe,24 Hours Electricity,Kitchen Shelf,Kitchen Cabinets,Hot Water,Tiled Floor,Pre Paid Meter,Microwave,Dining Area,Apartment',\n",
       "       'Dining Area,Apartment,Kitchen Cabinets,Pop Ceiling,Kitchen Shelf,24 Hours Electricity,Wardrobe,Pre Paid Meter,Hot Water,Balcony,Microwave',\n",
       "       'Pre Paid Meter,Kitchen Shelf,Refrigerator,Dining Area,Pop Ceiling,24 Hours Electricity,Balcony,Hot Water,Air Conditioning,TV,Tiled Floor,Wardrobe',\n",
       "       'Pre Paid Meter,Wardrobe,Dining Area,Kitchen Shelf,Balcony,24 Hours Electricity,Hot Water,Kitchen Cabinets,Pop Ceiling,Chandelier,Tiled Floor',\n",
       "       'Wardrobe,Hot Water,Apartment,Tiled Floor,Kitchen Shelf,Pop Ceiling,Refrigerator,Chandelier,24 Hours Electricity,Pre Paid Meter',\n",
       "       'Air Conditioning,Hot Water,Pop Ceiling,Refrigerator,Pre Paid Meter,Wardrobe,Kitchen Cabinets,Microwave,Kitchen Shelf,Dining Area,Tiled Floor',\n",
       "       'Dishwasher,Kitchen Shelf,Hot Water,Chandelier,Kitchen Cabinets,Microwave,Wardrobe,Tiled Floor,Balcony,Dining Area,Pop Ceiling,Pre Paid Meter',\n",
       "       'Kitchen Cabinets,Refrigerator,Tiled Floor,Microwave,Pre Paid Meter,Wardrobe,Kitchen Shelf,Apartment,Wi-Fi,Dishwasher,Balcony,Dining Area,Pop Ceiling,Hot Water,Chandelier,Air Conditioning',\n",
       "       'Hot Water,Balcony,Microwave,Dining Area,Wardrobe,Pre Paid Meter,Air Conditioning,Tiled Floor,Pop Ceiling,Kitchen Shelf,24 Hours Electricity,Chandelier,Dishwasher,Refrigerator,Kitchen Cabinets',\n",
       "       'Wardrobe,Dining Area,Kitchen Shelf,Kitchen Cabinets,Pop Ceiling,Pre Paid Meter,Tiled Floor,Chandelier,Air Conditioning,Hot Water',\n",
       "       'Pre Paid Meter,Wardrobe,Hot Water,24 Hours Electricity,Pop Ceiling,Kitchen Cabinets,Balcony,Tiled Floor,TV,Dining Area,Kitchen Shelf',\n",
       "       'Kitchen Cabinets,Wardrobe,Dining Area,Dishwasher,Kitchen Shelf,Balcony,Pop Ceiling,Pre Paid Meter,Tiled Floor,Hot Water,Chandelier',\n",
       "       '24 Hours Electricity,Dining Area,Kitchen Cabinets,Kitchen Shelf,Pre Paid Meter,Hot Water,Pop Ceiling,Apartment,Balcony,Air Conditioning,Microwave',\n",
       "       'Kitchen Shelf,Wardrobe,Dining Area,Hot Water,Chandelier,24 Hours Electricity,Apartment,Microwave,Air Conditioning,Balcony,Pop Ceiling,Pre Paid Meter,Dishwasher,Kitchen Cabinets,Tiled Floor',\n",
       "       '24 Hours Electricity,Pop Ceiling,Pre Paid Meter,Kitchen Cabinets,Tiled Floor,Balcony,Chandelier,Dining Area',\n",
       "       'Air Conditioning,Dishwasher,Kitchen Shelf,Chandelier,Wardrobe,Dining Area,TV,Pop Ceiling,Hot Water,Refrigerator,Tiled Floor,Balcony,Kitchen Cabinets',\n",
       "       'Dishwasher,Kitchen Cabinets,Pop Ceiling,Chandelier,Balcony,Kitchen Shelf,Pre Paid Meter,Wardrobe,Dining Area,Hot Water,Tiled Floor,Microwave',\n",
       "       'Dining Area,24 Hours Electricity,Tiled Floor,Pop Ceiling,Chandelier,Hot Water,Wardrobe,Kitchen Cabinets,Pre Paid Meter,Balcony,Kitchen Shelf,Dishwasher',\n",
       "       'Hot Water,TV,Dishwasher,Refrigerator,Air Conditioning,Wi-Fi',\n",
       "       'Chandelier,Pre Paid Meter,Tiled Floor,Microwave,Wardrobe,Balcony,Pop Ceiling,Dishwasher,Kitchen Cabinets,Apartment,Hot Water,Dining Area,Kitchen Shelf',\n",
       "       '24 Hours Electricity,Pre Paid Meter,Wardrobe,Pop Ceiling,Balcony,Kitchen Cabinets,Dishwasher,Kitchen Shelf,Dining Area,Hot Water,Tiled Floor',\n",
       "       'Pop Ceiling,Wardrobe,Kitchen Cabinets,Tiled Floor,Dining Area,Pre Paid Meter,Kitchen Shelf,Balcony,Hot Water,Microwave',\n",
       "       'Balcony,Hot Water,Dishwasher,Dining Area,Chandelier,Kitchen Cabinets,Kitchen Shelf,Microwave,Pop Ceiling,Pre Paid Meter,Wardrobe',\n",
       "       'Air Conditioning,Balcony,Chandelier,Dining Area,Hot Water,Kitchen Cabinets,Kitchen Shelf,Pop Ceiling,Pre Paid Meter,Tiled Floor,Wardrobe',\n",
       "       'Air Conditioning,Chandelier,Kitchen Cabinets,Kitchen Shelf,Balcony,Dining Area,Dishwasher,Microwave,Pre Paid Meter,Hot Water',\n",
       "       'Kitchen Shelf,Pre Paid Meter,Balcony,Kitchen Cabinets,Tiled Floor,Hot Water,Wardrobe,Microwave,Apartment,Chandelier,Pop Ceiling,Dishwasher,Dining Area',\n",
       "       'Balcony,Dining Area,Chandelier,Microwave,Pop Ceiling,Kitchen Shelf,Tiled Floor,Dishwasher,Hot Water,Pre Paid Meter,Wardrobe,Kitchen Cabinets',\n",
       "       'Dining Area,Kitchen Shelf,Tiled Floor,Dishwasher,Pop Ceiling,Chandelier,Balcony,Wardrobe,24 Hours Electricity',\n",
       "       '24 Hours Electricity,Hot Water,Dining Area,Tiled Floor,Kitchen Cabinets,Wardrobe,Pre Paid Meter,Pop Ceiling',\n",
       "       'Dishwasher,Balcony,Kitchen Shelf,Chandelier,Wardrobe,Pop Ceiling,Hot Water,Microwave,Kitchen Cabinets,Dining Area',\n",
       "       'Pop Ceiling,Hot Water,Wardrobe,Tiled Floor,Balcony,Dining Area,Dishwasher,Pre Paid Meter,Kitchen Shelf,Chandelier,Kitchen Cabinets',\n",
       "       'Balcony,Chandelier,Dining Area,Kitchen Cabinets,Kitchen Shelf,Pop Ceiling,Tiled Floor,Wardrobe',\n",
       "       'Dining Area,Pre Paid Meter,Dishwasher,Refrigerator,Chandelier,Tiled Floor,Wardrobe,24 Hours Electricity,Kitchen Cabinets,Hot Water,Microwave,Kitchen Shelf,Pop Ceiling,Balcony',\n",
       "       'Balcony,Chandelier,Dining Area,Kitchen Cabinets,Microwave,Pre Paid Meter,Wardrobe,Hot Water,Tiled Floor,Kitchen Shelf,Refrigerator,Pop Ceiling,Dishwasher',\n",
       "       'Pop Ceiling,Microwave,TV,Kitchen Shelf,Balcony,Kitchen Cabinets,Dining Area,Hot Water,24 Hours Electricity,Wardrobe,Pre Paid Meter,Tiled Floor,Chandelier,Air Conditioning',\n",
       "       'Hot Water,Tiled Floor,Wardrobe,Pop Ceiling,Kitchen Cabinets,Dishwasher,Refrigerator,Microwave,Wi-Fi,Dining Area,Chandelier,Kitchen Shelf,Apartment,Air Conditioning,Pre Paid Meter,Balcony',\n",
       "       'Chandelier,Apartment,Hot Water,Tiled Floor,Kitchen Cabinets,Wardrobe,Kitchen Shelf,Balcony,Pre Paid Meter,Pop Ceiling',\n",
       "       'Pop Ceiling,Chandelier,Tiled Floor,Wardrobe',\n",
       "       'Kitchen Cabinets,Pre Paid Meter,Hot Water,Tiled Floor,24 Hours Electricity,Pop Ceiling,Wardrobe,Dining Area,Balcony',\n",
       "       'Wardrobe,Dining Area,Pre Paid Meter,Hot Water,Balcony,Kitchen Shelf,Tiled Floor,Kitchen Cabinets,24 Hours Electricity,Chandelier',\n",
       "       'Apartment,Balcony,Chandelier,Dining Area,Dishwasher,Hot Water,Kitchen Cabinets,Kitchen Shelf,Microwave,Pop Ceiling,Tiled Floor,Wardrobe',\n",
       "       'Tiled Floor,Air Conditioning,Pre Paid Meter,Dishwasher,Kitchen Shelf,Balcony,Microwave,Chandelier,Kitchen Cabinets,Wardrobe,Refrigerator,Dining Area,Hot Water,Pop Ceiling',\n",
       "       'Kitchen Cabinets,Apartment,Dishwasher,Kitchen Shelf,Air Conditioning,Hot Water,Dining Area,Microwave,Refrigerator,TV,24 Hours Electricity,Pre Paid Meter,Wardrobe,Chandelier,Balcony,Pop Ceiling,Tiled Floor,Wi-Fi',\n",
       "       'Pre Paid Meter,Kitchen Shelf,Chandelier,Microwave,Air Conditioning,Tiled Floor,Balcony,Dining Area,Wardrobe,Kitchen Cabinets,Pop Ceiling',\n",
       "       'Balcony,Chandelier,Dining Area,Dishwasher,Hot Water,Kitchen Cabinets,Kitchen Shelf,Microwave,Pop Ceiling,Pre Paid Meter,TV,Wardrobe',\n",
       "       'Wardrobe,Pre Paid Meter,Balcony,Tiled Floor,Chandelier,Dishwasher,Dining Area,Kitchen Shelf,Hot Water,Kitchen Cabinets,Pop Ceiling',\n",
       "       'Dishwasher,Hot Water,Microwave,Pop Ceiling,Balcony,Kitchen Shelf,Dining Area,Wardrobe,Chandelier,Kitchen Cabinets,Tiled Floor,Pre Paid Meter',\n",
       "       'Dining Area,Pre Paid Meter,Chandelier,Hot Water,Pop Ceiling,Dishwasher,Apartment,Microwave,Tiled Floor,Balcony,Kitchen Cabinets,Wardrobe,Kitchen Shelf',\n",
       "       'Wardrobe,Tiled Floor,Pre Paid Meter,Pop Ceiling,Kitchen Shelf,Kitchen Cabinets,Hot Water,Chandelier,Balcony',\n",
       "       'Wardrobe,Tiled Floor,Pre Paid Meter,Pop Ceiling,Microwave,Kitchen Shelf,Kitchen Cabinets,Hot Water,Dishwasher,Dining Area,Chandelier,Balcony,Air Conditioning',\n",
       "       'Pop Ceiling,Kitchen Shelf,Balcony,Refrigerator,Wardrobe,Kitchen Cabinets,Dining Area,Hot Water,Pre Paid Meter,Tiled Floor,Dishwasher,Chandelier,Microwave',\n",
       "       'Tiled Floor,Pre Paid Meter,Refrigerator,Kitchen Cabinets,Dishwasher,Balcony,Pop Ceiling,Kitchen Shelf,Chandelier,24 Hours Electricity,Dining Area,Hot Water',\n",
       "       'Microwave,Balcony,24 Hours Electricity,Chandelier,Dining Area',\n",
       "       'Pop Ceiling,Tiled Floor',\n",
       "       'Pre Paid Meter,Tiled Floor,Wardrobe,Pop Ceiling,24 Hours Electricity,Dining Area,Balcony,Hot Water,Dishwasher,Kitchen Cabinets',\n",
       "       'Kitchen Shelf,Tiled Floor,Pop Ceiling,Kitchen Cabinets,Chandelier,Pre Paid Meter,Microwave,Dining Area,Wardrobe,Hot Water,Dishwasher,Balcony',\n",
       "       'Hot Water,Pre Paid Meter,Wardrobe,Balcony,Dining Area,Pop Ceiling,24 Hours Electricity,Tiled Floor',\n",
       "       'Chandelier,Wardrobe,Microwave,Wi-Fi,Dishwasher,Air Conditioning,Dining Area,Tiled Floor,Kitchen Shelf,Pre Paid Meter,24 Hours Electricity,Balcony,Pop Ceiling,Kitchen Cabinets,Apartment,Hot Water',\n",
       "       'Microwave,Balcony,Dining Area,Pre Paid Meter,Air Conditioning,Wi-Fi,Apartment,Chandelier,24 Hours Electricity,Hot Water,Pop Ceiling,Kitchen Cabinets,Tiled Floor,Refrigerator,Kitchen Shelf,Dishwasher,TV,Wardrobe',\n",
       "       'Dining Area,Tiled Floor,Wardrobe,Kitchen Shelf,Microwave,Pop Ceiling,Chandelier,Balcony,Pre Paid Meter,Dishwasher,Hot Water,Kitchen Cabinets',\n",
       "       'Hot Water,Kitchen Cabinets,24 Hours Electricity,Dishwasher,Chandelier,Balcony,Pre Paid Meter,Tiled Floor,Kitchen Shelf,Pop Ceiling,Wardrobe,Dining Area',\n",
       "       'Kitchen Shelf,Pre Paid Meter,24 Hours Electricity,Pop Ceiling,Dishwasher,Hot Water,Tiled Floor,Kitchen Cabinets,Wardrobe,Dining Area',\n",
       "       'Hot Water,Pre Paid Meter,Pop Ceiling,24 Hours Electricity,Balcony,Dishwasher,Tiled Floor,Kitchen Cabinets,Wardrobe,Chandelier,Kitchen Shelf,Dining Area',\n",
       "       'Hot Water,Pop Ceiling,Tiled Floor,Balcony,Pre Paid Meter,Dining Area,Microwave,24 Hours Electricity,Kitchen Cabinets,Kitchen Shelf,Dishwasher,Wardrobe',\n",
       "       'Chandelier,Kitchen Shelf,Kitchen Cabinets,Tiled Floor,Microwave,Apartment,Refrigerator,Pre Paid Meter,Dishwasher,Air Conditioning,Balcony,TV,Wardrobe,Dining Area,Hot Water,Pop Ceiling,24 Hours Electricity',\n",
       "       'Kitchen Shelf,Pre Paid Meter,Refrigerator,Hot Water,Microwave,Pop Ceiling,Balcony,Dishwasher,Kitchen Cabinets,Tiled Floor,Chandelier,Dining Area,Wardrobe',\n",
       "       'Balcony,Chandelier,Dining Area,Dishwasher,Kitchen Cabinets,Kitchen Shelf,Microwave,Pop Ceiling,Pre Paid Meter,Tiled Floor,Wardrobe',\n",
       "       'Dining Area,Hot Water,Kitchen Shelf,Tiled Floor,Wardrobe,Chandelier,Balcony,Kitchen Cabinets,Pop Ceiling,Dishwasher,Pre Paid Meter',\n",
       "       'Balcony,Tiled Floor,Apartment,Dining Area,Hot Water,Kitchen Cabinets,Pre Paid Meter,Pop Ceiling,Wardrobe,Kitchen Shelf',\n",
       "       'Kitchen Shelf,Pre Paid Meter,Wardrobe,Tiled Floor,Kitchen Cabinets,24 Hours Electricity,Dining Area',\n",
       "       'Wardrobe,Refrigerator,Pre Paid Meter,Tiled Floor,Hot Water,Kitchen Cabinets',\n",
       "       '24 Hours Electricity,Balcony,Chandelier,Dining Area,Dishwasher,Hot Water,Kitchen Cabinets,Kitchen Shelf,Pop Ceiling,Pre Paid Meter,Tiled Floor,Wardrobe',\n",
       "       'Dining Area,Pop Ceiling,24 Hours Electricity,Wardrobe,Tiled Floor,Hot Water,Pre Paid Meter,Kitchen Shelf,Balcony,Kitchen Cabinets',\n",
       "       'Tiled Floor,Wardrobe,Pre Paid Meter,24 Hours Electricity,Air Conditioning,Apartment,Balcony',\n",
       "       'Chandelier,Hot Water,Kitchen Cabinets,Air Conditioning,Balcony,Kitchen Shelf,24 Hours Electricity,Pop Ceiling,Pre Paid Meter,Wardrobe,Dining Area,Tiled Floor',\n",
       "       'Wardrobe,Kitchen Shelf,Kitchen Cabinets,Dining Area,Tiled Floor,Dishwasher,Microwave,Balcony,Air Conditioning,Hot Water,Pop Ceiling',\n",
       "       'Balcony,Chandelier,Pre Paid Meter,Kitchen Shelf,Hot Water,Wardrobe,24 Hours Electricity,Pop Ceiling,Dining Area,Kitchen Cabinets,Tiled Floor',\n",
       "       'Balcony,Kitchen Cabinets,Wardrobe,Hot Water,Pre Paid Meter,Kitchen Shelf,Dining Area,Wi-Fi,Tiled Floor,24 Hours Electricity',\n",
       "       '24 Hours Electricity,Pop Ceiling,Wardrobe,Tiled Floor,Pre Paid Meter,Balcony,Hot Water,Dining Area,Kitchen Cabinets',\n",
       "       'Hot Water,24 Hours Electricity,Tiled Floor,Wardrobe,Dining Area,Kitchen Cabinets,Balcony',\n",
       "       'Dishwasher,Dining Area,Pre Paid Meter,Air Conditioning,Pop Ceiling,24 Hours Electricity,Kitchen Shelf,Tiled Floor,Wardrobe,Balcony,Kitchen Cabinets,Hot Water',\n",
       "       'Dining Area,Pop Ceiling,Pre Paid Meter,Chandelier,Kitchen Cabinets,Microwave,Refrigerator,Dishwasher,Hot Water,Balcony,Wardrobe,Kitchen Shelf,Tiled Floor',\n",
       "       'Balcony,Chandelier,Dining Area,Dishwasher,Hot Water,Kitchen Cabinets,Kitchen Shelf,Microwave,Pop Ceiling,Pre Paid Meter,Tiled Floor,Wardrobe',\n",
       "       'Tiled Floor,Kitchen Cabinets,Chandelier,Microwave,Refrigerator,Balcony,Dining Area,Kitchen Shelf,Wardrobe,Dishwasher,Hot Water,Pre Paid Meter,24 Hours Electricity,Pop Ceiling',\n",
       "       '24 Hours Electricity,Dining Area,Kitchen Shelf,Dishwasher,Microwave,Refrigerator,Tiled Floor,Kitchen Cabinets,Pre Paid Meter,Wi-Fi,Pop Ceiling,TV,Air Conditioning,Wardrobe,Balcony,Chandelier,Hot Water',\n",
       "       'Apartment',\n",
       "       'Wi-Fi,Balcony,Hot Water,Wardrobe,Tiled Floor,Dining Area,Kitchen Cabinets,Kitchen Shelf,Pop Ceiling,Pre Paid Meter',\n",
       "       '24 Hours Electricity,Pre Paid Meter,Balcony,Tiled Floor,Wardrobe',\n",
       "       'Chandelier,24 Hours Electricity,Pop Ceiling,Hot Water,Kitchen Cabinets,Kitchen Shelf,Microwave,Refrigerator,Balcony,Dining Area,Pre Paid Meter,Dishwasher,Air Conditioning,Tiled Floor,Wardrobe',\n",
       "       'Hot Water,Chandelier,Dishwasher,Balcony,Pop Ceiling,Pre Paid Meter,Refrigerator,Wardrobe,Kitchen Shelf,Microwave,Kitchen Cabinets,Air Conditioning,24 Hours Electricity,Tiled Floor,Dining Area,Apartment',\n",
       "       'Hot Water,Dining Area,Microwave,Balcony,Chandelier,Kitchen Shelf,24 Hours Electricity,Dishwasher,Kitchen Cabinets,Wardrobe,Pop Ceiling,Pre Paid Meter',\n",
       "       'Kitchen Shelf,Kitchen Cabinets,Air Conditioning,Microwave,Hot Water,24 Hours Electricity,Dishwasher,Chandelier',\n",
       "       '24 Hours Electricity,Balcony,Chandelier,Dining Area,Kitchen Cabinets,Kitchen Shelf,Tiled Floor,Wardrobe',\n",
       "       '24 Hours Electricity,Air Conditioning,Balcony,Chandelier,Dining Area,Dishwasher,Hot Water,Kitchen Cabinets,Kitchen Shelf,Microwave,Pop Ceiling,Pre Paid Meter,Refrigerator,Tiled Floor,Wardrobe',\n",
       "       '24 Hours Electricity,Air Conditioning,Balcony,Chandelier,Dining Area,Hot Water,Kitchen Cabinets,Kitchen Shelf,Microwave,Pop Ceiling,Pre Paid Meter,Refrigerator,Tiled Floor,Wardrobe',\n",
       "       'Wardrobe,Tiled Floor,24 Hours Electricity,Dining Area,Hot Water,Kitchen Cabinets,Kitchen Shelf,Pre Paid Meter,Balcony',\n",
       "       'Balcony,Chandelier,Dining Area,Hot Water,Kitchen Cabinets,Kitchen Shelf,Pop Ceiling,Pre Paid Meter,Tiled Floor,Refrigerator,Wardrobe',\n",
       "       'Balcony,Dishwasher,Microwave,24 Hours Electricity,Hot Water,Kitchen Cabinets,Pre Paid Meter,Pop Ceiling,Dining Area,Kitchen Shelf,Refrigerator,Chandelier',\n",
       "       '24 Hours Electricity,Balcony,Tiled Floor,Dining Area,Wardrobe,Chandelier,Hot Water,Kitchen Cabinets,Pre Paid Meter,Pop Ceiling',\n",
       "       '24 Hours Electricity,Balcony,Chandelier,Dining Area,Hot Water,Kitchen Cabinets,Kitchen Shelf,Pop Ceiling',\n",
       "       'Tiled Floor,Dining Area,Kitchen Shelf,Dishwasher,Hot Water,Chandelier,Pop Ceiling,Apartment,Kitchen Cabinets,Balcony,Pre Paid Meter',\n",
       "       'Air Conditioning,Balcony,Chandelier,Dining Area,Dishwasher,Hot Water,Kitchen Cabinets,Kitchen Shelf,Pop Ceiling,Pre Paid Meter,Wardrobe',\n",
       "       'Kitchen Shelf,Pre Paid Meter,Microwave,Chandelier,Tiled Floor,Balcony,24 Hours Electricity,Hot Water,Kitchen Cabinets,Dining Area,Apartment,Pop Ceiling,Air Conditioning,Wardrobe',\n",
       "       'Air Conditioning,24 Hours Electricity,Balcony,Chandelier,Dining Area,Hot Water,Kitchen Cabinets,Kitchen Shelf,Microwave,Pop Ceiling,Pre Paid Meter,Refrigerator,Tiled Floor,TV,Wardrobe',\n",
       "       'Tiled Floor,Pop Ceiling,Chandelier,Wardrobe,Balcony,Apartment,Pre Paid Meter,Dining Area,Kitchen Cabinets,Kitchen Shelf,Dishwasher,Hot Water',\n",
       "       'Hot Water,Balcony,Tiled Floor,Pop Ceiling,Dishwasher,Dining Area',\n",
       "       'Hot Water,Kitchen Shelf,Pop Ceiling,Tiled Floor,Chandelier,Dishwasher,Balcony,Kitchen Cabinets,Dining Area,Wardrobe',\n",
       "       'Pop Ceiling,Chandelier,Dining Area,Microwave,Balcony,Kitchen Cabinets,Pre Paid Meter,Wardrobe,Hot Water,Dishwasher,Kitchen Shelf,Tiled Floor',\n",
       "       'Pop Ceiling,Kitchen Cabinets,Apartment,Wi-Fi,Hot Water,Chandelier,Tiled Floor,Air Conditioning,Wardrobe,Dishwasher,24 Hours Electricity,Pre Paid Meter,Balcony,Dining Area,Kitchen Shelf,Microwave',\n",
       "       'Pop Ceiling,Dining Area,Pre Paid Meter,Tiled Floor,Wardrobe,Kitchen Cabinets,Kitchen Shelf,Hot Water',\n",
       "       'Balcony,Wardrobe,Tiled Floor,Kitchen Shelf,Dining Area,Kitchen Cabinets,Apartment,Microwave,Pop Ceiling,Refrigerator',\n",
       "       'Pre Paid Meter,Dining Area,Balcony,24 Hours Electricity,Kitchen Cabinets,Tiled Floor,Wardrobe,Dishwasher,Pop Ceiling',\n",
       "       'Pop Ceiling,Tiled Floor,Wardrobe,Kitchen Shelf,Pre Paid Meter,Hot Water,Chandelier,Dining Area,Kitchen Cabinets',\n",
       "       'Chandelier,Tiled Floor,Wardrobe,Apartment,Kitchen Shelf,Kitchen Cabinets,Pre Paid Meter,Hot Water,Dining Area,Pop Ceiling,Balcony,24 Hours Electricity',\n",
       "       'Hot Water,24 Hours Electricity,TV,Air Conditioning,Refrigerator,Microwave',\n",
       "       '24 Hours Electricity,Chandelier,Kitchen Cabinets,Pre Paid Meter,Microwave,Kitchen Shelf,Pop Ceiling,Dining Area,Tiled Floor,Wardrobe,Hot Water,Balcony',\n",
       "       'Air Conditioning,Balcony,Dining Area,Kitchen Cabinets,Microwave,Refrigerator,Tiled Floor,TV,Wardrobe',\n",
       "       'Balcony,Air Conditioning,Dining Area,Apartment,Dishwasher,Kitchen Shelf,Hot Water,Chandelier,Kitchen Cabinets,24 Hours Electricity',\n",
       "       'Hot Water,Kitchen Cabinets,Pop Ceiling,Tiled Floor,Kitchen Shelf,Dining Area,Wardrobe,Balcony',\n",
       "       'Dining Area,Pop Ceiling,Pre Paid Meter,Chandelier,Kitchen Cabinets,Tiled Floor,Dishwasher,Hot Water,Wardrobe,Microwave,Kitchen Shelf,Balcony,Apartment',\n",
       "       'Balcony,Air Conditioning,Chandelier,Dining Area,24 Hours Electricity,Hot Water,Dishwasher',\n",
       "       'Balcony,Chandelier,Dining Area,Hot Water,Kitchen Cabinets,Kitchen Shelf,Pop Ceiling,Pre Paid Meter,Tiled Floor,Wardrobe',\n",
       "       'Hot Water,Microwave',\n",
       "       'Dining Area,Dishwasher,Hot Water,Kitchen Cabinets,Balcony,Kitchen Shelf',\n",
       "       'Hot Water,Dishwasher,Pre Paid Meter,Dining Area,Balcony,Kitchen Shelf,Wardrobe,Kitchen Cabinets,24 Hours Electricity,Tiled Floor,Pop Ceiling',\n",
       "       'Kitchen Cabinets,Pop Ceiling,Chandelier,Kitchen Shelf,Wardrobe,Tiled Floor,Dishwasher,24 Hours Electricity,Pre Paid Meter,Balcony,Dining Area,Hot Water',\n",
       "       'Dishwasher,Chandelier,Kitchen Cabinets,Wardrobe,Microwave,Hot Water,Kitchen Shelf,Pop Ceiling,Dining Area,24 Hours Electricity,Refrigerator,Tiled Floor,TV',\n",
       "       'Refrigerator,Hot Water,24 Hours Electricity,Dishwasher',\n",
       "       'Microwave,Air Conditioning,24 Hours Electricity,Refrigerator',\n",
       "       'Hot Water,Microwave,Wi-Fi,Dishwasher,Air Conditioning,TV',\n",
       "       'Chandelier,Kitchen Cabinets,Pop Ceiling,Kitchen Shelf,Pre Paid Meter,Hot Water,Wardrobe,24 Hours Electricity,Balcony,Dining Area,Tiled Floor',\n",
       "       'Hot Water,24 Hours Electricity,Dishwasher',\n",
       "       'Kitchen Cabinets,Tiled Floor,Kitchen Shelf,Wardrobe,Dining Area,Balcony,Dishwasher',\n",
       "       'Balcony',\n",
       "       'Dishwasher,Dining Area,24 Hours Electricity,Kitchen Shelf,Kitchen Cabinets,Balcony',\n",
       "       'Balcony,Dining Area,Tiled Floor',\n",
       "       'Dining Area,Wardrobe,Pop Ceiling,Kitchen Cabinets,Air Conditioning,Pre Paid Meter,TV,24 Hours Electricity,Balcony,Chandelier,Tiled Floor,Hot Water',\n",
       "       'Wardrobe,Pre Paid Meter,Hot Water,24 Hours Electricity,Kitchen Cabinets,Balcony,Dining Area,Tiled Floor,Pop Ceiling',\n",
       "       'Balcony,Pre Paid Meter,Dining Area,Wardrobe,Pop Ceiling,Tiled Floor,Kitchen Cabinets,TV,Hot Water,24 Hours Electricity',\n",
       "       'Refrigerator,TV,Air Conditioning,Wardrobe,Pop Ceiling,Dining Area,Pre Paid Meter,Microwave,Kitchen Cabinets,24 Hours Electricity,Hot Water,Tiled Floor',\n",
       "       'Apartment,Kitchen Shelf,Kitchen Cabinets,Refrigerator,Pop Ceiling,Tiled Floor,TV,Chandelier,Wi-Fi,24 Hours Electricity,Dining Area,Hot Water,Pre Paid Meter,Balcony,Wardrobe,Air Conditioning,Dishwasher,Microwave',\n",
       "       '24 Hours Electricity,Kitchen Cabinets,Hot Water,Pop Ceiling,Dining Area,Chandelier,Kitchen Shelf,Air Conditioning,Balcony',\n",
       "       'Air Conditioning,Balcony,Chandelier,Dishwasher',\n",
       "       'Kitchen Cabinets,Dishwasher,Kitchen Shelf,24 Hours Electricity,Balcony,Dining Area,Hot Water,Apartment',\n",
       "       'Kitchen Cabinets,Hot Water,Dining Area,Dishwasher,24 Hours Electricity,Apartment,Balcony,Chandelier',\n",
       "       'Chandelier,Wardrobe,Air Conditioning,Hot Water,Dining Area,24 Hours Electricity,Balcony,Pop Ceiling,Tiled Floor,Apartment,Kitchen Cabinets,Kitchen Shelf,Pre Paid Meter',\n",
       "       'Tiled Floor,Dining Area,24 Hours Electricity,Wardrobe,Balcony,Chandelier,Air Conditioning,Dishwasher,Hot Water,Kitchen Shelf,Kitchen Cabinets,Pop Ceiling,Pre Paid Meter,Microwave',\n",
       "       'Balcony,Chandelier,Hot Water,Pre Paid Meter,Apartment,Pop Ceiling,Kitchen Shelf,24 Hours Electricity,Kitchen Cabinets,Dining Area',\n",
       "       'Pop Ceiling,Kitchen Cabinets,Air Conditioning,Dishwasher,Hot Water,Balcony,Tiled Floor,Dining Area,Kitchen Shelf,Chandelier,Wardrobe,Pre Paid Meter',\n",
       "       '24 Hours Electricity,Dining Area',\n",
       "       '24 Hours Electricity,Dining Area,Pop Ceiling,Pre Paid Meter,Kitchen Cabinets,Wardrobe,Tiled Floor,Kitchen Shelf',\n",
       "       'Microwave,Pre Paid Meter,Air Conditioning,Kitchen Shelf,Dining Area,Kitchen Cabinets,Balcony,Pop Ceiling,Dishwasher,Hot Water,Chandelier',\n",
       "       'Apartment,Tiled Floor,Hot Water,Dishwasher,24 Hours Electricity,Dining Area,Kitchen Cabinets,Pop Ceiling,Balcony,Pre Paid Meter,Wardrobe',\n",
       "       'Pre Paid Meter,Air Conditioning,Chandelier,Kitchen Shelf,Refrigerator,Kitchen Cabinets,Dining Area,Tiled Floor,Balcony,Hot Water,Microwave,Dishwasher',\n",
       "       'Kitchen Cabinets,Tiled Floor,Pre Paid Meter,Pop Ceiling,Wardrobe,Hot Water,24 Hours Electricity,Chandelier,Dishwasher,Kitchen Shelf,Dining Area,Balcony',\n",
       "       'Hot Water,Pop Ceiling,Dining Area,Kitchen Cabinets,24 Hours Electricity,Kitchen Shelf,Balcony,Wardrobe,Apartment,Pre Paid Meter',\n",
       "       'Chandelier,Pop Ceiling,Hot Water,Wi-Fi,Balcony,Kitchen Cabinets,Dining Area,Kitchen Shelf,24 Hours Electricity,Air Conditioning,Microwave,Dishwasher',\n",
       "       'Pre Paid Meter,24 Hours Electricity,Apartment,Balcony,Tiled Floor,Kitchen Shelf,Kitchen Cabinets',\n",
       "       'Wardrobe,Balcony,Dishwasher,Pop Ceiling,Hot Water,Kitchen Shelf,Kitchen Cabinets,Pre Paid Meter,Tiled Floor',\n",
       "       'Balcony,Dining Area,Kitchen Shelf,Kitchen Cabinets,Tiled Floor,Wardrobe,24 Hours Electricity,Apartment',\n",
       "       '24 Hours Electricity,Apartment,Balcony,Dining Area,Hot Water,Kitchen Cabinets,Kitchen Shelf,Pop Ceiling,Pre Paid Meter,Tiled Floor,Wardrobe',\n",
       "       'Balcony,Dining Area,Kitchen Cabinets,Tiled Floor,Wardrobe,24 Hours Electricity',\n",
       "       '24 Hours Electricity,Balcony,Pop Ceiling,Hot Water,Kitchen Cabinets,Dining Area,Pre Paid Meter',\n",
       "       '24 Hours Electricity,Air Conditioning,Apartment,Balcony,Chandelier,Dining Area,Dishwasher,Hot Water,Kitchen Cabinets,Kitchen Shelf,Microwave,Pop Ceiling,Refrigerator,Tiled Floor,TV,Wardrobe',\n",
       "       'Pre Paid Meter,Chandelier,Dining Area,Balcony,Kitchen Cabinets,Tiled Floor,24 Hours Electricity,Pop Ceiling,Kitchen Shelf,Wardrobe',\n",
       "       'Chandelier,24 Hours Electricity,Dining Area,Tiled Floor,Pop Ceiling,Balcony,Pre Paid Meter,Wardrobe,Hot Water,Kitchen Cabinets,Kitchen Shelf',\n",
       "       'Hot Water,Wardrobe,Kitchen Shelf,Tiled Floor,Apartment,Kitchen Cabinets,Balcony,Pre Paid Meter,Dining Area,Pop Ceiling,24 Hours Electricity',\n",
       "       'Wardrobe,Pre Paid Meter,Kitchen Shelf,Balcony,Dining Area,Hot Water,Kitchen Cabinets,Pop Ceiling,Wi-Fi,Dishwasher,Tiled Floor',\n",
       "       'Chandelier,Hot Water,Dining Area,Pre Paid Meter,Kitchen Cabinets,Wardrobe,Pop Ceiling,Balcony,Kitchen Shelf,Tiled Floor',\n",
       "       'Hot Water,Pop Ceiling,Balcony,Pre Paid Meter,Kitchen Cabinets,24 Hours Electricity,Tiled Floor,Wardrobe,Dining Area,Chandelier',\n",
       "       'Dining Area,Hot Water,Pop Ceiling,Balcony,Wardrobe,Tiled Floor,Pre Paid Meter,Kitchen Cabinets,24 Hours Electricity',\n",
       "       '24 Hours Electricity,Pre Paid Meter,Kitchen Shelf,Pop Ceiling,Wardrobe,Balcony,Tiled Floor,Hot Water,Dining Area,Kitchen Cabinets',\n",
       "       '24 Hours Electricity,Balcony,Pop Ceiling,Chandelier,Tiled Floor,Pre Paid Meter,Kitchen Cabinets,Dining Area,Wardrobe,Hot Water'],\n",
       "      dtype=object)"
      ]
     },
     "execution_count": 25,
     "metadata": {},
     "output_type": "execute_result"
    }
   ],
   "source": [
    "data.facilities.unique()"
   ]
  },
  {
   "cell_type": "code",
   "execution_count": 26,
   "id": "7d4c5e79",
   "metadata": {},
   "outputs": [],
   "source": [
    "copy = data.copy()"
   ]
  },
  {
   "cell_type": "code",
   "execution_count": 27,
   "id": "a1722dd5",
   "metadata": {},
   "outputs": [],
   "source": [
    "data.facilities.fillna('none', inplace = True)\n",
    "data.facilities = data.facilities.apply(lambda x : x.lower())"
   ]
  },
  {
   "cell_type": "code",
   "execution_count": 28,
   "id": "5c2d810b",
   "metadata": {},
   "outputs": [
    {
     "data": {
      "text/plain": [
       "no     481\n",
       "yes    195\n",
       "Name: dishwasher, dtype: int64"
      ]
     },
     "execution_count": 28,
     "metadata": {},
     "output_type": "execute_result"
    }
   ],
   "source": [
    "data['dishwasher'] = data.facilities.copy()\n",
    "\n",
    "data['dishwasher'].loc[data.facilities.str.contains('dishwasher')] = 'yes'\n",
    "data['dishwasher'].loc[data['dishwasher'] != 'yes'] = 'no'\n",
    "\n",
    "data.dishwasher.value_counts()"
   ]
  },
  {
   "cell_type": "code",
   "execution_count": 29,
   "id": "26890108",
   "metadata": {},
   "outputs": [
    {
     "data": {
      "text/plain": [
       "no     346\n",
       "yes    330\n",
       "Name: prepaid_meter, dtype: int64"
      ]
     },
     "execution_count": 29,
     "metadata": {},
     "output_type": "execute_result"
    }
   ],
   "source": [
    "data['prepaid_meter'] = data.facilities.copy()\n",
    "\n",
    "data['prepaid_meter'].loc[data.facilities.str.contains('pre paid meter')] = 'yes'\n",
    "data['prepaid_meter'].loc[data['prepaid_meter'] != 'yes'] = 'no'\n",
    "\n",
    "data.prepaid_meter.value_counts()"
   ]
  },
  {
   "cell_type": "code",
   "execution_count": 30,
   "id": "cd77dc37",
   "metadata": {},
   "outputs": [
    {
     "data": {
      "text/plain": [
       "yes    351\n",
       "no     325\n",
       "Name: dinning_area, dtype: int64"
      ]
     },
     "execution_count": 30,
     "metadata": {},
     "output_type": "execute_result"
    }
   ],
   "source": [
    "data['dinning_area'] = data.facilities.copy()\n",
    "\n",
    "data['dinning_area'].loc[data.facilities.str.contains('dining area')] = 'yes'\n",
    "data['dinning_area'].loc[data['dinning_area'] != 'yes'] = 'no'\n",
    "\n",
    "data.dinning_area.value_counts()"
   ]
  },
  {
   "cell_type": "code",
   "execution_count": 31,
   "id": "92ef0e9f",
   "metadata": {},
   "outputs": [
    {
     "data": {
      "text/plain": [
       "no     572\n",
       "yes    104\n",
       "Name: air_conditioning, dtype: int64"
      ]
     },
     "execution_count": 31,
     "metadata": {},
     "output_type": "execute_result"
    }
   ],
   "source": [
    "data['air_conditioning'] = data.facilities.copy()\n",
    "\n",
    "data['air_conditioning'].loc[data.facilities.str.contains('air conditioning')] = 'yes'\n",
    "data['air_conditioning'].loc[data['air_conditioning'] != 'yes'] = 'no'\n",
    "\n",
    "data.air_conditioning.value_counts()"
   ]
  },
  {
   "cell_type": "code",
   "execution_count": 32,
   "id": "7ba4ae14",
   "metadata": {},
   "outputs": [
    {
     "data": {
      "text/plain": [
       "no     465\n",
       "yes    211\n",
       "Name: chandelier, dtype: int64"
      ]
     },
     "execution_count": 32,
     "metadata": {},
     "output_type": "execute_result"
    }
   ],
   "source": [
    "data['chandelier'] = data.facilities.copy()\n",
    "\n",
    "data['chandelier'].loc[data.facilities.str.contains('chandelier')] = 'yes'\n",
    "data['chandelier'].loc[data['chandelier'] != 'yes'] = 'no'\n",
    "\n",
    "data.chandelier.value_counts()"
   ]
  },
  {
   "cell_type": "code",
   "execution_count": null,
   "id": "76cdded8",
   "metadata": {},
   "outputs": [],
   "source": []
  },
  {
   "cell_type": "markdown",
   "id": "2747a464",
   "metadata": {},
   "source": [
    "## extracting the state from location column"
   ]
  },
  {
   "cell_type": "code",
   "execution_count": 33,
   "id": "046ea25a",
   "metadata": {},
   "outputs": [
    {
     "data": {
      "text/plain": [
       "lagos          212\n",
       "rivers         108\n",
       "none           104\n",
       "abuja           70\n",
       "imo             68\n",
       "enugu           55\n",
       "anambra         15\n",
       "cross river     10\n",
       "oyo             10\n",
       "kaduna           9\n",
       "ogun             7\n",
       "nasarawa         5\n",
       "bayelsa          1\n",
       "osun             1\n",
       "borno            1\n",
       "Name: state, dtype: int64"
      ]
     },
     "execution_count": 33,
     "metadata": {},
     "output_type": "execute_result"
    }
   ],
   "source": [
    "data['state'] = data.location.apply(lambda x: x.split(',')[0])\n",
    "data.state = data.state.str.lower()\n",
    "data.state.value_counts()"
   ]
  },
  {
   "cell_type": "code",
   "execution_count": 34,
   "id": "2a1f32fe",
   "metadata": {},
   "outputs": [
    {
     "data": {
      "text/plain": [
       "array(['new heaven extension', 'ifite awka', '18 adebayo',\n",
       "       'brown new room and palour self in lekki scheme 2,ajah', 'marian',\n",
       "       'arthur eze avenue awka.', 'abule oko magboro, ogun state',\n",
       "       'alakahia, obio / akpor lga. rivers state',\n",
       "       'nza street , gra enugu', 'avenue', 'phase 1, barnawa',\n",
       "       \"centenary estate's eneka\", 'unity estate along badore road,ajah',\n",
       "       'a room and self contain at fountain area oshogbo',\n",
       "       'located immediatly after awotan junction', 'atimbo',\n",
       "       'satellite town', 'ogui road', 'atimbo off nyangasang',\n",
       "       'akin onitiri cole street,', 'ichida street', 'chevron',\n",
       "       'kosta hostel, close to nnamdi azikiwe university awka',\n",
       "       'ifite awka anambra state', 'off independence layout',\n",
       "       'book foundation ifite awka anambra state', 'aso maraba',\n",
       "       'behind northern noodles company', 'old ikoyi', 'mahuta extension',\n",
       "       'via herbert macaulay', 'jankata kuola', 'elewuro',\n",
       "       'araromi akesan igando', 'bogije road', 'maigero',\n",
       "       'osborne foreshore estate', 'ikota villa',\n",
       "       'sharp room and parlour mini flat at silver land estate s',\n",
       "       'obayan street, akoka, yaba',\n",
       "       'brand new room and parlour mini flat at silverland estate',\n",
       "       'kuola jankata', 'barnawa', 'ajegunle area off asa dam',\n",
       "       'pyakassa lugbe', 'isutiroad',\n",
       "       'beside lapai estate, karu, mararaba,',\n",
       "       'ijolu community, behind school of health, ilese',\n",
       "       'at the back of roban store ind.layout.',\n",
       "       'clean self contain at barnawa high cost kd',\n",
       "       'pump and sell on addo road after blenco supermarket ajah',\n",
       "       'rock stone estate along badore road ajah',\n",
       "       'behind crutech staff quarters', 'palace road', 'abakpa enugu',\n",
       "       'newheaven', 'abijoh', 'tera annex estate', 'kuola',\n",
       "       'osapa london', 'gra by government house, awka',\n",
       "       'no 20 adediwura street oluodo', 'rumuehiewor estate rukpokwu',\n",
       "       'gra phase 8, rupakurushi new layout',\n",
       "       'off pedro, gbagada phase 1 extension,lagos',\n",
       "       'ayeibami ibeju lekki', 'room and parlor', 'awoyaya by new roads',\n",
       "       'divine estate', 'akesan',\n",
       "       'one man village by dunamis church adeyi',\n",
       "       'this property is located at eliozu', 'lekki phase 1',\n",
       "       'oju olobun street, victoria island', 'ago',\n",
       "       'behind polytechnic ibadan',\n",
       "       '18b, segun jegede street, ilupeju- magboro, ,ogun stste', 'fo1',\n",
       "       'f14', 'unity street egan road iyesi otta', 'marian road',\n",
       "       'ibeju lekki aroromi ibeju lekki', 'federal housing estate',\n",
       "       'tansi by spibath orji flyover owerri', 'off ago palace way',\n",
       "       '167 goldie by mount zion', 'lemna', 'tinapa road',\n",
       "       'paliamentary extension', 'akaifa', 'abc bustop',\n",
       "       'off idejo victoria island', 'ago palace way', 'start time',\n",
       "       'alapere ketu lagos', 'alimi street', 'ikot ansa', 'badore',\n",
       "       'eliozu portharcourt', 'y junction okpuno awka,',\n",
       "       'ifite by book foundation. awka', 'nibo',\n",
       "       'okeira bridge bus stop along addo road', 'startimes', 'rumudara',\n",
       "       'umubelle awka.', 'off eliozu portharcourt', 'okpuno awka',\n",
       "       '12, rumuoji', 'ada george road axis', 'grandmate', 'greenfield',\n",
       "       'after blenco supermarket, sangotedo axis, ajah, lekki.',\n",
       "       'olonkola', 'remlek badore road, ajah',\n",
       "       'city college by mtn mask abacha road extension', 'ketu', 'aroma',\n",
       "       'alapere', 'ayobo', 'odili road', 'rumuoji', 'ikosi-ketu',\n",
       "       'freedom estate federal light rukpokwu',\n",
       "       'off sars road/ mandela estate ph rivers state', 'arepo',\n",
       "       'woji by circular road', 'stadium road',\n",
       "       '2 bedroom flat all ensuite at l g a 🌟', 'nkwele awka',\n",
       "       'odili road, portharcourt',\n",
       "       'estate around olokonla, after lbs, ajah.', 'sars road',\n",
       "       'nta axis', 'peter odili', \"sars junction happy bite's\",\n",
       "       'nice 2 bedroom flat all ensuite with running water inside it',\n",
       "       'victoria island', 'pepperoni eneka road',\n",
       "       'rukpokwu/eneka road, eneka',\n",
       "       'mandela estate federal light sars road', 'nkwelle awka',\n",
       "       'nta road by obiri ikwerre junction.', 'shell cooperative eliozu',\n",
       "       'nafdac, kaduna', 'richmond garden gate2, ikate, lekki',\n",
       "       'off idimu ejigbo road near chriatland int sch', 'lakeview',\n",
       "       'akwaka sars road rumuodumaya', 'ada george',\n",
       "       'new road by ada george', 'eliozu eneka road', 'abijo',\n",
       "       'inec road near cosmila okpuno', 'iwofe',\n",
       "       'brand new 2bedroom with federal light in timaya estate', 'eliozu',\n",
       "       'shell cooperative estate', 'okeota ibeshe', 'saduku',\n",
       "       'amuwo apple junction', 'ikate', 'off alao akala expressway',\n",
       "       'behind saga suite new owerri', 'abiola okeke', 'omole phase 1',\n",
       "       'nta apara link road', 'kaduna south', 'by acadia estate osapa',\n",
       "       '8 iyabo osifeso street, abijo', 'lekki county', 'baruwa ipaja',\n",
       "       'guzape', 'thar anex sangotedo', 'newheaven extension',\n",
       "       'auchi sabo power line', 'off 2nd avenue', 'lbs',\n",
       "       '3bedroom apartment for rent', nan,\n",
       "       '3bedroom flat/apartment for rent',\n",
       "       'saga suite, new owerri, imo state', 'even estate badore',\n",
       "       'off freedom way , lekki',\n",
       "       'idowu estate,adewumi adegbesan strt,fit global school ajah',\n",
       "       'sharp 3 bedroom flat at silver land estate sangotedo',\n",
       "       'bada area ayobo.', 'sangoterdo', 'banana island', 'prime way',\n",
       "       'off adeola odeku', 'umuoramma by capital city awka.',\n",
       "       'first mkt ifite', 'aguoye estate by ziks avenue awka',\n",
       "       'ago palace way okota lagos', 'lekki', 'lekki 1, lagos',\n",
       "       'amuwo odofin', 'orchid hotel road', 'liberty estate', 'egbeda',\n",
       "       'community estate ,trans ekulu', 'okuno awka', 'trans nkisi 33',\n",
       "       'book foundation',\n",
       "       'lagos ibadan express way, 3mins from redemption camp', 'new gra',\n",
       "       'commissioners quarters awka.', 'commissioners qtrs awka',\n",
       "       'abraham adesanya', 'off fola osibo lekki phase 1',\n",
       "       'lagos business school', 'asipa ayobo',\n",
       "       'green field estate amuwo odofin', 'old gra ph',\n",
       "       'near government house axis', 'behind uba by ziks avenue awka',\n",
       "       'aguoye estate awka', 'amaenyi awka', 'ikoyi lagos', 'bola hassan',\n",
       "       'secretariet', 'old ifite rd awka', 'jorburg hotel okpuno',\n",
       "       'ogidan', 'ikoyi', 'naze no.1 human race', 'magboro',\n",
       "       'awka anambra state', 'rumuodara area', 'danny a',\n",
       "       'naf harmony estate off g u ake road air force eliozu link rd',\n",
       "       'nkwelle estate', 'awka', 'shell cooperative estate eliozu',\n",
       "       'prof avenue spilbert owerri.', 'new city new owerri',\n",
       "       'located off port harcourt road', 'asokoro extension',\n",
       "       'asokoro abuja', 'efab city estate', 'jahi district',\n",
       "       'durumi by american international school', 'nyanya',\n",
       "       'lokogoma tarred road 🛣️',\n",
       "       'a neat 1bedroom flat in abacha road for rent', 'jahi',\n",
       "       'fafu estate, off turkish nile university junction',\n",
       "       'room and palour for rent in jahi community', 'lokogoma',\n",
       "       'aa1 kuje', 'abdul avenue', 'mcc road',\n",
       "       'behind graceland estate, owerri',\n",
       "       'located in a good neighborhood', 'located around spilbat owerri',\n",
       "       'located at ikenegbu', 'located at amakohia', 'located in owerri',\n",
       "       'naze, owerri imo state', 'ihiagwa', 'big tree nekede',\n",
       "       'located within concord axis',\n",
       "       '21a justice sowemimo stree, asokoro, abuja.',\n",
       "       '7th avenue in gwarinpa', 'maitama', 'off gana street',\n",
       "       'lokogoma district, abuja', '6th avenue gwarinpa estate',\n",
       "       'gwarinpa estate', 'asokoro', 'maitama main', 'lord lugard',\n",
       "       'off ibb boulevard', 'aso villa', 'aso drive maitama', 'abijo gra',\n",
       "       'ikota', 'secuted estate ikota', 'north4th damija',\n",
       "       'golf estate gra', 'centinary city',\n",
       "       'off admiralty road lekki phase 1', 'osapa',\n",
       "       'this property is located within tank junction rumukwurushi',\n",
       "       'wtc estate', 'this property is at eneka road off rumuodara',\n",
       "       'gra enugu close to shoprite',\n",
       "       'nice 5 bedroom duplex for rent at corridor layout',\n",
       "       'ikoyi off banana road', 'dandy street', 'motan street',\n",
       "       'a newly built executiv 5 bedroom semidetached duplex with bq',\n",
       "       'green land estate', 'zoo estate', 'diamond estate gra',\n",
       "       'corridor layout', 'golf estate', 'premier estate otun akute',\n",
       "       'liberty estate independence layout', 'premier layout',\n",
       "       'premier layout (goshen estate axis (', 'lekki, lagos',\n",
       "       'victory park estate, jakande lekki', 'eletu',\n",
       "       'ikoyi off banana rd by olori mojisola', 'wuse2',\n",
       "       'maitama district abuja', 'premium layout back of goshen estate',\n",
       "       'g.r.a', 'zoo estate gra', 'oniru, victoria island', 'gra enugu',\n",
       "       'palm avenue road off okaka estate', 'saintly road',\n",
       "       'sharp 4 bedroom duplex for rent at golf estate', 'old gra',\n",
       "       'newly built 5 bedroom duplex for rent at independence layout',\n",
       "       'by chevron toll gate', 'lekki phase1',\n",
       "       '5bedroom fully detached duplex for rent',\n",
       "       'gudu district after eterna filling station', 'wuse zone 5',\n",
       "       'alcon road', 'harris drive by vgc', 'behind cocaine estate',\n",
       "       'woji', 'maroko bu mobil road', 'peter odili estate', 'ogombo',\n",
       "       'lekki phase one', 'road 12 admiralty way lekki phrase1',\n",
       "       'chevron drive', 'osapa lekki lagos', 'sangotedo',\n",
       "       'off admiralty way, lekki phase 1', 'ikoyi parkview estate',\n",
       "       'off kusenla road', 'port harcourt',\n",
       "       'not far from admiralty way, lekki phase 1.',\n",
       "       'adeniyi jones ikeja', 'inside thomas estate ajah',\n",
       "       'gbenga ademulegun close', 'chevron lekki lagos', 'ologolo',\n",
       "       'chevron drive, lekki', 'off adeola odeoku street',\n",
       "       'no 4 tulip haven estate chevron lekki', 'gwani street',\n",
       "       'rotimi abiru street', 'magodo phase 1', 'orchid road',\n",
       "       'no 2b rycroft street, apapa gra',\n",
       "       'jose maria estate road lekki phase1',\n",
       "       '25 omega clinic ada george',\n",
       "       '73 radio estate nta road port harcourt',\n",
       "       '24 kings view estate g.u ake eliozu',\n",
       "       '31 abacha road gra phase 3',\n",
       "       '4 bedroom duplex in chevron lagos with bq',\n",
       "       'mo 16 schetilina close chevron alternative route chevron',\n",
       "       'ramat , ogudu', '31 location nta road', 'utako',\n",
       "       'federal housing estate new site',\n",
       "       'nza street independence layout', 'elegushi', 'ikoyi, lagos',\n",
       "       'eliozu-eneka road', 'emmannemeka street awka',\n",
       "       'this property is within big treat by rukpokwu',\n",
       "       'genesis estate woji', 'mercyland off nta rd', 'kofo abayomi',\n",
       "       'lekki phase 1 lagos', 'bera estate chevron lekki lagos',\n",
       "       'rev ogunbiyi', 'ikate lekki phase 1',\n",
       "       '4 fon street eliada layout',\n",
       "       '4 bedroom flat at new heaven good for commercial business',\n",
       "       'brand new 3bedroom duplex with federal light in gra',\n",
       "       'naf harmony estate eliozu portharcourt',\n",
       "       'newly built 4bedrooms semi detached duplex in opic isheri f',\n",
       "       'exotic 4bedroom duplex in eagle land off agip', 'ahuoda estate',\n",
       "       'located in new owerri', 'located at new owerri',\n",
       "       'located at concord axis', 'located in new owerri, concord axis.',\n",
       "       'osun cresent', 'no.34 osun cresent, maitama abuja',\n",
       "       'brains n hammer galadimawa round about', 'by vio',\n",
       "       'okonjo iwuala', 'jahi by gilmore', 'urban shelter estate',\n",
       "       'kanma estate, behind penthouse estate, lugbe accross abujafc',\n",
       "       '1st avenue gwarinpa', '2nd avenue gwarinpa',\n",
       "       'river park estate, airport road abuja.', 'lekki lagos',\n",
       "       'orchid road by. 2nd toll gate lekki lagos',\n",
       "       'banana island ikoyi, lagos', 'works road',\n",
       "       'by novara shoprite lekki ajah lagos', '4a, c close, ogun state',\n",
       "       'estate around crown estate, sangotedo axis, ajah, lekki.',\n",
       "       'akala express', 'gra', 'near lbs, ajah lekki',\n",
       "       'after lbs, olokonla, ajah axis, lekki.',\n",
       "       'guzape close to coza church',\n",
       "       'lake view estate, (adjacent vgc),ajah, lagos', 'eleganza',\n",
       "       'ogunlaja drive , majek area', 'trans ekulu', 'parkview ikoyi',\n",
       "       'fidelity estate', 'imalete estate opp beach wood estate',\n",
       "       'the rock drive.', 'magodo gra 2 shangisha',\n",
       "       'muiz banire street, ikeja gra', 'ikota gra, behind mega chicken',\n",
       "       ',fiwakesi street agbede agric ikorodu', 'jabi',\n",
       "       'ikota gra estate', 'unity estate, badore, ajah',\n",
       "       'awoyaya ajah by new roads', 'elegushi royal estate ilasan.',\n",
       "       'new heaven', '106', 'off nta', 'gra ph',\n",
       "       'shell cooperative estate off eliozu',\n",
       "       'odili road trans amadi in port-harcourt',\n",
       "       'located at egbeada housing estate',\n",
       "       'located within spilbat axis, owerri', 'located at futo main',\n",
       "       'behind concord hotel new owerri', 'federal housing owerri',\n",
       "       'concord axis', 'federal housing umuguma', '#name?',\n",
       "       'katampe main', 'galadimawa', 'before coza church',\n",
       "       'behind gaat school, gudu', \"before american int'l school\",\n",
       "       'thinkers corner, behind ac drugs', 'thinkers corner',\n",
       "       'goshen estate', 'new layout', 'independence layout',\n",
       "       '2 bedroom flat', 'trans ekulu opposite cbn quaters',\n",
       "       'golf estate enugu', 'golf extension', 'new haven ext',\n",
       "       'mandela estate sars road', 'akwaka rumuodumaya potharcourt',\n",
       "       'rumuibekwe estate ph', 'alakahia', 'alakahia / choba',\n",
       "       'this property is opposite naf base eliozu', 'woji estate',\n",
       "       'hill view estate off ph/aba expressway rumuogba phc',\n",
       "       'naf harmony estate', 'phase ii',\n",
       "       'this property is located off rumuodara junction',\n",
       "       'this property is at off rumuodara junction',\n",
       "       'this property is located at nkpogu within lng',\n",
       "       'this property is located at mkpogu transamadi',\n",
       "       'this property is within tank junction east west road'],\n",
       "      dtype=object)"
      ]
     },
     "execution_count": 34,
     "metadata": {},
     "output_type": "execute_result"
    }
   ],
   "source": [
    "data['property address'] = data['property address'].str.lower()\n",
    "data['property address'].unique()"
   ]
  },
  {
   "cell_type": "code",
   "execution_count": 35,
   "id": "8aa9db27",
   "metadata": {},
   "outputs": [],
   "source": [
    "index = data.location.loc[data.location =='none'].index"
   ]
  },
  {
   "cell_type": "code",
   "execution_count": 36,
   "id": "aca6e340",
   "metadata": {},
   "outputs": [],
   "source": [
    "for i in index:\n",
    "    data.location.iloc[i] = data['property address'][i]"
   ]
  },
  {
   "cell_type": "code",
   "execution_count": 37,
   "id": "7a77810e",
   "metadata": {
    "scrolled": true
   },
   "outputs": [
    {
     "data": {
      "text/plain": [
       "4                                        marian\n",
       "5                       arthur eze avenue awka.\n",
       "7      alakahia, obio / akpor lga. rivers state\n",
       "8                                    ifite awka\n",
       "9                        nza street , gra enugu\n",
       "                         ...                   \n",
       "540                     4a, c close, ogun state\n",
       "543                               akala express\n",
       "550                 ogunlaja drive , majek area\n",
       "554        imalete estate opp beach wood estate\n",
       "572                                         106\n",
       "Name: location, Length: 104, dtype: object"
      ]
     },
     "execution_count": 37,
     "metadata": {},
     "output_type": "execute_result"
    }
   ],
   "source": [
    "data.location[index]"
   ]
  },
  {
   "cell_type": "code",
   "execution_count": 38,
   "id": "5d0d9dee",
   "metadata": {},
   "outputs": [],
   "source": [
    "data['location'].fillna('none', inplace = True) ##to fill the null values present in the location column"
   ]
  },
  {
   "cell_type": "code",
   "execution_count": 39,
   "id": "08e2db2a",
   "metadata": {
    "scrolled": true
   },
   "outputs": [
    {
     "name": "stdout",
     "output_type": "stream",
     "text": [
      "7 rivers\n",
      "9 enugu\n",
      "25 anambra\n",
      "27 anambra\n",
      "65 rivers\n",
      "90 ogun\n",
      "139 rivers\n",
      "274 anambra\n",
      "528 abuja\n",
      "534 abuja\n",
      "540 ogun\n",
      "550 ogun\n"
     ]
    }
   ],
   "source": [
    "data.location = data.location.str.lower()\n",
    "data.state= data.state.str.lower() # just to make sure they are all in the same letter case\n",
    "states = data.state.unique()\n",
    "for i in index:\n",
    "    for state in states:\n",
    "        if re.search(state, data.location.iloc[i]):\n",
    "            data.state.iloc[i] = state\n",
    "            print(i, state)"
   ]
  },
  {
   "cell_type": "code",
   "execution_count": 40,
   "id": "2eaa5b99",
   "metadata": {
    "scrolled": true
   },
   "outputs": [
    {
     "data": {
      "text/plain": [
       "lagos          212\n",
       "rivers         111\n",
       "none            92\n",
       "abuja           72\n",
       "imo             68\n",
       "enugu           56\n",
       "anambra         18\n",
       "ogun            10\n",
       "cross river     10\n",
       "oyo             10\n",
       "kaduna           9\n",
       "nasarawa         5\n",
       "bayelsa          1\n",
       "osun             1\n",
       "borno            1\n",
       "Name: state, dtype: int64"
      ]
     },
     "execution_count": 40,
     "metadata": {},
     "output_type": "execute_result"
    }
   ],
   "source": [
    "data.state.value_counts()"
   ]
  },
  {
   "cell_type": "code",
   "execution_count": 41,
   "id": "8dcac15d",
   "metadata": {
    "scrolled": true
   },
   "outputs": [],
   "source": [
    "index = data.state.loc[data.state == 'none'].index"
   ]
  },
  {
   "cell_type": "code",
   "execution_count": null,
   "id": "60841188",
   "metadata": {},
   "outputs": [],
   "source": []
  },
  {
   "cell_type": "code",
   "execution_count": 42,
   "id": "5fec51f2",
   "metadata": {},
   "outputs": [],
   "source": [
    "## soe property address still has some hidden address we can work with, so i am extracting it by state\n",
    "\n",
    "lagos = ['ajah', 'lekki','marian', 'satellite town','igando']\n",
    "abuja = ['kuje', 'lokogoma', 'gudu', 'lugbe']\n",
    "rivers = ['port harcourt','odili road']\n",
    "imo = ['ihiagwa']\n",
    "oyo = ['ibadan']\n",
    "edo = ['auchi']\n",
    "anambra = ['awka']\n"
   ]
  },
  {
   "cell_type": "code",
   "execution_count": 43,
   "id": "40c9475c",
   "metadata": {},
   "outputs": [],
   "source": [
    "## i'll be looping throug every state to change them all at once\n",
    "rare_places = [lagos,abuja,rivers,imo,oyo,edo,anambra]\n",
    "cities = ['lagos','abuja','rivers','imo','oyo','edo','anambra']\n",
    "count = 0\n",
    "for rare in rare_places:\n",
    "    for i in index:\n",
    "        for place in rare:\n",
    "            if re.search(place, data.location.iloc[i]):\n",
    "                data.state.iloc[i] = cities[count]\n",
    "                break\n",
    "    count += 1"
   ]
  },
  {
   "cell_type": "code",
   "execution_count": 44,
   "id": "ddc3c082",
   "metadata": {},
   "outputs": [
    {
     "data": {
      "text/plain": [
       "lagos          218\n",
       "rivers         113\n",
       "abuja           75\n",
       "imo             69\n",
       "enugu           56\n",
       "none            55\n",
       "anambra         41\n",
       "oyo             11\n",
       "ogun            10\n",
       "cross river     10\n",
       "kaduna           9\n",
       "nasarawa         5\n",
       "edo              1\n",
       "bayelsa          1\n",
       "osun             1\n",
       "borno            1\n",
       "Name: state, dtype: int64"
      ]
     },
     "execution_count": 44,
     "metadata": {},
     "output_type": "execute_result"
    }
   ],
   "source": [
    "data.state.value_counts()"
   ]
  },
  {
   "cell_type": "code",
   "execution_count": 45,
   "id": "6e78060b",
   "metadata": {},
   "outputs": [
    {
     "data": {
      "text/plain": [
       "state    rooms\n",
       "anambra  3        18\n",
       "         2        12\n",
       "         1        10\n",
       "         4         1\n",
       "Name: rooms, dtype: int64"
      ]
     },
     "execution_count": 45,
     "metadata": {},
     "output_type": "execute_result"
    }
   ],
   "source": [
    "data.loc[data.state == 'anambra'].groupby('state')['rooms'].value_counts()"
   ]
  },
  {
   "cell_type": "code",
   "execution_count": 46,
   "id": "81079f1a",
   "metadata": {
    "scrolled": true
   },
   "outputs": [
    {
     "data": {
      "text/plain": [
       "state  rooms\n",
       "abuja  4        24\n",
       "       5        24\n",
       "       1        12\n",
       "       3        12\n",
       "       7         2\n",
       "       6         1\n",
       "Name: rooms, dtype: int64"
      ]
     },
     "execution_count": 46,
     "metadata": {},
     "output_type": "execute_result"
    }
   ],
   "source": [
    "data.loc[data.state == 'abuja'].groupby('state')['rooms'].value_counts()"
   ]
  },
  {
   "cell_type": "code",
   "execution_count": 47,
   "id": "0f27d986",
   "metadata": {},
   "outputs": [
    {
     "data": {
      "text/plain": [
       "state   rooms\n",
       "rivers  4        47\n",
       "        2        21\n",
       "        5        19\n",
       "        1        15\n",
       "        3        11\n",
       "Name: rooms, dtype: int64"
      ]
     },
     "execution_count": 47,
     "metadata": {},
     "output_type": "execute_result"
    }
   ],
   "source": [
    "data.loc[data.state == 'rivers'].groupby('state')['rooms'].value_counts()"
   ]
  },
  {
   "cell_type": "code",
   "execution_count": 48,
   "id": "1faf9cc0",
   "metadata": {
    "scrolled": true
   },
   "outputs": [
    {
     "data": {
      "text/plain": [
       "array(['Good is good', 'Ifite Awka', 'ifedayo',\n",
       "       'LEKKI SCHEME 2,ABRAHAM ADESANYA AJAH', 'smart property', nan,\n",
       "       'Harmony Estate', 'Awka Anambra State', 'Phase 1',\n",
       "       'Centenary gardens Estate Eneka', 'UNITY ESTATE',\n",
       "       'FOUNTAIN ROAD OSHOGBO', 'Dtb', 'Lekki phase one', 'Ichida street',\n",
       "       'Chevyview', 'Kosta Hostel ( Kruz Enterprise)', 'Golden shelters',\n",
       "       'Godfelic Lodge ( Kruz Enterprise)', '.', 'Tasu villa',\n",
       "       'oil village', 'Jankata Sreet', 'Akobo',\n",
       "       'Osborne Foreshore Estate', 'ikota villa',\n",
       "       'Silver Land Estate Sangotedo Ajah',\n",
       "       'Silver land Estate Sangotedo', 'Jankata road', 'New estate',\n",
       "       'ajegunle', 'Beside Lapai estate', 'His Grace Hostel', 'Barnawa',\n",
       "       'PUMP AND SELL', 'ROCK STONE ESTATE', 'Destiny Homes',\n",
       "       'tera annex Estate', 'jankata street', 'osapa london',\n",
       "       'GRA , Awka', 'Valley view Estate', 'Rukpokwu Estate',\n",
       "       'Gra phase 8', 'Ayeibami ibeju lekki', 'oluwa off GRA abijo',\n",
       "       'Awoyaya by New roads', 'Divine estate', 'akesan',\n",
       "       'One man village Dunamis Adeyi Junction', 'Oju Olobun',\n",
       "       'Extension 1 Estate', 'unity estate', 'federal housing',\n",
       "       'Jeuidco Homes', 'Rotimi ameachi avenue', 'ABC estate', 'Idejo',\n",
       "       'star time estate', 'Startime', 'Peace Estate', 'seaside estate',\n",
       "       'shell cooperative Estate area', 'ifite Awka',\n",
       "       'Good Home Estate, Okeira Bridge', 'Startimes', 'umubelle axis',\n",
       "       'Okpuno Awka', 'Eneka', 'Grandmate', 'Avira Estate',\n",
       "       'Royal PalmWill Estate', 'Mtn mask off city college', 'Aroma',\n",
       "       'Abiola farm Estate', 'Ikosi-Ketu', 'Freedom Estate Federal light',\n",
       "       'off SARS road/ Mandela estate ph Rivers State', 'praise',\n",
       "       'Circular Road Woji by Peter Odili Ext', 'Stadium Road PH',\n",
       "       'After L G A', 'OKPUNO AWKA', 'nkwele awka', 'royal Avenue Estate',\n",
       "       'praise hill estate', 'Mandela Estate Federal light',\n",
       "       'off NTA road o roaddarawelre', 'Rumuehiewor Estate Rukpokwu',\n",
       "       'Close to Speaker house', 'Victoria Island', 'Diamond Estate',\n",
       "       'Neighbourhood', 'Mandela Estate Federal light SARS road',\n",
       "       'Shell Cooperative Estate Eliozu', 'Nafdac',\n",
       "       'Richmond garden gate2', 'lakeview estate',\n",
       "       \"Fyne Face Igwe Estate's Rumuodumaya\", 'victory Villa estate',\n",
       "       'okpuno', 'Eliozu Port Harcourt', 'Ajose okeota', 'Vera', 'olive',\n",
       "       'ikate', 'Oluyole Area off Ring Road through Mobil',\n",
       "       'medina estate', 'osapa', 'Omole Phase 1', 'casia estate',\n",
       "       'Lekki County', 'Baruwa Ipaja', 'Guzape', 'Thar Anex',\n",
       "       'newheaven extension', 'no name', 'Banana Island', 'LBS',\n",
       "       'Even estate', 'off freedom way Lekki', 'idowu estate',\n",
       "       'Silver Land Estate Sangotedo', 'around blanco', 'Lekki Scheme 2',\n",
       "       'peace estate', 'lekki', 'Off Admitlraty way',\n",
       "       'orchid road not far inside', 'Liberty', 'JKC Real Estate Pro',\n",
       "       'nil', 'Opic - New Makun City', 'qtrs',\n",
       "       'gated estate lekki phase 1', 'Green Field Estate',\n",
       "       'Near Government house axis', 'Banana island estate ikoyi',\n",
       "       'bola hassan', 'Secretariet', 'Stadium Road', 'Joburge axis',\n",
       "       '1004 Estate', 'private estate',\n",
       "       '1-2-3 bed room flat, shop,Office space, Lands and properties',\n",
       "       'Ikoyi', 'egbelu area behind delking transport company.',\n",
       "       'Blue Sky', 'NAF Harmony Estate', 'nkwelle axis', 'AWKA SOUTH',\n",
       "       'asokoro Extension', 'efab city estate', 'jahi 2',\n",
       "       'durumi district', 'unity', 'Pen city estate', 'abacha Road',\n",
       "       'Fafu Reliable Homes Estate', 'Goodluck estate',\n",
       "       'SuperView Estate', 'Gwarinpa Estate', 'Villa', 'Aso Drive.',\n",
       "       'ALL 3 units TERRACES', 'off the express',\n",
       "       'Serene and secured estate', 'Damija', 'golf estate gra',\n",
       "       'Centinary City, Enugu', 'wtc estate', 'old gra Enugu by ShopRite',\n",
       "       'CORRIDOR LAYOUT', 'Bera Estate', 'ikoyi off banana road',\n",
       "       'Megamound', 'LadyBird', 'ADENIYI JONES', 'Greenland Estate',\n",
       "       'diamond estate', 'independence layout by corridor', 'golf estate',\n",
       "       'premier estate', 'liberty estate independence layout',\n",
       "       'Premier Layout', 'premier layout', 'Victory Park', 'eletu',\n",
       "       'ikoyi by olori mojisola off bananard', 'G.R.A', 'zoo estate gra',\n",
       "       'Oniru Estate', 'PALM AVENUE', 'Chevy Veiw', 'Golf estate',\n",
       "       'Oniru', 'Independence layout', 'lekki phase1', 'Harris Drive',\n",
       "       'Chevryview Estate', 'Eletu', 'Peter Odili Estate', 'ogombo',\n",
       "       'lekki phrase1', 'chevy view estate', 'Goodnews Estate',\n",
       "       'ikoyi parkview estate', 'Ikate', 'Shell Cooperative', 'ikoyi',\n",
       "       'Thomas estate', 'chevron drive', 'Chevy View Estate',\n",
       "       'ologolo estate', 'Northern foreshore estate', 'adeola odeoku',\n",
       "       'Tulip Haven', 'Victoria island', 'Unity Estate', 'Lagelu Estate',\n",
       "       'new heaven extension', 'royal creek estate', 'magodo phase 1',\n",
       "       'Victoria crest estate', 'Jose Maria lekki phase1', 'With Gym',\n",
       "       'Omega clinic Ada George', 'Radio estate', 'Kings view estate',\n",
       "       'Abacha road Gra phase 3', 'Ocean Parade', 'Chevron Lagos',\n",
       "       'OGudu GRA', 'Location Nta road', 'Temple road ikoyi', 'utako',\n",
       "       'Private property', 'nza street', 'wtc', 'Big treat estate',\n",
       "       'Francis Estate', 'De Home Vessels', 'Terrace duplex',\n",
       "       'secured estate', 'ikate Lekki', 'Cocaine Estate', 'New heaven',\n",
       "       'Onne GRA', 'cityestateproperty.com.ng', 'opic estate',\n",
       "       'Banana island Eatate', 'Eagle Land Estate', 'Ahuoda',\n",
       "       'Ancestors Court', 'richfield', 'jahi by Gilmore',\n",
       "       'urban shelter estate lokogoma', 'Kanma Estate',\n",
       "       'buene vista Estate', 'Emeka Anyaoku Estate', 'On monastery road',\n",
       "       'Goodwill Estate, Mapara via Magboro', 'Olusetan, Elebu', 'GRA',\n",
       "       'Estate.', 'Lake View Estate', 'bashorun estate',\n",
       "       \"winner's estate\", 'park view ikoy', 'Beach Wood Estate',\n",
       "       'By IMAX CINEMA', 'Magodo GRA 2', 'Ikota GRA', 'FEM apartment',\n",
       "       'Ikota GRA Estate', 'Awoyaya ajah by New roads',\n",
       "       'Naf base Harmony estate', 'Back of NTA Port Harcourt',\n",
       "       'bomari Estate', 'mercury icon home', 'galadimawa', 'Galadimawa',\n",
       "       'guzape', 'hallmark estate', 'Thinkers corner', 'Goshen estate',\n",
       "       'Wtc estate', 'independence layout', 'thinkers corner',\n",
       "       'opposite CBN', 'golf extension', 'Mandela Estate SARS road',\n",
       "       'Akwaka Rumuodumaya potharcourt', 'Ada George',\n",
       "       'Rumuibekwe Estate PH', 'ROYAL ALBERT SERVICED APARTMENT',\n",
       "       'ROYAL ALBERT SERVICED APARTMENTS', 'woji estate',\n",
       "       'Hill View Estate', 'Rivtaf Golf Estate'], dtype=object)"
      ]
     },
     "execution_count": 48,
     "metadata": {},
     "output_type": "execute_result"
    }
   ],
   "source": [
    "## we need to create a column for house in an estate\n",
    "data['estate name'].unique()"
   ]
  },
  {
   "cell_type": "code",
   "execution_count": 49,
   "id": "82803f68",
   "metadata": {},
   "outputs": [
    {
     "data": {
      "text/plain": [
       "no     545\n",
       "yes    131\n",
       "Name: estate, dtype: int64"
      ]
     },
     "execution_count": 49,
     "metadata": {},
     "output_type": "execute_result"
    }
   ],
   "source": [
    "## due to some misleading names in the estate name column, i'll just pick those names that contain 'ESTATE' keyword\n",
    "data['estate name'].fillna('unknown', inplace = True)\n",
    "data['estate name'] = data['estate name'].str.lower()\n",
    "data['estate'] = data['estate name'].copy()\n",
    "data['estate'].loc[data['estate name'].str.contains('estate')] = 'yes'\n",
    "data['estate'].loc[data['estate'] != 'yes'] = 'no'\n",
    "data.estate.value_counts()"
   ]
  },
  {
   "cell_type": "code",
   "execution_count": 50,
   "id": "e04b664e",
   "metadata": {},
   "outputs": [
    {
     "data": {
      "text/plain": [
       "<AxesSubplot:xlabel='estate'>"
      ]
     },
     "execution_count": 50,
     "metadata": {},
     "output_type": "execute_result"
    },
    {
     "data": {
      "image/png": "[encoded data removed]",
      "text/plain": [
       "<Figure size 432x288 with 1 Axes>"
      ]
     },
     "metadata": {
      "needs_background": "light"
     },
     "output_type": "display_data"
    }
   ],
   "source": [
    "data.groupby('estate')['price'].median().plot(kind = 'bar')"
   ]
  },
  {
   "cell_type": "code",
   "execution_count": 51,
   "id": "072d99ba",
   "metadata": {},
   "outputs": [
    {
     "data": {
      "text/plain": [
       "furnished                  654\n",
       "housing quality            638\n",
       "parties                    633\n",
       "smoking                    633\n",
       "new property               627\n",
       "broker fee                 624\n",
       "parking space              585\n",
       "total rooms                582\n",
       "caution fee                569\n",
       "service charge             542\n",
       "legal and agreement fee    530\n",
       "agency fee                 517\n",
       "property size              379\n",
       "pets                       316\n",
       "property address            61\n",
       "area                         0\n",
       "chandelier                   0\n",
       "dinning_area                 0\n",
       "dishwasher                   0\n",
       "state                        0\n",
       "prepaid_meter                0\n",
       "air_conditioning             0\n",
       "index                        0\n",
       "price                        0\n",
       "facilities                   0\n",
       "furnishing                   0\n",
       "condition                    0\n",
       "estate name                  0\n",
       "rent_duration                0\n",
       "bathrooms                    0\n",
       "rooms                        0\n",
       "house_type                   0\n",
       "location                     0\n",
       "estate                       0\n",
       "dtype: int64"
      ]
     },
     "execution_count": 51,
     "metadata": {},
     "output_type": "execute_result"
    }
   ],
   "source": [
    "## bringing out columns that contain null values\n",
    "data.isnull().sum().sort_values(ascending = False)"
   ]
  },
  {
   "cell_type": "code",
   "execution_count": 52,
   "id": "121c7ad8",
   "metadata": {},
   "outputs": [
    {
     "name": "stdout",
     "output_type": "stream",
     "text": [
      "19\n"
     ]
    }
   ],
   "source": [
    "## counting how many columns that dosen't have null values\n",
    "count = 0\n",
    "for i in data.columns:\n",
    "    if data[i].isnull().any() == False:\n",
    "        count += 1\n",
    "    else:\n",
    "        pass\n",
    "print(count)"
   ]
  },
  {
   "cell_type": "code",
   "execution_count": 53,
   "id": "a4d1d2cc",
   "metadata": {},
   "outputs": [
    {
     "name": "stdout",
     "output_type": "stream",
     "text": [
      "Index(['price', 'location', 'house_type', 'rooms', 'bathrooms',\n",
      "       'rent_duration', 'estate name', 'condition', 'furnishing', 'facilities',\n",
      "       'area', 'dishwasher', 'prepaid_meter', 'dinning_area',\n",
      "       'air_conditioning', 'chandelier', 'state', 'estate'],\n",
      "      dtype='object')\n"
     ]
    }
   ],
   "source": [
    "## dropping all the columns i wont be making use of again\n",
    "for column in data.columns:\n",
    "    if data[column].isnull().any():\n",
    "        data.drop([column], axis =1, inplace = True)\n",
    "\n",
    "data.drop(['index'],axis = 1, inplace =True)\n",
    "print(data.columns)"
   ]
  },
  {
   "cell_type": "code",
   "execution_count": null,
   "id": "6106fae2",
   "metadata": {},
   "outputs": [],
   "source": []
  },
  {
   "cell_type": "code",
   "execution_count": null,
   "id": "7d79ce2a",
   "metadata": {},
   "outputs": [],
   "source": []
  },
  {
   "cell_type": "code",
   "execution_count": null,
   "id": "89fbc7c9",
   "metadata": {},
   "outputs": [],
   "source": []
  },
  {
   "cell_type": "code",
   "execution_count": 54,
   "id": "d0cb9b82",
   "metadata": {},
   "outputs": [],
   "source": [
    "data.to_csv('C:/Users/EGBUNA/Jiji_web_data/jiji_house_data(cleaned).csv',index = False) # saving the data to file"
   ]
  },
  {
   "cell_type": "code",
   "execution_count": 55,
   "id": "332ad886",
   "metadata": {},
   "outputs": [
    {
     "data": {
      "text/plain": [
       "Index(['price', 'location', 'house_type', 'rooms', 'bathrooms',\n",
       "       'rent_duration', 'estate name', 'condition', 'furnishing', 'facilities',\n",
       "       'area', 'dishwasher', 'prepaid_meter', 'dinning_area',\n",
       "       'air_conditioning', 'chandelier', 'state', 'estate'],\n",
       "      dtype='object')"
      ]
     },
     "execution_count": 55,
     "metadata": {},
     "output_type": "execute_result"
    }
   ],
   "source": [
    "data.columns"
   ]
  },
  {
   "cell_type": "code",
   "execution_count": null,
   "id": "87b22b68",
   "metadata": {},
   "outputs": [],
   "source": []
  },
  {
   "cell_type": "code",
   "execution_count": null,
   "id": "bd3667c5",
   "metadata": {},
   "outputs": [],
   "source": []
  },
  {
   "cell_type": "code",
   "execution_count": null,
   "id": "0372312b",
   "metadata": {},
   "outputs": [],
   "source": []
  },
  {
   "cell_type": "code",
   "execution_count": 56,
   "id": "35988569",
   "metadata": {},
   "outputs": [],
   "source": [
    "#data = pd.read_csv('C:/Users/EGBUNA/Jiji_web_data/jiji_house_data.csv') # reading the data into a variable"
   ]
  },
  {
   "cell_type": "code",
   "execution_count": 57,
   "id": "1cf524c8",
   "metadata": {},
   "outputs": [
    {
     "data": {
      "text/plain": [
       "\"\\ntrain = pd.concat([data1, data2, data3, data4, data5, data6, data7,data8, data9, data10, data11, data12, data13], axis = 0)\\ntrain.reset_index(drop = True)\\ntrain.columns = train.columns.str.lower() # changing all the upper case column names to lower case\\ntrain.to_csv('C:/Users/EGBUNA/Jiji_web_data/full_house_data_jiji.csv', index = False)\\n\""
      ]
     },
     "execution_count": 57,
     "metadata": {},
     "output_type": "execute_result"
    }
   ],
   "source": [
    "\n",
    "'''\n",
    "train = pd.concat([data1, data2, data3, data4, data5, data6, data7,data8, data9, data10, data11, data12, data13], axis = 0)\n",
    "train.reset_index(drop = True)\n",
    "train.columns = train.columns.str.lower() # changing all the upper case column names to lower case\n",
    "train.to_csv('C:/Users/EGBUNA/Jiji_web_data/full_house_data_jiji.csv', index = False)\n",
    "'''"
   ]
  },
  {
   "cell_type": "code",
   "execution_count": null,
   "id": "2fc07cd8",
   "metadata": {},
   "outputs": [],
   "source": []
  }
 ],
 "metadata": {
  "kernelspec": {
   "display_name": "Python 3",
   "language": "python",
   "name": "python3"
  },
  "language_info": {
   "codemirror_mode": {
    "name": "ipython",
    "version": 3
   },
   "file_extension": ".py",
   "mimetype": "text/x-python",
   "name": "python",
   "nbconvert_exporter": "python",
   "pygments_lexer": "ipython3",
   "version": "3.8.8"
  }
 },
 "nbformat": 4,
 "nbformat_minor": 5
}
