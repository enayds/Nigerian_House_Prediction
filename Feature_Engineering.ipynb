{
 "cells": [
  {
   "cell_type": "code",
   "execution_count": 1,
   "id": "e63a04f8",
   "metadata": {},
   "outputs": [],
   "source": [
    "import pandas as pd\n",
    "import numpy as np\n",
    "import matplotlib.pyplot as plt\n",
    "import seaborn as sns\n",
    "import warnings\n",
    "warnings.filterwarnings('ignore')"
   ]
  },
  {
   "cell_type": "code",
   "execution_count": 2,
   "id": "765875c7",
   "metadata": {
    "scrolled": false
   },
   "outputs": [
    {
     "data": {
      "text/html": [
       "<div>\n",
       "<style scoped>\n",
       "    .dataframe tbody tr th:only-of-type {\n",
       "        vertical-align: middle;\n",
       "    }\n",
       "\n",
       "    .dataframe tbody tr th {\n",
       "        vertical-align: top;\n",
       "    }\n",
       "\n",
       "    .dataframe thead th {\n",
       "        text-align: right;\n",
       "    }\n",
       "</style>\n",
       "<table border=\"1\" class=\"dataframe\">\n",
       "  <thead>\n",
       "    <tr style=\"text-align: right;\">\n",
       "      <th></th>\n",
       "      <th>price</th>\n",
       "      <th>location</th>\n",
       "      <th>house_type</th>\n",
       "      <th>rooms</th>\n",
       "      <th>bathrooms</th>\n",
       "      <th>rent_duration</th>\n",
       "      <th>estate name</th>\n",
       "      <th>condition</th>\n",
       "      <th>furnishing</th>\n",
       "      <th>facilities</th>\n",
       "      <th>area</th>\n",
       "      <th>dishwasher</th>\n",
       "      <th>prepaid_meter</th>\n",
       "      <th>dinning_area</th>\n",
       "      <th>air_conditioning</th>\n",
       "      <th>chandelier</th>\n",
       "      <th>state</th>\n",
       "      <th>estate</th>\n",
       "    </tr>\n",
       "  </thead>\n",
       "  <tbody>\n",
       "    <tr>\n",
       "      <th>0</th>\n",
       "      <td>450000</td>\n",
       "      <td>enugu, enugu / enugu state</td>\n",
       "      <td>Apartment</td>\n",
       "      <td>1</td>\n",
       "      <td>2</td>\n",
       "      <td>per annum</td>\n",
       "      <td>good is good</td>\n",
       "      <td>Newly Built</td>\n",
       "      <td>Furnished</td>\n",
       "      <td>balcony,chandelier,24 hours electricity,dishwa...</td>\n",
       "      <td>semi_urban</td>\n",
       "      <td>yes</td>\n",
       "      <td>yes</td>\n",
       "      <td>yes</td>\n",
       "      <td>no</td>\n",
       "      <td>yes</td>\n",
       "      <td>enugu</td>\n",
       "      <td>no</td>\n",
       "    </tr>\n",
       "    <tr>\n",
       "      <th>1</th>\n",
       "      <td>300000</td>\n",
       "      <td>anambra, awka</td>\n",
       "      <td>Apartment</td>\n",
       "      <td>1</td>\n",
       "      <td>2</td>\n",
       "      <td>per annum</td>\n",
       "      <td>ifite awka</td>\n",
       "      <td>Newly Built</td>\n",
       "      <td>Unfurnished</td>\n",
       "      <td>24 hours electricity,dining area,balcony,kitch...</td>\n",
       "      <td>rural</td>\n",
       "      <td>no</td>\n",
       "      <td>no</td>\n",
       "      <td>yes</td>\n",
       "      <td>no</td>\n",
       "      <td>no</td>\n",
       "      <td>anambra</td>\n",
       "      <td>no</td>\n",
       "    </tr>\n",
       "    <tr>\n",
       "      <th>2</th>\n",
       "      <td>200000</td>\n",
       "      <td>ogun, ifo</td>\n",
       "      <td>Studio Apartment</td>\n",
       "      <td>1</td>\n",
       "      <td>1</td>\n",
       "      <td>per annum</td>\n",
       "      <td>ifedayo</td>\n",
       "      <td>Fairly Used</td>\n",
       "      <td>Unfurnished</td>\n",
       "      <td>pre paid meter,tiled floor,dishwasher,kitchen ...</td>\n",
       "      <td>rural</td>\n",
       "      <td>yes</td>\n",
       "      <td>yes</td>\n",
       "      <td>no</td>\n",
       "      <td>no</td>\n",
       "      <td>no</td>\n",
       "      <td>ogun</td>\n",
       "      <td>no</td>\n",
       "    </tr>\n",
       "    <tr>\n",
       "      <th>3</th>\n",
       "      <td>1000000</td>\n",
       "      <td>lagos, ajah</td>\n",
       "      <td>Duplex</td>\n",
       "      <td>1</td>\n",
       "      <td>2</td>\n",
       "      <td>per quarter</td>\n",
       "      <td>lekki scheme 2,abraham adesanya ajah</td>\n",
       "      <td>Newly Built</td>\n",
       "      <td>Semi-Furnished</td>\n",
       "      <td>balcony,chandelier,dining area,wardrobe,wi-fi,...</td>\n",
       "      <td>semi_urban</td>\n",
       "      <td>yes</td>\n",
       "      <td>yes</td>\n",
       "      <td>yes</td>\n",
       "      <td>no</td>\n",
       "      <td>yes</td>\n",
       "      <td>lagos</td>\n",
       "      <td>no</td>\n",
       "    </tr>\n",
       "    <tr>\n",
       "      <th>4</th>\n",
       "      <td>300000</td>\n",
       "      <td>marian</td>\n",
       "      <td>Apartment</td>\n",
       "      <td>1</td>\n",
       "      <td>2</td>\n",
       "      <td>per quarter</td>\n",
       "      <td>smart property</td>\n",
       "      <td>Fairly Used</td>\n",
       "      <td>Unfurnished</td>\n",
       "      <td>balcony,24 hours electricity,kitchen shelf,din...</td>\n",
       "      <td>rural</td>\n",
       "      <td>no</td>\n",
       "      <td>no</td>\n",
       "      <td>yes</td>\n",
       "      <td>no</td>\n",
       "      <td>no</td>\n",
       "      <td>lagos</td>\n",
       "      <td>no</td>\n",
       "    </tr>\n",
       "  </tbody>\n",
       "</table>\n",
       "</div>"
      ],
      "text/plain": [
       "     price                    location        house_type  rooms  bathrooms  \\\n",
       "0   450000  enugu, enugu / enugu state         Apartment      1          2   \n",
       "1   300000               anambra, awka         Apartment      1          2   \n",
       "2   200000                   ogun, ifo  Studio Apartment      1          1   \n",
       "3  1000000                 lagos, ajah            Duplex      1          2   \n",
       "4   300000                      marian         Apartment      1          2   \n",
       "\n",
       "  rent_duration                           estate name    condition  \\\n",
       "0     per annum                          good is good  Newly Built   \n",
       "1     per annum                            ifite awka  Newly Built   \n",
       "2     per annum                               ifedayo  Fairly Used   \n",
       "3   per quarter  lekki scheme 2,abraham adesanya ajah  Newly Built   \n",
       "4   per quarter                        smart property  Fairly Used   \n",
       "\n",
       "       furnishing                                         facilities  \\\n",
       "0       Furnished  balcony,chandelier,24 hours electricity,dishwa...   \n",
       "1     Unfurnished  24 hours electricity,dining area,balcony,kitch...   \n",
       "2     Unfurnished  pre paid meter,tiled floor,dishwasher,kitchen ...   \n",
       "3  Semi-Furnished  balcony,chandelier,dining area,wardrobe,wi-fi,...   \n",
       "4     Unfurnished  balcony,24 hours electricity,kitchen shelf,din...   \n",
       "\n",
       "         area dishwasher prepaid_meter dinning_area air_conditioning  \\\n",
       "0  semi_urban        yes           yes          yes               no   \n",
       "1       rural         no            no          yes               no   \n",
       "2       rural        yes           yes           no               no   \n",
       "3  semi_urban        yes           yes          yes               no   \n",
       "4       rural         no            no          yes               no   \n",
       "\n",
       "  chandelier    state estate  \n",
       "0        yes    enugu     no  \n",
       "1         no  anambra     no  \n",
       "2         no     ogun     no  \n",
       "3        yes    lagos     no  \n",
       "4         no    lagos     no  "
      ]
     },
     "execution_count": 2,
     "metadata": {},
     "output_type": "execute_result"
    }
   ],
   "source": [
    "data = pd.read_csv('C:/Users/EGBUNA/Jiji_web_data/jiji_house_data(cleaned).csv')\n",
    "data.head()"
   ]
  },
  {
   "cell_type": "code",
   "execution_count": 3,
   "id": "977ba0a0",
   "metadata": {
    "scrolled": true
   },
   "outputs": [
    {
     "data": {
      "text/plain": [
       "array(['enugu, enugu / enugu state', 'anambra, awka', 'ogun, ifo',\n",
       "       'lagos, ajah', 'marian', 'arthur eze avenue awka.',\n",
       "       'ogun, obafemi-owode', 'alakahia, obio / akpor lga. rivers state',\n",
       "       'ifite awka', 'nza street , gra enugu', 'lagos, isolo, ago palace',\n",
       "       'kaduna, kaduna / kaduna state', 'rivers, obio-akpor',\n",
       "       'osun, osogbo', 'oyo, ido', 'atimbo', 'satellite town',\n",
       "       'atimbo off nyangasang', 'lagos, lekki, lekki phase 1',\n",
       "       'lagos, lekki',\n",
       "       'kosta hostel, close to nnamdi azikiwe university awka',\n",
       "       'ifite awka anambra state',\n",
       "       'book foundation ifite awka anambra state',\n",
       "       'nasarawa, karu-nasarawa', 'lagos, ikoyi', 'lagos, yaba',\n",
       "       'oyo, oluyole', 'elewuro', 'araromi akesan igando',\n",
       "       'lagos, ibeju, bogije', 'lagos, ikoyi, osborne foreshore estate',\n",
       "       'lagos, lekki, ikota', 'lagos, ajah, sangotedo',\n",
       "       'lagos, yaba, akoka', 'kaduna, chikun',\n",
       "       'ajegunle area off asa dam', 'abuja, lugbe district', 'isutiroad',\n",
       "       'ijolu community, behind school of health, ilese',\n",
       "       'at the back of roban store ind.layout.',\n",
       "       'lagos, ajah, ado / ajah', 'cross river, calabar', 'palace road',\n",
       "       'lagos, ajah, off lekki-epe expressway',\n",
       "       'lagos, lekki, osapa london', 'gra by government house, awka',\n",
       "       'lagos, ilashe', 'gra phase 8, rupakurushi new layout',\n",
       "       'lagos, gbagada, phase 1 / gbagada', 'lagos, ibeju, ibeju-agbe',\n",
       "       'lagos, ibeju', 'lagos, ibeju, awoyaya', 'lagos, amuwo-odofin',\n",
       "       'lagos, ikotun/igando, igando / ikotun/igando',\n",
       "       'lagos, victoria island', 'behind polytechnic ibadan',\n",
       "       '18b, segun jegede street, ilupeju- magboro, ,ogun stste', 'fo1',\n",
       "       'f14', 'unity street egan road iyesi otta', 'imo, owerri',\n",
       "       'lagos, ikeja, adeniyi jones', 'lagos, agboyi/ketu',\n",
       "       'lagos, ibeju, badore', 'y junction okpuno awka,',\n",
       "       'ifite by book foundation. awka', 'nibo', 'rumudara',\n",
       "       'umubelle awka.', '12, rumuoji', 'lagos, ipaja', 'odili road',\n",
       "       'rumuoji', 'lagos, kosofe, ketu-ikosi',\n",
       "       'off sars road/ mandela estate ph rivers state',\n",
       "       'rivers, port-harcourt', 'lagos, ajah, olokonla', 'nta axis',\n",
       "       'rukpokwu/eneka road, eneka', 'nkwelle awka',\n",
       "       'nta road by obiri ikwerre junction.', 'lagos, egbe idimu, idimu',\n",
       "       'new road by ada george', 'eliozu eneka road', 'eliozu',\n",
       "       'lagos, ikorodu', 'lagos, lekki, ikate',\n",
       "       'off alao akala expressway', 'lagos, gbagada, medina',\n",
       "       'lagos, ikeja, omole phase 1', 'nta apara link road',\n",
       "       '8 iyabo osifeso street, abijo', 'borno, guzamala',\n",
       "       'auchi sabo power line', 'lagos, lekki, lekki phase 2',\n",
       "       'lagos, lekki, ologolo', 'even estate badore',\n",
       "       'idowu estate,adewumi adegbesan strt,fit global school ajah',\n",
       "       'lagos, victoria island, victoria island extension',\n",
       "       'umuoramma by capital city awka.', 'first mkt ifite',\n",
       "       'aguoye estate by ziks avenue awka', 'lagos, isolo, okota',\n",
       "       'oyo, egbeda, egbeda / egbeda', 'community estate ,trans ekulu',\n",
       "       'trans nkisi 33', 'book foundation',\n",
       "       'rivers, port-harcourt, gra phase 2 / port-harcourt',\n",
       "       'commissioners quarters awka.', 'commissioners qtrs awka',\n",
       "       'lagos, ajah, lekki gardens estate', 'lagos, ajah, canaan estate',\n",
       "       'lagos, ipaja, ayobo', 'behind uba by ziks avenue awka',\n",
       "       'aguoye estate awka', 'amaenyi awka',\n",
       "       'lagos, ikoyi, banana island', 'lagos, kosofe, ketu-alapere',\n",
       "       'old ifite rd awka', 'jorburg hotel okpuno',\n",
       "       'lagos, victoria island, 1004', 'awka anambra state',\n",
       "       'lagos, ikoyi, gerard road', 'rumuodara area',\n",
       "       'lagos, ajah, thomas estate', 'nkwelle estate', 'abuja, asokoro',\n",
       "       'abuja, gwarinpa, life camp', 'abuja, jahi', 'abuja, durumi',\n",
       "       'abuja, nyanya', 'abuja, lokogoma', 'abuja, karu',\n",
       "       'fafu estate, off turkish nile university junction', 'lokogoma',\n",
       "       'aa1 kuje', 'abdul avenue', 'ihiagwa', 'abuja, gwarinpa',\n",
       "       'abuja, maitama', 'abuja, wuse 2', 'lagos, ibeju, abijo',\n",
       "       'north4th damija', 'centinary city', 'lagos, lekki, chevron',\n",
       "       'green land estate', 'lagos, ojodu, yakoyo/alagbole',\n",
       "       'premier layout', 'lagos, lekki, jakande', 'bayelsa, yenagoa',\n",
       "       'gudu district after eterna filling station', 'abuja, wuse',\n",
       "       'rivers, port-harcourt, rumuogba',\n",
       "       'road 12 admiralty way lekki phrase1', 'lagos, magodo',\n",
       "       'lagos, ikoyi, old ikoyi', 'lagos, lekki, ikate-elegushi',\n",
       "       'lagos, ikoyi, ikoyi s.w', 'new heaven extension',\n",
       "       'rotimi abiru street', 'orchid road', 'lagos, apapa, apapa g.r.a',\n",
       "       'lagos, lekki, lekki expressway', '25 omega clinic ada george',\n",
       "       '73 radio estate nta road port harcourt',\n",
       "       '24 kings view estate g.u ake eliozu',\n",
       "       '31 abacha road gra phase 3', 'lagos, ogudu, ogudu gra',\n",
       "       '31 location nta road', 'abuja, utako',\n",
       "       'abuja, lugbe district, fha', 'eliozu-eneka road',\n",
       "       'emmannemeka street awka', 'lagos, victoria island, kofo abayomi',\n",
       "       'lagos, ikeja, ikeja gra', '4 fon street eliada layout',\n",
       "       'lagos, ojodu, isheri north', 'abuja, galadimawa',\n",
       "       'abuja, dakwo district', 'abuja, mabushi',\n",
       "       'kanma estate, behind penthouse estate, lugbe accross abujafc',\n",
       "       'river park estate, airport road abuja.', 'lagos, ikeja',\n",
       "       '4a, c close, ogun state', 'lagos, ajah, crown estate',\n",
       "       'akala express', 'abuja, guzape district',\n",
       "       'ogunlaja drive , majek area',\n",
       "       'imalete estate opp beach wood estate',\n",
       "       'lagos, magodo, gra phase 2 shangisha', 'lagos, ikorodu, agric',\n",
       "       'abuja, jabi', '106',\n",
       "       'rivers, port-harcourt, gra phase 1 / port-harcourt',\n",
       "       'rivers, port-harcourt, trans amadi', 'abuja, wuye',\n",
       "       'abuja, katampe, katampe (main)', 'abuja, gudu'], dtype=object)"
      ]
     },
     "execution_count": 3,
     "metadata": {},
     "output_type": "execute_result"
    }
   ],
   "source": [
    "data.location.unique()"
   ]
  },
  {
   "cell_type": "code",
   "execution_count": 4,
   "id": "143d8269",
   "metadata": {},
   "outputs": [
    {
     "data": {
      "text/plain": [
       "Index(['price', 'location', 'house_type', 'rooms', 'bathrooms',\n",
       "       'rent_duration', 'estate name', 'condition', 'furnishing', 'facilities',\n",
       "       'area', 'dishwasher', 'prepaid_meter', 'dinning_area',\n",
       "       'air_conditioning', 'chandelier', 'state', 'estate'],\n",
       "      dtype='object')"
      ]
     },
     "execution_count": 4,
     "metadata": {},
     "output_type": "execute_result"
    }
   ],
   "source": [
    "data.columns"
   ]
  },
  {
   "cell_type": "code",
   "execution_count": null,
   "id": "c17ba008",
   "metadata": {},
   "outputs": [],
   "source": []
  },
  {
   "cell_type": "code",
   "execution_count": 5,
   "id": "b140c23c",
   "metadata": {},
   "outputs": [
    {
     "data": {
      "text/plain": [
       "Duplex               253\n",
       "Apartment            177\n",
       "Block of Flats       139\n",
       "Bungalow              47\n",
       "House                 16\n",
       "Studio Apartment      10\n",
       "Townhouse/Terrace      9\n",
       "Mini Flat              8\n",
       "Room & Parlour         4\n",
       "Penthouse              3\n",
       "Shared Apartment       3\n",
       "Maisonette             3\n",
       "Flat                   1\n",
       "Farm House             1\n",
       "Condo                  1\n",
       "Townhouse              1\n",
       "Name: house_type, dtype: int64"
      ]
     },
     "execution_count": 5,
     "metadata": {},
     "output_type": "execute_result"
    }
   ],
   "source": [
    "data.house_type.value_counts()"
   ]
  },
  {
   "cell_type": "markdown",
   "id": "e388ee45",
   "metadata": {},
   "source": [
    "## Feature engineering of columns"
   ]
  },
  {
   "cell_type": "code",
   "execution_count": 6,
   "id": "45e2faa5",
   "metadata": {},
   "outputs": [
    {
     "data": {
      "text/plain": [
       "house              334\n",
       "apartment          190\n",
       "flats              148\n",
       "penthouse/condo      4\n",
       "Name: house_type, dtype: int64"
      ]
     },
     "execution_count": 6,
     "metadata": {},
     "output_type": "execute_result"
    }
   ],
   "source": [
    "## want to put similar type of house in one category to reduce outliers\n",
    "copy = data.copy()\n",
    "penthouse_condo = ['Penthouse', 'Condo']\n",
    "\n",
    "flats = ['Block of Flats', 'Mini Flat', 'Flat']\n",
    "\n",
    "apartment = ['Apartment',  'Shared Apartment', 'Studio Apartment']\n",
    "\n",
    "house = []\n",
    "\n",
    "for i in range(len(data.house_type)):\n",
    "    if data.house_type.iloc[i] in penthouse_condo:\n",
    "        data.house_type.iloc[i] = 'penthouse/condo'\n",
    "    elif data.house_type.iloc[i] in flats:\n",
    "        data.house_type.iloc[i] = 'flats'\n",
    "    elif data.house_type.iloc[i] in apartment:\n",
    "        data.house_type.iloc[i] = 'apartment'\n",
    "    else:\n",
    "        data.house_type.iloc[i] = 'house'\n",
    "data.house_type.value_counts()"
   ]
  },
  {
   "cell_type": "code",
   "execution_count": 7,
   "id": "13aaf9ae",
   "metadata": {
    "scrolled": true
   },
   "outputs": [
    {
     "data": {
      "text/plain": [
       "<AxesSubplot:xlabel='house_type'>"
      ]
     },
     "execution_count": 7,
     "metadata": {},
     "output_type": "execute_result"
    },
    {
     "data": {
      "image/png": "[encoded data removed]",
      "text/plain": [
       "<Figure size 432x288 with 1 Axes>"
      ]
     },
     "metadata": {
      "needs_background": "light"
     },
     "output_type": "display_data"
    }
   ],
   "source": [
    "data.groupby('house_type')['price'].median().plot(kind = 'bar')"
   ]
  },
  {
   "cell_type": "code",
   "execution_count": null,
   "id": "e55bb191",
   "metadata": {},
   "outputs": [],
   "source": []
  },
  {
   "cell_type": "code",
   "execution_count": 8,
   "id": "b02443db",
   "metadata": {},
   "outputs": [
    {
     "data": {
      "text/plain": [
       "per annum      589\n",
       "per quarter     84\n",
       "per month        3\n",
       "Name: rent_duration, dtype: int64"
      ]
     },
     "execution_count": 8,
     "metadata": {},
     "output_type": "execute_result"
    }
   ],
   "source": [
    "## working with rent duration columns\n",
    "\n",
    "data.rent_duration.value_counts()"
   ]
  },
  {
   "cell_type": "code",
   "execution_count": 9,
   "id": "aa413862",
   "metadata": {},
   "outputs": [
    {
     "data": {
      "text/plain": [
       "0     450000\n",
       "1     300000\n",
       "2     200000\n",
       "3    4000000\n",
       "4    1200000\n",
       "Name: price, dtype: int64"
      ]
     },
     "execution_count": 9,
     "metadata": {},
     "output_type": "execute_result"
    }
   ],
   "source": [
    "## convert all rent_duration to per annum by multiplying the price by 4 for quaterly and 12 for monthly\n",
    "copy = data.copy()\n",
    "\n",
    "data.price.loc[data.rent_duration == 'per quarter'] *= 4\n",
    "\n",
    "data.price.loc[data.rent_duration == 'per month'] *= 12\n",
    "data.price.head()"
   ]
  },
  {
   "cell_type": "code",
   "execution_count": null,
   "id": "10a39c7e",
   "metadata": {},
   "outputs": [],
   "source": []
  },
  {
   "cell_type": "code",
   "execution_count": 10,
   "id": "bb63513a",
   "metadata": {},
   "outputs": [
    {
     "data": {
      "text/plain": [
       "Newly Built    423\n",
       "Fairly Used    218\n",
       "Renovated       32\n",
       "Old              3\n",
       "Name: condition, dtype: int64"
      ]
     },
     "execution_count": 10,
     "metadata": {},
     "output_type": "execute_result"
    }
   ],
   "source": [
    "data.condition.value_counts()"
   ]
  },
  {
   "cell_type": "code",
   "execution_count": 11,
   "id": "6af31070",
   "metadata": {},
   "outputs": [
    {
     "data": {
      "text/plain": [
       "Newly Built    423\n",
       "Fairly Used    253\n",
       "Name: condition, dtype: int64"
      ]
     },
     "execution_count": 11,
     "metadata": {},
     "output_type": "execute_result"
    }
   ],
   "source": [
    "## change all values except for Newly Built to Faily Used\n",
    "\n",
    "copy = pd.read_csv('C:/Users/EGBUNA/Jiji_web_data/jiji_house_data(cleaned).csv')\n",
    "data.condition = copy.condition.copy()\n",
    "data.condition = data.condition.apply(lambda x: 'Fairly Used' if x != 'Newly Built' else x)\n",
    "data.condition.value_counts()"
   ]
  },
  {
   "cell_type": "code",
   "execution_count": null,
   "id": "026abb68",
   "metadata": {},
   "outputs": [],
   "source": []
  },
  {
   "cell_type": "code",
   "execution_count": 12,
   "id": "f7174f55",
   "metadata": {},
   "outputs": [
    {
     "data": {
      "text/plain": [
       "lagos          218\n",
       "rivers         113\n",
       "abuja           75\n",
       "imo             69\n",
       "enugu           56\n",
       "none            55\n",
       "anambra         41\n",
       "oyo             11\n",
       "ogun            10\n",
       "cross river     10\n",
       "kaduna           9\n",
       "nasarawa         5\n",
       "borno            1\n",
       "osun             1\n",
       "edo              1\n",
       "bayelsa          1\n",
       "Name: state, dtype: int64"
      ]
     },
     "execution_count": 12,
     "metadata": {},
     "output_type": "execute_result"
    }
   ],
   "source": [
    "data.state.value_counts()"
   ]
  },
  {
   "cell_type": "code",
   "execution_count": 13,
   "id": "df85d546",
   "metadata": {},
   "outputs": [
    {
     "data": {
      "text/plain": [
       "lagos      218\n",
       "rivers     113\n",
       "rare       104\n",
       "abuja       75\n",
       "imo         69\n",
       "enugu       56\n",
       "anambra     41\n",
       "Name: state, dtype: int64"
      ]
     },
     "execution_count": 13,
     "metadata": {},
     "output_type": "execute_result"
    }
   ],
   "source": [
    "## we'll rename the rare states others to reduce outliers\n",
    "main_states = 'lagos,rivers,abuja,imo,enugu,anambra'.split(',')\n",
    "data.state = data.state.apply(lambda x: 'rare' if x not in main_states else x)\n",
    "data.state.value_counts()"
   ]
  },
  {
   "cell_type": "code",
   "execution_count": null,
   "id": "bac9f926",
   "metadata": {},
   "outputs": [],
   "source": []
  },
  {
   "cell_type": "code",
   "execution_count": 14,
   "id": "aa3ecd34",
   "metadata": {
    "scrolled": true
   },
   "outputs": [
    {
     "data": {
      "text/plain": [
       "4    167\n",
       "3    135\n",
       "5    129\n",
       "2    122\n",
       "1    120\n",
       "7      2\n",
       "6      1\n",
       "Name: rooms, dtype: int64"
      ]
     },
     "execution_count": 14,
     "metadata": {},
     "output_type": "execute_result"
    }
   ],
   "source": [
    "data.rooms.value_counts()"
   ]
  },
  {
   "cell_type": "code",
   "execution_count": 15,
   "id": "3b34080a",
   "metadata": {},
   "outputs": [
    {
     "data": {
      "text/plain": [
       "4    167\n",
       "3    135\n",
       "5    132\n",
       "2    122\n",
       "1    120\n",
       "Name: rooms, dtype: int64"
      ]
     },
     "execution_count": 15,
     "metadata": {},
     "output_type": "execute_result"
    }
   ],
   "source": [
    "## to remove the outlier we change 7 and 6 rooms to '5 and above' or just call it 5 so as not to change the data type\n",
    "data.rooms = data.rooms.apply(lambda x: 5 if x > 4 else x)\n",
    "data.rooms.value_counts()"
   ]
  },
  {
   "cell_type": "code",
   "execution_count": 16,
   "id": "568af67e",
   "metadata": {},
   "outputs": [
    {
     "data": {
      "text/plain": [
       "<AxesSubplot:xlabel='rooms', ylabel='price'>"
      ]
     },
     "execution_count": 16,
     "metadata": {},
     "output_type": "execute_result"
    },
    {
     "data": {
      "image/png": "[encoded data removed]",
      "text/plain": [
       "<Figure size 432x288 with 1 Axes>"
      ]
     },
     "metadata": {
      "needs_background": "light"
     },
     "output_type": "display_data"
    }
   ],
   "source": [
    "sns.barplot(data.rooms, data.price)"
   ]
  },
  {
   "cell_type": "code",
   "execution_count": 17,
   "id": "0f299e90",
   "metadata": {},
   "outputs": [
    {
     "data": {
      "text/plain": [
       "<AxesSubplot:xlabel='bathrooms', ylabel='price'>"
      ]
     },
     "execution_count": 17,
     "metadata": {},
     "output_type": "execute_result"
    },
    {
     "data": {
      "image/png": "[encoded data removed]",
      "text/plain": [
       "<Figure size 432x288 with 1 Axes>"
      ]
     },
     "metadata": {
      "needs_background": "light"
     },
     "output_type": "display_data"
    }
   ],
   "source": [
    "sns.barplot(data.bathrooms, data.price)"
   ]
  },
  {
   "cell_type": "code",
   "execution_count": null,
   "id": "1be31a6d",
   "metadata": {},
   "outputs": [],
   "source": []
  },
  {
   "cell_type": "markdown",
   "id": "51f1383a",
   "metadata": {},
   "source": [
    "## Data encoding (converting cataegoricalvalues to numerical values)"
   ]
  },
  {
   "cell_type": "code",
   "execution_count": 18,
   "id": "74798d38",
   "metadata": {},
   "outputs": [
    {
     "name": "stdout",
     "output_type": "stream",
     "text": [
      "0    481\n",
      "1    195\n",
      "Name: dishwasher, dtype: int64\n",
      "\n",
      "0    346\n",
      "1    330\n",
      "Name: prepaid_meter, dtype: int64\n",
      "\n",
      "1    351\n",
      "0    325\n",
      "Name: dinning_area, dtype: int64\n",
      "\n",
      "0    572\n",
      "1    104\n",
      "Name: air_conditioning, dtype: int64\n",
      "\n",
      "0    465\n",
      "1    211\n",
      "Name: chandelier, dtype: int64\n",
      "\n",
      "0    545\n",
      "1    131\n",
      "Name: estate, dtype: int64\n",
      "\n"
     ]
    }
   ],
   "source": [
    "## let's deal with columns that has just yes or no values or ordinal values\n",
    "ordinal = [f for f in data.columns if data[f].nunique() == 2 and f != 'condition']\n",
    "\n",
    "## loop through the ordinal list and then change the values\n",
    "\n",
    "for column in ordinal:\n",
    "    data[column] = data[column].apply(lambda x: 0 if x == 'no' else 1)\n",
    "    print(data[column].value_counts())\n",
    "    print('')"
   ]
  },
  {
   "cell_type": "code",
   "execution_count": null,
   "id": "69f61878",
   "metadata": {},
   "outputs": [],
   "source": []
  },
  {
   "cell_type": "code",
   "execution_count": 19,
   "id": "5ae1ba4e",
   "metadata": {},
   "outputs": [
    {
     "data": {
      "text/plain": [
       "1    423\n",
       "0    253\n",
       "Name: condition, dtype: int64"
      ]
     },
     "execution_count": 19,
     "metadata": {},
     "output_type": "execute_result"
    }
   ],
   "source": [
    "## dealing with the condition column\n",
    "data.condition = data.condition.map({'Fairly Used':0, 'Newly Built':1})\n",
    "data.condition.value_counts()"
   ]
  },
  {
   "cell_type": "code",
   "execution_count": null,
   "id": "22bca991",
   "metadata": {},
   "outputs": [],
   "source": []
  },
  {
   "cell_type": "code",
   "execution_count": 20,
   "id": "03cf92b9",
   "metadata": {},
   "outputs": [
    {
     "name": "stdout",
     "output_type": "stream",
     "text": [
      "['location', 'house_type', 'rent_duration', 'estate name', 'furnishing', 'facilities', 'area', 'state']\n"
     ]
    }
   ],
   "source": [
    "## dealing with the remaining columns\n",
    "cat = [f for f in data.columns if f not in ordinal and data[f].dtype == 'object']\n",
    "print(cat)"
   ]
  },
  {
   "cell_type": "code",
   "execution_count": 21,
   "id": "99a76d03",
   "metadata": {},
   "outputs": [
    {
     "data": {
      "text/plain": [
       "<AxesSubplot:xlabel='house_type'>"
      ]
     },
     "execution_count": 21,
     "metadata": {},
     "output_type": "execute_result"
    },
    {
     "data": {
      "image/png": "[encoded data removed]",
      "text/plain": [
       "<Figure size 432x288 with 1 Axes>"
      ]
     },
     "metadata": {
      "needs_background": "light"
     },
     "output_type": "display_data"
    }
   ],
   "source": [
    "## house type\n",
    "data.groupby('house_type')['price'].median().sort_values().plot(kind = 'bar')"
   ]
  },
  {
   "cell_type": "code",
   "execution_count": 22,
   "id": "f9307e04",
   "metadata": {},
   "outputs": [
    {
     "data": {
      "text/plain": [
       "2    334\n",
       "0    190\n",
       "1    148\n",
       "3      4\n",
       "Name: house_type, dtype: int64"
      ]
     },
     "execution_count": 22,
     "metadata": {},
     "output_type": "execute_result"
    }
   ],
   "source": [
    "## i'll encode it using the average price of each house_type because i am very confused now\n",
    "##i.e penthouse/condo = 3, house = 2, flats = 1, appartments = 0\n",
    "\n",
    "data.house_type = data.house_type.map({'penthouse/condo':3, 'house':2, 'flats': 1, 'apartment':0})\n",
    "data.house_type.value_counts()"
   ]
  },
  {
   "cell_type": "code",
   "execution_count": null,
   "id": "863762bc",
   "metadata": {},
   "outputs": [],
   "source": []
  },
  {
   "cell_type": "code",
   "execution_count": 23,
   "id": "256e864f",
   "metadata": {},
   "outputs": [
    {
     "data": {
      "text/plain": [
       "1    294\n",
       "2    243\n",
       "3    139\n",
       "Name: area, dtype: int64"
      ]
     },
     "execution_count": 23,
     "metadata": {},
     "output_type": "execute_result"
    }
   ],
   "source": [
    "## encoding the area the house is located in \n",
    "\n",
    "data.area = data.area.map({'urban':3, 'semi_urban':2, 'rural': 1})\n",
    "data.area.value_counts()"
   ]
  },
  {
   "cell_type": "code",
   "execution_count": null,
   "id": "00d0c4f2",
   "metadata": {},
   "outputs": [],
   "source": []
  },
  {
   "cell_type": "code",
   "execution_count": 24,
   "id": "499762af",
   "metadata": {},
   "outputs": [
    {
     "data": {
      "text/plain": [
       "Semi-Furnished    248\n",
       "Unfurnished       226\n",
       "Furnished         202\n",
       "Name: furnishing, dtype: int64"
      ]
     },
     "execution_count": 24,
     "metadata": {},
     "output_type": "execute_result"
    }
   ],
   "source": [
    "## furnishing\n",
    "data.furnishing.value_counts()"
   ]
  },
  {
   "cell_type": "code",
   "execution_count": 25,
   "id": "4bbdea77",
   "metadata": {},
   "outputs": [],
   "source": [
    "## creating a function for furnishing column\n",
    "def furnish_encode(x):\n",
    "    if x == 'Unfurnished':\n",
    "        return 0\n",
    "    elif x == 'Semi-Furnished':\n",
    "        return 1\n",
    "    else:\n",
    "        return 2\n",
    "\n",
    "#data.furnishing.apply(furnish_encode())\n",
    "data.furnishing = [furnish_encode(f) for f in data.furnishing]"
   ]
  },
  {
   "cell_type": "code",
   "execution_count": 26,
   "id": "74fa387c",
   "metadata": {},
   "outputs": [
    {
     "data": {
      "text/plain": [
       "1    248\n",
       "0    226\n",
       "2    202\n",
       "Name: furnishing, dtype: int64"
      ]
     },
     "execution_count": 26,
     "metadata": {},
     "output_type": "execute_result"
    }
   ],
   "source": [
    "data.furnishing.value_counts()"
   ]
  },
  {
   "cell_type": "code",
   "execution_count": null,
   "id": "085107be",
   "metadata": {},
   "outputs": [],
   "source": []
  },
  {
   "cell_type": "code",
   "execution_count": 27,
   "id": "271a2da5",
   "metadata": {},
   "outputs": [
    {
     "data": {
      "text/plain": [
       "<AxesSubplot:xlabel='state'>"
      ]
     },
     "execution_count": 27,
     "metadata": {},
     "output_type": "execute_result"
    },
    {
     "data": {
      "image/png": "[encoded data removed]",
      "text/plain": [
       "<Figure size 432x288 with 1 Axes>"
      ]
     },
     "metadata": {
      "needs_background": "light"
     },
     "output_type": "display_data"
    }
   ],
   "source": [
    "data.groupby('state')['price'].median().sort_values().plot(kind = 'bar')"
   ]
  },
  {
   "cell_type": "code",
   "execution_count": 28,
   "id": "df264187",
   "metadata": {},
   "outputs": [],
   "source": [
    "## i'll use the average price of a a house to in a state to encode this data\n",
    "## i.e rare = 0, anambra =1, imo = 2, enugu = 3, rivers = 4, lagos = 5, abuja = 6\n",
    "## using map function for substitution of values\n",
    "\n",
    "data.state = data.state.map({'abuja':6, 'lagos':5, 'rivers':4, 'enugu':3, 'imo':2, 'anambra':1, 'rare':0})\n"
   ]
  },
  {
   "cell_type": "code",
   "execution_count": 29,
   "id": "0aea4456",
   "metadata": {},
   "outputs": [
    {
     "data": {
      "text/plain": [
       "5    218\n",
       "4    113\n",
       "0    104\n",
       "6     75\n",
       "2     69\n",
       "3     56\n",
       "1     41\n",
       "Name: state, dtype: int64"
      ]
     },
     "execution_count": 29,
     "metadata": {},
     "output_type": "execute_result"
    }
   ],
   "source": [
    "data.state.value_counts()"
   ]
  },
  {
   "cell_type": "code",
   "execution_count": null,
   "id": "8007fdd0",
   "metadata": {},
   "outputs": [],
   "source": []
  },
  {
   "cell_type": "markdown",
   "id": "872ee4a3",
   "metadata": {},
   "source": [
    "## Dropping all unwanted columns in the data"
   ]
  },
  {
   "cell_type": "code",
   "execution_count": 30,
   "id": "8e398541",
   "metadata": {},
   "outputs": [],
   "source": [
    "## dropping unwanted columns from my data\n",
    "\n",
    "data.drop(['estate name', 'facilities', 'location','rent_duration',], axis = 1, inplace =True)"
   ]
  },
  {
   "cell_type": "code",
   "execution_count": 31,
   "id": "7f28d276",
   "metadata": {
    "scrolled": true
   },
   "outputs": [
    {
     "data": {
      "text/plain": [
       "Index(['price', 'house_type', 'rooms', 'bathrooms', 'condition', 'furnishing',\n",
       "       'area', 'dishwasher', 'prepaid_meter', 'dinning_area',\n",
       "       'air_conditioning', 'chandelier', 'state', 'estate'],\n",
       "      dtype='object')"
      ]
     },
     "execution_count": 31,
     "metadata": {},
     "output_type": "execute_result"
    }
   ],
   "source": [
    "data.columns"
   ]
  },
  {
   "cell_type": "code",
   "execution_count": 45,
   "id": "155384b8",
   "metadata": {},
   "outputs": [
    {
     "data": {
      "image/png": "[encoded data removed]",
      "text/plain": [
       "<Figure size 864x576 with 2 Axes>"
      ]
     },
     "metadata": {
      "needs_background": "light"
     },
     "output_type": "display_data"
    }
   ],
   "source": [
    "## checking data correlation to see how far i've come\n",
    "corr = data.corr()\n",
    "plt.figure(figsize = (12,8))\n",
    "sns.heatmap(corr, annot = True, cmap = 'coolwarm')\n",
    "plt.show()"
   ]
  },
  {
   "cell_type": "code",
   "execution_count": 32,
   "id": "7a26df03",
   "metadata": {
    "scrolled": false
   },
   "outputs": [
    {
     "data": {
      "image/png": "[encoded data removed]",
      "text/plain": [
       "<Figure size 864x576 with 2 Axes>"
      ]
     },
     "metadata": {
      "needs_background": "light"
     },
     "output_type": "display_data"
    }
   ],
   "source": [
    "## checking data correlation to see how far i've come\n",
    "corr = data.corr()\n",
    "plt.figure(figsize = (12,8))\n",
    "sns.heatmap(corr, annot = True, cmap = 'coolwarm')\n",
    "plt.show()"
   ]
  },
  {
   "cell_type": "code",
   "execution_count": 33,
   "id": "69548065",
   "metadata": {},
   "outputs": [
    {
     "data": {
      "text/plain": [
       "array([1, 0], dtype=int64)"
      ]
     },
     "execution_count": 33,
     "metadata": {},
     "output_type": "execute_result"
    }
   ],
   "source": [
    "data.condition.unique()"
   ]
  },
  {
   "cell_type": "markdown",
   "id": "9372d0b1",
   "metadata": {},
   "source": [
    "## Log transforming all columns to make a perfect guassian/normal distribution"
   ]
  },
  {
   "cell_type": "code",
   "execution_count": 34,
   "id": "b5a408b7",
   "metadata": {
    "scrolled": true
   },
   "outputs": [
    {
     "data": {
      "text/html": [
       "<div>\n",
       "<style scoped>\n",
       "    .dataframe tbody tr th:only-of-type {\n",
       "        vertical-align: middle;\n",
       "    }\n",
       "\n",
       "    .dataframe tbody tr th {\n",
       "        vertical-align: top;\n",
       "    }\n",
       "\n",
       "    .dataframe thead th {\n",
       "        text-align: right;\n",
       "    }\n",
       "</style>\n",
       "<table border=\"1\" class=\"dataframe\">\n",
       "  <thead>\n",
       "    <tr style=\"text-align: right;\">\n",
       "      <th></th>\n",
       "      <th>price</th>\n",
       "      <th>house_type</th>\n",
       "      <th>rooms</th>\n",
       "      <th>bathrooms</th>\n",
       "      <th>condition</th>\n",
       "      <th>furnishing</th>\n",
       "      <th>area</th>\n",
       "      <th>dishwasher</th>\n",
       "      <th>prepaid_meter</th>\n",
       "      <th>dinning_area</th>\n",
       "      <th>air_conditioning</th>\n",
       "      <th>chandelier</th>\n",
       "      <th>state</th>\n",
       "      <th>estate</th>\n",
       "    </tr>\n",
       "  </thead>\n",
       "  <tbody>\n",
       "    <tr>\n",
       "      <th>0</th>\n",
       "      <td>13.017003</td>\n",
       "      <td>0</td>\n",
       "      <td>1</td>\n",
       "      <td>2</td>\n",
       "      <td>1</td>\n",
       "      <td>2</td>\n",
       "      <td>2</td>\n",
       "      <td>1</td>\n",
       "      <td>1</td>\n",
       "      <td>1</td>\n",
       "      <td>0</td>\n",
       "      <td>1</td>\n",
       "      <td>3</td>\n",
       "      <td>0</td>\n",
       "    </tr>\n",
       "    <tr>\n",
       "      <th>1</th>\n",
       "      <td>12.611538</td>\n",
       "      <td>0</td>\n",
       "      <td>1</td>\n",
       "      <td>2</td>\n",
       "      <td>1</td>\n",
       "      <td>0</td>\n",
       "      <td>1</td>\n",
       "      <td>0</td>\n",
       "      <td>0</td>\n",
       "      <td>1</td>\n",
       "      <td>0</td>\n",
       "      <td>0</td>\n",
       "      <td>1</td>\n",
       "      <td>0</td>\n",
       "    </tr>\n",
       "    <tr>\n",
       "      <th>2</th>\n",
       "      <td>12.206073</td>\n",
       "      <td>0</td>\n",
       "      <td>1</td>\n",
       "      <td>1</td>\n",
       "      <td>0</td>\n",
       "      <td>0</td>\n",
       "      <td>1</td>\n",
       "      <td>1</td>\n",
       "      <td>1</td>\n",
       "      <td>0</td>\n",
       "      <td>0</td>\n",
       "      <td>0</td>\n",
       "      <td>0</td>\n",
       "      <td>0</td>\n",
       "    </tr>\n",
       "    <tr>\n",
       "      <th>3</th>\n",
       "      <td>15.201805</td>\n",
       "      <td>2</td>\n",
       "      <td>1</td>\n",
       "      <td>2</td>\n",
       "      <td>1</td>\n",
       "      <td>1</td>\n",
       "      <td>2</td>\n",
       "      <td>1</td>\n",
       "      <td>1</td>\n",
       "      <td>1</td>\n",
       "      <td>0</td>\n",
       "      <td>1</td>\n",
       "      <td>5</td>\n",
       "      <td>0</td>\n",
       "    </tr>\n",
       "    <tr>\n",
       "      <th>4</th>\n",
       "      <td>13.997832</td>\n",
       "      <td>0</td>\n",
       "      <td>1</td>\n",
       "      <td>2</td>\n",
       "      <td>0</td>\n",
       "      <td>0</td>\n",
       "      <td>1</td>\n",
       "      <td>0</td>\n",
       "      <td>0</td>\n",
       "      <td>1</td>\n",
       "      <td>0</td>\n",
       "      <td>0</td>\n",
       "      <td>5</td>\n",
       "      <td>0</td>\n",
       "    </tr>\n",
       "  </tbody>\n",
       "</table>\n",
       "</div>"
      ],
      "text/plain": [
       "       price  house_type  rooms  bathrooms  condition  furnishing  area  \\\n",
       "0  13.017003           0      1          2          1           2     2   \n",
       "1  12.611538           0      1          2          1           0     1   \n",
       "2  12.206073           0      1          1          0           0     1   \n",
       "3  15.201805           2      1          2          1           1     2   \n",
       "4  13.997832           0      1          2          0           0     1   \n",
       "\n",
       "   dishwasher  prepaid_meter  dinning_area  air_conditioning  chandelier  \\\n",
       "0           1              1             1                 0           1   \n",
       "1           0              0             1                 0           0   \n",
       "2           1              1             0                 0           0   \n",
       "3           1              1             1                 0           1   \n",
       "4           0              0             1                 0           0   \n",
       "\n",
       "   state  estate  \n",
       "0      3       0  \n",
       "1      1       0  \n",
       "2      0       0  \n",
       "3      5       0  \n",
       "4      5       0  "
      ]
     },
     "execution_count": 34,
     "metadata": {},
     "output_type": "execute_result"
    }
   ],
   "source": [
    "## apply log transform to price column to reduce the skewneess\n",
    "data.price = np.log(data.price)\n",
    "data.head()"
   ]
  },
  {
   "cell_type": "code",
   "execution_count": 35,
   "id": "58fb7cd1",
   "metadata": {},
   "outputs": [
    {
     "data": {
      "text/html": [
       "<div>\n",
       "<style scoped>\n",
       "    .dataframe tbody tr th:only-of-type {\n",
       "        vertical-align: middle;\n",
       "    }\n",
       "\n",
       "    .dataframe tbody tr th {\n",
       "        vertical-align: top;\n",
       "    }\n",
       "\n",
       "    .dataframe thead th {\n",
       "        text-align: right;\n",
       "    }\n",
       "</style>\n",
       "<table border=\"1\" class=\"dataframe\">\n",
       "  <thead>\n",
       "    <tr style=\"text-align: right;\">\n",
       "      <th></th>\n",
       "      <th>house_type</th>\n",
       "      <th>rooms</th>\n",
       "      <th>bathrooms</th>\n",
       "      <th>condition</th>\n",
       "      <th>furnishing</th>\n",
       "      <th>area</th>\n",
       "      <th>dishwasher</th>\n",
       "      <th>prepaid_meter</th>\n",
       "      <th>dinning_area</th>\n",
       "      <th>air_conditioning</th>\n",
       "      <th>chandelier</th>\n",
       "      <th>state</th>\n",
       "      <th>estate</th>\n",
       "    </tr>\n",
       "  </thead>\n",
       "  <tbody>\n",
       "    <tr>\n",
       "      <th>0</th>\n",
       "      <td>0</td>\n",
       "      <td>1</td>\n",
       "      <td>2</td>\n",
       "      <td>1</td>\n",
       "      <td>2</td>\n",
       "      <td>2</td>\n",
       "      <td>1</td>\n",
       "      <td>1</td>\n",
       "      <td>1</td>\n",
       "      <td>0</td>\n",
       "      <td>1</td>\n",
       "      <td>3</td>\n",
       "      <td>0</td>\n",
       "    </tr>\n",
       "    <tr>\n",
       "      <th>1</th>\n",
       "      <td>0</td>\n",
       "      <td>1</td>\n",
       "      <td>2</td>\n",
       "      <td>1</td>\n",
       "      <td>0</td>\n",
       "      <td>1</td>\n",
       "      <td>0</td>\n",
       "      <td>0</td>\n",
       "      <td>1</td>\n",
       "      <td>0</td>\n",
       "      <td>0</td>\n",
       "      <td>1</td>\n",
       "      <td>0</td>\n",
       "    </tr>\n",
       "    <tr>\n",
       "      <th>2</th>\n",
       "      <td>0</td>\n",
       "      <td>1</td>\n",
       "      <td>1</td>\n",
       "      <td>0</td>\n",
       "      <td>0</td>\n",
       "      <td>1</td>\n",
       "      <td>1</td>\n",
       "      <td>1</td>\n",
       "      <td>0</td>\n",
       "      <td>0</td>\n",
       "      <td>0</td>\n",
       "      <td>0</td>\n",
       "      <td>0</td>\n",
       "    </tr>\n",
       "    <tr>\n",
       "      <th>3</th>\n",
       "      <td>2</td>\n",
       "      <td>1</td>\n",
       "      <td>2</td>\n",
       "      <td>1</td>\n",
       "      <td>1</td>\n",
       "      <td>2</td>\n",
       "      <td>1</td>\n",
       "      <td>1</td>\n",
       "      <td>1</td>\n",
       "      <td>0</td>\n",
       "      <td>1</td>\n",
       "      <td>5</td>\n",
       "      <td>0</td>\n",
       "    </tr>\n",
       "    <tr>\n",
       "      <th>4</th>\n",
       "      <td>0</td>\n",
       "      <td>1</td>\n",
       "      <td>2</td>\n",
       "      <td>0</td>\n",
       "      <td>0</td>\n",
       "      <td>1</td>\n",
       "      <td>0</td>\n",
       "      <td>0</td>\n",
       "      <td>1</td>\n",
       "      <td>0</td>\n",
       "      <td>0</td>\n",
       "      <td>5</td>\n",
       "      <td>0</td>\n",
       "    </tr>\n",
       "    <tr>\n",
       "      <th>...</th>\n",
       "      <td>...</td>\n",
       "      <td>...</td>\n",
       "      <td>...</td>\n",
       "      <td>...</td>\n",
       "      <td>...</td>\n",
       "      <td>...</td>\n",
       "      <td>...</td>\n",
       "      <td>...</td>\n",
       "      <td>...</td>\n",
       "      <td>...</td>\n",
       "      <td>...</td>\n",
       "      <td>...</td>\n",
       "      <td>...</td>\n",
       "    </tr>\n",
       "    <tr>\n",
       "      <th>671</th>\n",
       "      <td>2</td>\n",
       "      <td>4</td>\n",
       "      <td>5</td>\n",
       "      <td>0</td>\n",
       "      <td>1</td>\n",
       "      <td>1</td>\n",
       "      <td>0</td>\n",
       "      <td>1</td>\n",
       "      <td>1</td>\n",
       "      <td>0</td>\n",
       "      <td>1</td>\n",
       "      <td>4</td>\n",
       "      <td>0</td>\n",
       "    </tr>\n",
       "    <tr>\n",
       "      <th>672</th>\n",
       "      <td>2</td>\n",
       "      <td>4</td>\n",
       "      <td>5</td>\n",
       "      <td>1</td>\n",
       "      <td>1</td>\n",
       "      <td>1</td>\n",
       "      <td>0</td>\n",
       "      <td>1</td>\n",
       "      <td>1</td>\n",
       "      <td>0</td>\n",
       "      <td>0</td>\n",
       "      <td>4</td>\n",
       "      <td>0</td>\n",
       "    </tr>\n",
       "    <tr>\n",
       "      <th>673</th>\n",
       "      <td>2</td>\n",
       "      <td>4</td>\n",
       "      <td>4</td>\n",
       "      <td>1</td>\n",
       "      <td>1</td>\n",
       "      <td>1</td>\n",
       "      <td>0</td>\n",
       "      <td>1</td>\n",
       "      <td>1</td>\n",
       "      <td>0</td>\n",
       "      <td>0</td>\n",
       "      <td>4</td>\n",
       "      <td>0</td>\n",
       "    </tr>\n",
       "    <tr>\n",
       "      <th>674</th>\n",
       "      <td>2</td>\n",
       "      <td>4</td>\n",
       "      <td>5</td>\n",
       "      <td>1</td>\n",
       "      <td>1</td>\n",
       "      <td>1</td>\n",
       "      <td>0</td>\n",
       "      <td>1</td>\n",
       "      <td>1</td>\n",
       "      <td>0</td>\n",
       "      <td>0</td>\n",
       "      <td>4</td>\n",
       "      <td>1</td>\n",
       "    </tr>\n",
       "    <tr>\n",
       "      <th>675</th>\n",
       "      <td>2</td>\n",
       "      <td>4</td>\n",
       "      <td>3</td>\n",
       "      <td>0</td>\n",
       "      <td>1</td>\n",
       "      <td>1</td>\n",
       "      <td>0</td>\n",
       "      <td>1</td>\n",
       "      <td>1</td>\n",
       "      <td>0</td>\n",
       "      <td>1</td>\n",
       "      <td>4</td>\n",
       "      <td>0</td>\n",
       "    </tr>\n",
       "  </tbody>\n",
       "</table>\n",
       "<p>676 rows × 13 columns</p>\n",
       "</div>"
      ],
      "text/plain": [
       "     house_type  rooms  bathrooms  condition  furnishing  area  dishwasher  \\\n",
       "0             0      1          2          1           2     2           1   \n",
       "1             0      1          2          1           0     1           0   \n",
       "2             0      1          1          0           0     1           1   \n",
       "3             2      1          2          1           1     2           1   \n",
       "4             0      1          2          0           0     1           0   \n",
       "..          ...    ...        ...        ...         ...   ...         ...   \n",
       "671           2      4          5          0           1     1           0   \n",
       "672           2      4          5          1           1     1           0   \n",
       "673           2      4          4          1           1     1           0   \n",
       "674           2      4          5          1           1     1           0   \n",
       "675           2      4          3          0           1     1           0   \n",
       "\n",
       "     prepaid_meter  dinning_area  air_conditioning  chandelier  state  estate  \n",
       "0                1             1                 0           1      3       0  \n",
       "1                0             1                 0           0      1       0  \n",
       "2                1             0                 0           0      0       0  \n",
       "3                1             1                 0           1      5       0  \n",
       "4                0             1                 0           0      5       0  \n",
       "..             ...           ...               ...         ...    ...     ...  \n",
       "671              1             1                 0           1      4       0  \n",
       "672              1             1                 0           0      4       0  \n",
       "673              1             1                 0           0      4       0  \n",
       "674              1             1                 0           0      4       1  \n",
       "675              1             1                 0           1      4       0  \n",
       "\n",
       "[676 rows x 13 columns]"
      ]
     },
     "execution_count": 35,
     "metadata": {},
     "output_type": "execute_result"
    }
   ],
   "source": [
    "x_vals = [f for f in data.columns if f != 'price']\n",
    "data[x_vals]"
   ]
  },
  {
   "cell_type": "markdown",
   "id": "13657fcb",
   "metadata": {},
   "source": [
    "## scaling my data using Standard Scaler"
   ]
  },
  {
   "cell_type": "code",
   "execution_count": 36,
   "id": "984c32f1",
   "metadata": {},
   "outputs": [],
   "source": [
    "from sklearn.preprocessing import StandardScaler as ss"
   ]
  },
  {
   "cell_type": "code",
   "execution_count": 37,
   "id": "776c8b63",
   "metadata": {},
   "outputs": [],
   "source": [
    "scaler = ss()"
   ]
  },
  {
   "cell_type": "code",
   "execution_count": 38,
   "id": "ef32cab9",
   "metadata": {},
   "outputs": [],
   "source": [
    "x = scaler.fit_transform(data[x_vals])"
   ]
  },
  {
   "cell_type": "code",
   "execution_count": 39,
   "id": "5205b102",
   "metadata": {},
   "outputs": [],
   "source": [
    "new_data = pd.DataFrame(x, columns = x_vals)"
   ]
  },
  {
   "cell_type": "code",
   "execution_count": 40,
   "id": "971591c2",
   "metadata": {},
   "outputs": [],
   "source": [
    "new_data.head()\n",
    "new_data['price'] = data.price.copy()"
   ]
  },
  {
   "cell_type": "code",
   "execution_count": 44,
   "id": "c5c1946c",
   "metadata": {},
   "outputs": [],
   "source": [
    "data.to_csv('C:/Users/EGBUNA/Jiji_web_data/jiji_house_data(engineered).csv', index =False)"
   ]
  },
  {
   "cell_type": "code",
   "execution_count": null,
   "id": "52c46772",
   "metadata": {},
   "outputs": [],
   "source": []
  }
 ],
 "metadata": {
  "kernelspec": {
   "display_name": "Python 3",
   "language": "python",
   "name": "python3"
  },
  "language_info": {
   "codemirror_mode": {
    "name": "ipython",
    "version": 3
   },
   "file_extension": ".py",
   "mimetype": "text/x-python",
   "name": "python",
   "nbconvert_exporter": "python",
   "pygments_lexer": "ipython3",
   "version": "3.8.8"
  }
 },
 "nbformat": 4,
 "nbformat_minor": 5
}
